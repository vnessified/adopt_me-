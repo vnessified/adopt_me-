{
 "cells": [
  {
   "cell_type": "markdown",
   "metadata": {
    "deletable": true,
    "editable": true
   },
   "source": [
    "# Shelter 🐶 🐱 Adoptions\n",
    "\n",
    "[Kaggle Competition](https://www.kaggle.com/c/shelter-animal-outcomes)"
   ]
  },
  {
   "cell_type": "code",
   "execution_count": 168,
   "metadata": {
    "collapsed": true,
    "deletable": true,
    "editable": true
   },
   "outputs": [],
   "source": [
    "reset -fs"
   ]
  },
  {
   "cell_type": "markdown",
   "metadata": {
    "collapsed": false,
    "deletable": true,
    "editable": true
   },
   "source": [
    "![pic](pr.JPG)"
   ]
  },
  {
   "cell_type": "markdown",
   "metadata": {
    "deletable": true,
    "editable": true
   },
   "source": [
    "### Imports"
   ]
  },
  {
   "cell_type": "code",
   "execution_count": 169,
   "metadata": {
    "collapsed": true,
    "deletable": true,
    "editable": true
   },
   "outputs": [],
   "source": [
    "from collections import Counter\n",
    "from fractions import Fraction\n",
    "from math import factorial\n",
    "import itertools\n",
    "import random\n",
    "\n",
    "import pandas as pd\n",
    "import numpy as np\n",
    "import scipy.stats as stats \n",
    "from scipy.stats import norm\n",
    "import statsmodels.api as sm\n",
    "import statsmodels.formula.api as smf\n",
    "import matplotlib.pyplot as plt\n",
    "import seaborn as sns\n",
    "\n",
    "plt.style.use('fivethirtyeight')\n",
    "sns.set_style(\"dark\", {'axes.grid' : False})\n",
    "%matplotlib inline\n",
    "%config InlineBackend.figure_format = 'retina'"
   ]
  },
  {
   "cell_type": "code",
   "execution_count": 170,
   "metadata": {
    "collapsed": false,
    "deletable": true,
    "editable": true
   },
   "outputs": [
    {
     "data": {
      "text/html": [
       "<div>\n",
       "<table border=\"1\" class=\"dataframe\">\n",
       "  <thead>\n",
       "    <tr style=\"text-align: right;\">\n",
       "      <th></th>\n",
       "      <th>AnimalID</th>\n",
       "      <th>Name</th>\n",
       "      <th>DateTime</th>\n",
       "      <th>OutcomeType</th>\n",
       "      <th>OutcomeSubtype</th>\n",
       "      <th>AnimalType</th>\n",
       "      <th>SexuponOutcome</th>\n",
       "      <th>AgeuponOutcome</th>\n",
       "      <th>Breed</th>\n",
       "      <th>Color</th>\n",
       "    </tr>\n",
       "  </thead>\n",
       "  <tbody>\n",
       "    <tr>\n",
       "      <th>0</th>\n",
       "      <td>A671945</td>\n",
       "      <td>Hambone</td>\n",
       "      <td>2014-02-12 18:22:00</td>\n",
       "      <td>Return_to_owner</td>\n",
       "      <td>NaN</td>\n",
       "      <td>Dog</td>\n",
       "      <td>Neutered Male</td>\n",
       "      <td>1 year</td>\n",
       "      <td>Shetland Sheepdog Mix</td>\n",
       "      <td>Brown/White</td>\n",
       "    </tr>\n",
       "    <tr>\n",
       "      <th>1</th>\n",
       "      <td>A656520</td>\n",
       "      <td>Emily</td>\n",
       "      <td>2013-10-13 12:44:00</td>\n",
       "      <td>Euthanasia</td>\n",
       "      <td>Suffering</td>\n",
       "      <td>Cat</td>\n",
       "      <td>Spayed Female</td>\n",
       "      <td>1 year</td>\n",
       "      <td>Domestic Shorthair Mix</td>\n",
       "      <td>Cream Tabby</td>\n",
       "    </tr>\n",
       "  </tbody>\n",
       "</table>\n",
       "</div>"
      ],
      "text/plain": [
       "  AnimalID     Name             DateTime      OutcomeType OutcomeSubtype  \\\n",
       "0  A671945  Hambone  2014-02-12 18:22:00  Return_to_owner            NaN   \n",
       "1  A656520    Emily  2013-10-13 12:44:00       Euthanasia      Suffering   \n",
       "\n",
       "  AnimalType SexuponOutcome AgeuponOutcome                   Breed  \\\n",
       "0        Dog  Neutered Male         1 year   Shetland Sheepdog Mix   \n",
       "1        Cat  Spayed Female         1 year  Domestic Shorthair Mix   \n",
       "\n",
       "         Color  \n",
       "0  Brown/White  \n",
       "1  Cream Tabby  "
      ]
     },
     "execution_count": 170,
     "metadata": {},
     "output_type": "execute_result"
    }
   ],
   "source": [
    "animals = pd.read_csv('data/train.csv')\n",
    "animals.head(2)"
   ]
  },
  {
   "cell_type": "code",
   "execution_count": 171,
   "metadata": {
    "collapsed": false,
    "deletable": true,
    "editable": true
   },
   "outputs": [
    {
     "data": {
      "text/plain": [
       "Index(['id', 'name', 'date_outcome', 'outcome', 'outcome_info', 'animal',\n",
       "       'sex_outcome', 'age', 'breed', 'color'],\n",
       "      dtype='object')"
      ]
     },
     "execution_count": 171,
     "metadata": {},
     "output_type": "execute_result"
    }
   ],
   "source": [
    "# rename columns\n",
    "animals.columns = [x.lower() for x in animals.columns]\n",
    "animals = animals.rename(index=str, \n",
    "                        columns={\n",
    "                               \"animalid\": \"id\",\n",
    "                               \"datetime\": \"date_outcome\",\n",
    "                               \"outcometype\": \"outcome\",\n",
    "                               \"outcomesubtype\": \"outcome_info\",\n",
    "                               \"animaltype\": \"animal\",\n",
    "                               \"sexuponoutcome\": \"sex_outcome\",\n",
    "                               \"ageuponoutcome\": \"age\"})\n",
    "animals.columns"
   ]
  },
  {
   "cell_type": "markdown",
   "metadata": {
    "deletable": true,
    "editable": true
   },
   "source": [
    "### EDA"
   ]
  },
  {
   "cell_type": "code",
   "execution_count": 172,
   "metadata": {
    "collapsed": false,
    "deletable": true,
    "editable": true,
    "scrolled": false
   },
   "outputs": [
    {
     "data": {
      "image/png": "[encoded data removed]",
      "text/plain": [
       "<matplotlib.figure.Figure at 0x11733b588>"
      ]
     },
     "metadata": {
      "image/png": {
       "height": 389,
       "width": 560
      }
     },
     "output_type": "display_data"
    }
   ],
   "source": [
    "plt.subplots(figsize=(8, 6))\n",
    "sns.countplot(x=\"outcome\", \n",
    "              hue=\"animal\", \n",
    "              data=animals, \n",
    "              alpha=0.85).set_title('Outcome Types (by Animal)');"
   ]
  },
  {
   "cell_type": "code",
   "execution_count": 173,
   "metadata": {
    "collapsed": false,
    "deletable": true,
    "editable": true
   },
   "outputs": [
    {
     "data": {
      "image/png": "[encoded data removed]",
      "text/plain": [
       "<matplotlib.figure.Figure at 0x116cbef60>"
      ]
     },
     "metadata": {
      "image/png": {
       "height": 389,
       "width": 565
      }
     },
     "output_type": "display_data"
    }
   ],
   "source": [
    "plt.subplots(figsize=(8, 6))\n",
    "sns.countplot(x=\"sex_outcome\", \n",
    "              data=animals, \n",
    "              alpha=0.85).set_title('Sex & Spayed/Neutered');"
   ]
  },
  {
   "cell_type": "code",
   "execution_count": 174,
   "metadata": {
    "collapsed": false,
    "deletable": true,
    "editable": true,
    "scrolled": false
   },
   "outputs": [
    {
     "data": {
      "image/png": "[encoded data removed]",
      "text/plain": [
       "<matplotlib.figure.Figure at 0x117ea04e0>"
      ]
     },
     "metadata": {
      "image/png": {
       "height": 389,
       "width": 685
      }
     },
     "output_type": "display_data"
    }
   ],
   "source": [
    "plt.subplots(figsize=(10, 6))\n",
    "sns.countplot(x=\"outcome\", \n",
    "              hue=\"sex_outcome\", \n",
    "              data=animals, \n",
    "              orient=\"v\",\n",
    "              alpha=0.85).set_title('Outcome Types (by Sex & Spayed/Neutered)');"
   ]
  },
  {
   "cell_type": "code",
   "execution_count": 175,
   "metadata": {
    "collapsed": false,
    "deletable": true,
    "editable": true,
    "scrolled": false
   },
   "outputs": [
    {
     "data": {
      "image/png": "[encoded data removed]",
      "text/plain": [
       "<matplotlib.figure.Figure at 0x1183ac668>"
      ]
     },
     "metadata": {
      "image/png": {
       "height": 824,
       "width": 835
      }
     },
     "output_type": "display_data"
    }
   ],
   "source": [
    "plt.subplots(figsize=(12,14))\n",
    "sns.countplot(y=\"age\", data=animals).set_title('Age');"
   ]
  },
  {
   "cell_type": "markdown",
   "metadata": {
    "deletable": true,
    "editable": true
   },
   "source": [
    "### Animal\n",
    "Make new column \"dog\"... 0 = 🐱, 1 = 🐶"
   ]
  },
  {
   "cell_type": "code",
   "execution_count": 176,
   "metadata": {
    "collapsed": false,
    "deletable": true,
    "editable": true
   },
   "outputs": [
    {
     "data": {
      "text/plain": [
       "Dog    15595\n",
       "Cat    11134\n",
       "Name: animal, dtype: int64"
      ]
     },
     "execution_count": 176,
     "metadata": {},
     "output_type": "execute_result"
    }
   ],
   "source": [
    "animals.animal.value_counts()"
   ]
  },
  {
   "cell_type": "code",
   "execution_count": 177,
   "metadata": {
    "collapsed": true,
    "deletable": true,
    "editable": true
   },
   "outputs": [],
   "source": [
    "animals['dog'] = animals.animal.apply(lambda row: 0 if 'Cat' in row else 1)"
   ]
  },
  {
   "cell_type": "code",
   "execution_count": 178,
   "metadata": {
    "collapsed": false,
    "deletable": true,
    "editable": true
   },
   "outputs": [
    {
     "data": {
      "text/plain": [
       "1    15595\n",
       "0    11134\n",
       "Name: dog, dtype: int64"
      ]
     },
     "execution_count": 178,
     "metadata": {},
     "output_type": "execute_result"
    }
   ],
   "source": [
    "animals.dog.value_counts()"
   ]
  },
  {
   "cell_type": "markdown",
   "metadata": {
    "deletable": true,
    "editable": true
   },
   "source": [
    "### Outcome\n",
    "Keeping it simple and making this binary... 0 = not adopted 😢, 1 = adopted 😁"
   ]
  },
  {
   "cell_type": "code",
   "execution_count": 179,
   "metadata": {
    "collapsed": false,
    "deletable": true,
    "editable": true
   },
   "outputs": [
    {
     "data": {
      "text/plain": [
       "Adoption           10769\n",
       "Transfer            9422\n",
       "Return_to_owner     4786\n",
       "Euthanasia          1555\n",
       "Died                 197\n",
       "Name: outcome, dtype: int64"
      ]
     },
     "execution_count": 179,
     "metadata": {},
     "output_type": "execute_result"
    }
   ],
   "source": [
    "animals.outcome.value_counts(dropna=False)"
   ]
  },
  {
   "cell_type": "code",
   "execution_count": 180,
   "metadata": {
    "collapsed": false,
    "deletable": true,
    "editable": true
   },
   "outputs": [],
   "source": [
    "animals['adopted'] = animals.outcome.apply(lambda row: 1 if row == 'Adoption' else 0)"
   ]
  },
  {
   "cell_type": "code",
   "execution_count": 181,
   "metadata": {
    "collapsed": false,
    "deletable": true,
    "editable": true
   },
   "outputs": [
    {
     "data": {
      "text/plain": [
       "0    15960\n",
       "1    10769\n",
       "Name: adopted, dtype: int64"
      ]
     },
     "execution_count": 181,
     "metadata": {},
     "output_type": "execute_result"
    }
   ],
   "source": [
    "animals.adopted.value_counts(dropna=False)"
   ]
  },
  {
   "cell_type": "markdown",
   "metadata": {
    "deletable": true,
    "editable": true
   },
   "source": [
    "### Hypothesis Test   \n",
    "#### Null hypothesis is no difference between dog and cat adoptions\n",
    "$ H_0:$ 🐶 adopted = 🐱 adopted\n",
    "\n",
    "#### Alternative hypothesis is there are more dogs adopted than cats\n",
    "$ H_a:$ 🐶 adopted > 🐱 adopted"
   ]
  },
  {
   "cell_type": "code",
   "execution_count": 182,
   "metadata": {
    "collapsed": false,
    "deletable": true,
    "editable": true
   },
   "outputs": [
    {
     "name": "stdout",
     "output_type": "stream",
     "text": [
      "p-value = 0.000\n"
     ]
    }
   ],
   "source": [
    "n = animals.shape[0]\n",
    "P_dog = animals[animals.dog == 1].shape[0]/n\n",
    "P_cat = animals[animals.dog == 0].shape[0]/n\n",
    "\n",
    "# get point estimate - difference between dog and cat \n",
    "pt_est = P_dog - P_cat\n",
    "\n",
    "# standard deviation \n",
    "std = np.sqrt((P_dog*(1-P_dog)/n) + (P_cat*(1-P_cat)/n))\n",
    "\n",
    "# z-score\n",
    "z = pt_est / std\n",
    "\n",
    "# p-value\n",
    "pval = 1 - stats.norm.cdf(z)\n",
    "\n",
    "print(\"p-value = {:.3f}\".format(pval))"
   ]
  },
  {
   "cell_type": "markdown",
   "metadata": {
    "deletable": true,
    "editable": true
   },
   "source": [
    "We reject the null hypothesis because the p-value is less than α — the significance cuttoff of 0.05 since the alternative hypothesis states there are more dogs adopted than cats we look at the right tail. We never accept the alternative hypothesis but according to this analysis it's logical to conclude that more dogs are adopted than cats."
   ]
  },
  {
   "cell_type": "code",
   "execution_count": 183,
   "metadata": {
    "collapsed": false,
    "deletable": true,
    "editable": true
   },
   "outputs": [
    {
     "name": "stdout",
     "output_type": "stream",
     "text": [
      "Optimization terminated successfully.\n",
      "         Current function value: 0.673620\n",
      "         Iterations 4\n"
     ]
    },
    {
     "data": {
      "text/html": [
       "<table class=\"simpletable\">\n",
       "<caption>Logit Regression Results</caption>\n",
       "<tr>\n",
       "  <th>Dep. Variable:</th>      <td>adopted</td>     <th>  No. Observations:  </th>  <td> 26729</td>  \n",
       "</tr>\n",
       "<tr>\n",
       "  <th>Model:</th>               <td>Logit</td>      <th>  Df Residuals:      </th>  <td> 26727</td>  \n",
       "</tr>\n",
       "<tr>\n",
       "  <th>Method:</th>               <td>MLE</td>       <th>  Df Model:          </th>  <td>     1</td>  \n",
       "</tr>\n",
       "<tr>\n",
       "  <th>Date:</th>          <td>Fri, 10 Mar 2017</td> <th>  Pseudo R-squ.:     </th> <td>0.0008133</td>\n",
       "</tr>\n",
       "<tr>\n",
       "  <th>Time:</th>              <td>12:41:43</td>     <th>  Log-Likelihood:    </th> <td> -18005.</td> \n",
       "</tr>\n",
       "<tr>\n",
       "  <th>converged:</th>           <td>True</td>       <th>  LL-Null:           </th> <td> -18020.</td> \n",
       "</tr>\n",
       "<tr>\n",
       "  <th> </th>                      <td> </td>        <th>  LLR p-value:       </th> <td>6.165e-08</td>\n",
       "</tr>\n",
       "</table>\n",
       "<table class=\"simpletable\">\n",
       "<tr>\n",
       "      <td></td>         <th>coef</th>     <th>std err</th>      <th>z</th>      <th>P>|z|</th> <th>[95.0% Conf. Int.]</th> \n",
       "</tr>\n",
       "<tr>\n",
       "  <th>Intercept</th> <td>   -0.4739</td> <td>    0.019</td> <td>  -24.317</td> <td> 0.000</td> <td>   -0.512    -0.436</td>\n",
       "</tr>\n",
       "<tr>\n",
       "  <th>dog</th>       <td>    0.1372</td> <td>    0.025</td> <td>    5.408</td> <td> 0.000</td> <td>    0.087     0.187</td>\n",
       "</tr>\n",
       "</table>"
      ],
      "text/plain": [
       "<class 'statsmodels.iolib.summary.Summary'>\n",
       "\"\"\"\n",
       "                           Logit Regression Results                           \n",
       "==============================================================================\n",
       "Dep. Variable:                adopted   No. Observations:                26729\n",
       "Model:                          Logit   Df Residuals:                    26727\n",
       "Method:                           MLE   Df Model:                            1\n",
       "Date:                Fri, 10 Mar 2017   Pseudo R-squ.:               0.0008133\n",
       "Time:                        12:41:43   Log-Likelihood:                -18005.\n",
       "converged:                       True   LL-Null:                       -18020.\n",
       "                                        LLR p-value:                 6.165e-08\n",
       "==============================================================================\n",
       "                 coef    std err          z      P>|z|      [95.0% Conf. Int.]\n",
       "------------------------------------------------------------------------------\n",
       "Intercept     -0.4739      0.019    -24.317      0.000        -0.512    -0.436\n",
       "dog            0.1372      0.025      5.408      0.000         0.087     0.187\n",
       "==============================================================================\n",
       "\"\"\""
      ]
     },
     "execution_count": 183,
     "metadata": {},
     "output_type": "execute_result"
    }
   ],
   "source": [
    "model_dog = smf.logit(formula='adopted ~ dog', data=animals).fit()\n",
    "model_dog.summary()"
   ]
  },
  {
   "cell_type": "markdown",
   "metadata": {
    "deletable": true,
    "editable": true
   },
   "source": [
    "### Name\n",
    "\n",
    "Some animals come into the shelter with no name 😥 !! \n",
    "The presence of name may be a predictor variable — making a new column for this as well as top 10 most popular names."
   ]
  },
  {
   "cell_type": "code",
   "execution_count": 184,
   "metadata": {
    "collapsed": false,
    "deletable": true,
    "editable": true,
    "scrolled": true
   },
   "outputs": [
    {
     "data": {
      "text/plain": [
       "6375"
      ]
     },
     "execution_count": 184,
     "metadata": {},
     "output_type": "execute_result"
    }
   ],
   "source": [
    "# I guess people are not unique when naming their pets\n",
    "len(animals.name.unique())"
   ]
  },
  {
   "cell_type": "code",
   "execution_count": 185,
   "metadata": {
    "collapsed": false,
    "deletable": true,
    "editable": true
   },
   "outputs": [
    {
     "data": {
      "text/plain": [
       "NaN         7691\n",
       "Max          136\n",
       "Bella        135\n",
       "Charlie      107\n",
       "Daisy        106\n",
       "Lucy          94\n",
       "Buddy         87\n",
       "Princess      86\n",
       "Rocky         85\n",
       "Luna          68\n",
       "Jack          66\n",
       "Name: name, dtype: int64"
      ]
     },
     "execution_count": 185,
     "metadata": {},
     "output_type": "execute_result"
    }
   ],
   "source": [
    "animals.name.value_counts(dropna=False).head(11)"
   ]
  },
  {
   "cell_type": "code",
   "execution_count": 186,
   "metadata": {
    "collapsed": false,
    "deletable": true,
    "editable": true,
    "scrolled": true
   },
   "outputs": [
    {
     "data": {
      "text/plain": [
       "unknown     7691\n",
       "Max          136\n",
       "Bella        135\n",
       "Charlie      107\n",
       "Daisy        106\n",
       "Lucy          94\n",
       "Buddy         87\n",
       "Princess      86\n",
       "Rocky         85\n",
       "Luna          68\n",
       "Name: name, dtype: int64"
      ]
     },
     "execution_count": 186,
     "metadata": {},
     "output_type": "execute_result"
    }
   ],
   "source": [
    "# replace NaN with \"unknown\"\n",
    "animals.name.replace(np.nan, 'unknown', inplace=True)\n",
    "animals.name.value_counts(dropna=False).head(10)"
   ]
  },
  {
   "cell_type": "code",
   "execution_count": 187,
   "metadata": {
    "collapsed": true,
    "deletable": true,
    "editable": true
   },
   "outputs": [],
   "source": [
    "# create has_name column - 0 no name, 1 name\n",
    "animals['has_name'] = animals.name.apply(lambda row: 0 if 'unknown' in row else 1)"
   ]
  },
  {
   "cell_type": "code",
   "execution_count": 188,
   "metadata": {
    "collapsed": false,
    "deletable": true,
    "editable": true,
    "scrolled": true
   },
   "outputs": [],
   "source": [
    "top10 = [name for name in animals.name.value_counts().head(11).index.tolist() if name != 'unknown']\n",
    "\n",
    "def popular_name(row):\n",
    "    \"\"\"returns indicator variable of top 10 most common animal names\"\"\"\n",
    "    if row in top10:\n",
    "        return 1 # True\n",
    "    else:\n",
    "        return 0 # False\n",
    "\n",
    "#assert popular_name('Jack') == 1\n",
    "assert popular_name('Jack')"
   ]
  },
  {
   "cell_type": "code",
   "execution_count": 189,
   "metadata": {
    "collapsed": false,
    "deletable": true,
    "editable": true
   },
   "outputs": [],
   "source": [
    "animals['pop_name'] = animals.name.apply(popular_name)"
   ]
  },
  {
   "cell_type": "code",
   "execution_count": 190,
   "metadata": {
    "collapsed": false,
    "deletable": true,
    "editable": true,
    "scrolled": true
   },
   "outputs": [
    {
     "data": {
      "text/plain": [
       "0    25759\n",
       "1      970\n",
       "Name: pop_name, dtype: int64"
      ]
     },
     "execution_count": 190,
     "metadata": {},
     "output_type": "execute_result"
    }
   ],
   "source": [
    "animals.pop_name.value_counts()"
   ]
  },
  {
   "cell_type": "code",
   "execution_count": 191,
   "metadata": {
    "collapsed": false,
    "deletable": true,
    "editable": true
   },
   "outputs": [
    {
     "name": "stdout",
     "output_type": "stream",
     "text": [
      "Optimization terminated successfully.\n",
      "         Current function value: 0.642990\n",
      "         Iterations 5\n"
     ]
    },
    {
     "data": {
      "text/html": [
       "<table class=\"simpletable\">\n",
       "<caption>Logit Regression Results</caption>\n",
       "<tr>\n",
       "  <th>Dep. Variable:</th>      <td>adopted</td>     <th>  No. Observations:  </th>  <td> 26729</td> \n",
       "</tr>\n",
       "<tr>\n",
       "  <th>Model:</th>               <td>Logit</td>      <th>  Df Residuals:      </th>  <td> 26725</td> \n",
       "</tr>\n",
       "<tr>\n",
       "  <th>Method:</th>               <td>MLE</td>       <th>  Df Model:          </th>  <td>     3</td> \n",
       "</tr>\n",
       "<tr>\n",
       "  <th>Date:</th>          <td>Fri, 10 Mar 2017</td> <th>  Pseudo R-squ.:     </th>  <td>0.04625</td>\n",
       "</tr>\n",
       "<tr>\n",
       "  <th>Time:</th>              <td>12:41:52</td>     <th>  Log-Likelihood:    </th> <td> -17186.</td>\n",
       "</tr>\n",
       "<tr>\n",
       "  <th>converged:</th>           <td>True</td>       <th>  LL-Null:           </th> <td> -18020.</td>\n",
       "</tr>\n",
       "<tr>\n",
       "  <th> </th>                      <td> </td>        <th>  LLR p-value:       </th>  <td> 0.000</td> \n",
       "</tr>\n",
       "</table>\n",
       "<table class=\"simpletable\">\n",
       "<tr>\n",
       "      <td></td>         <th>coef</th>     <th>std err</th>      <th>z</th>      <th>P>|z|</th> <th>[95.0% Conf. Int.]</th> \n",
       "</tr>\n",
       "<tr>\n",
       "  <th>Intercept</th> <td>   -1.2119</td> <td>    0.029</td> <td>  -41.753</td> <td> 0.000</td> <td>   -1.269    -1.155</td>\n",
       "</tr>\n",
       "<tr>\n",
       "  <th>dog</th>       <td>   -0.1922</td> <td>    0.028</td> <td>   -6.974</td> <td> 0.000</td> <td>   -0.246    -0.138</td>\n",
       "</tr>\n",
       "<tr>\n",
       "  <th>has_name</th>  <td>    1.2545</td> <td>    0.033</td> <td>   38.229</td> <td> 0.000</td> <td>    1.190     1.319</td>\n",
       "</tr>\n",
       "<tr>\n",
       "  <th>pop_name</th>  <td>   -0.0446</td> <td>    0.066</td> <td>   -0.673</td> <td> 0.501</td> <td>   -0.175     0.085</td>\n",
       "</tr>\n",
       "</table>"
      ],
      "text/plain": [
       "<class 'statsmodels.iolib.summary.Summary'>\n",
       "\"\"\"\n",
       "                           Logit Regression Results                           \n",
       "==============================================================================\n",
       "Dep. Variable:                adopted   No. Observations:                26729\n",
       "Model:                          Logit   Df Residuals:                    26725\n",
       "Method:                           MLE   Df Model:                            3\n",
       "Date:                Fri, 10 Mar 2017   Pseudo R-squ.:                 0.04625\n",
       "Time:                        12:41:52   Log-Likelihood:                -17186.\n",
       "converged:                       True   LL-Null:                       -18020.\n",
       "                                        LLR p-value:                     0.000\n",
       "==============================================================================\n",
       "                 coef    std err          z      P>|z|      [95.0% Conf. Int.]\n",
       "------------------------------------------------------------------------------\n",
       "Intercept     -1.2119      0.029    -41.753      0.000        -1.269    -1.155\n",
       "dog           -0.1922      0.028     -6.974      0.000        -0.246    -0.138\n",
       "has_name       1.2545      0.033     38.229      0.000         1.190     1.319\n",
       "pop_name      -0.0446      0.066     -0.673      0.501        -0.175     0.085\n",
       "==============================================================================\n",
       "\"\"\""
      ]
     },
     "execution_count": 191,
     "metadata": {},
     "output_type": "execute_result"
    }
   ],
   "source": [
    "model_names = smf.logit(formula='adopted ~ dog + has_name + pop_name', data=animals).fit()\n",
    "model_names.summary()"
   ]
  },
  {
   "cell_type": "markdown",
   "metadata": {
    "deletable": true,
    "editable": true
   },
   "source": [
    "### Sex and spayed/neutered\n",
    "Create new columns for sex, spayed/neutered, also drop unknowns."
   ]
  },
  {
   "cell_type": "code",
   "execution_count": 192,
   "metadata": {
    "collapsed": false,
    "deletable": true,
    "editable": true,
    "scrolled": true
   },
   "outputs": [
    {
     "data": {
      "text/plain": [
       "Neutered Male    9779\n",
       "Spayed Female    8820\n",
       "Intact Male      3525\n",
       "Intact Female    3511\n",
       "Unknown          1093\n",
       "NaN                 1\n",
       "Name: sex_outcome, dtype: int64"
      ]
     },
     "execution_count": 192,
     "metadata": {},
     "output_type": "execute_result"
    }
   ],
   "source": [
    "animals.sex_outcome.value_counts(dropna=False)"
   ]
  },
  {
   "cell_type": "code",
   "execution_count": 193,
   "metadata": {
    "collapsed": false,
    "deletable": true,
    "editable": true
   },
   "outputs": [],
   "source": [
    "# make \"Unknown\" NaN for dropping\n",
    "animals.sex_outcome.replace('Unknown', np.nan, inplace=True)"
   ]
  },
  {
   "cell_type": "code",
   "execution_count": 194,
   "metadata": {
    "collapsed": false,
    "deletable": true,
    "editable": true,
    "scrolled": true
   },
   "outputs": [
    {
     "data": {
      "text/plain": [
       "(26729, 14)"
      ]
     },
     "execution_count": 194,
     "metadata": {},
     "output_type": "execute_result"
    }
   ],
   "source": [
    "animals.shape"
   ]
  },
  {
   "cell_type": "code",
   "execution_count": 195,
   "metadata": {
    "collapsed": false,
    "deletable": true,
    "editable": true
   },
   "outputs": [],
   "source": [
    "animals.dropna(subset=['sex_outcome'],inplace=True)\n",
    "animals.reset_index(drop=True, inplace=True)"
   ]
  },
  {
   "cell_type": "code",
   "execution_count": 196,
   "metadata": {
    "collapsed": false,
    "deletable": true,
    "editable": true
   },
   "outputs": [
    {
     "data": {
      "text/plain": [
       "(25635, 14)"
      ]
     },
     "execution_count": 196,
     "metadata": {},
     "output_type": "execute_result"
    }
   ],
   "source": [
    "animals.shape"
   ]
  },
  {
   "cell_type": "code",
   "execution_count": 197,
   "metadata": {
    "collapsed": false,
    "deletable": true,
    "editable": true
   },
   "outputs": [],
   "source": [
    "# create new columns for sex, spayed_neutered\n",
    "animals['sex'] = animals.sex_outcome.apply(lambda row: 1 if 'Female' in row else 0)\n",
    "animals['spay_neutered'] = animals.sex_outcome.apply(lambda row: 0 if 'Intact' in row else 1)"
   ]
  },
  {
   "cell_type": "code",
   "execution_count": 198,
   "metadata": {
    "collapsed": false,
    "deletable": true,
    "editable": true
   },
   "outputs": [
    {
     "data": {
      "text/plain": [
       "0    13304\n",
       "1    12331\n",
       "Name: sex, dtype: int64"
      ]
     },
     "execution_count": 198,
     "metadata": {},
     "output_type": "execute_result"
    }
   ],
   "source": [
    "animals.sex.value_counts(dropna=False)"
   ]
  },
  {
   "cell_type": "code",
   "execution_count": 199,
   "metadata": {
    "collapsed": false,
    "deletable": true,
    "editable": true
   },
   "outputs": [
    {
     "data": {
      "text/plain": [
       "1    18599\n",
       "0     7036\n",
       "Name: spay_neutered, dtype: int64"
      ]
     },
     "execution_count": 199,
     "metadata": {},
     "output_type": "execute_result"
    }
   ],
   "source": [
    "animals.spay_neutered.value_counts(dropna=False)"
   ]
  },
  {
   "cell_type": "code",
   "execution_count": 200,
   "metadata": {
    "collapsed": false,
    "deletable": true,
    "editable": true
   },
   "outputs": [
    {
     "name": "stdout",
     "output_type": "stream",
     "text": [
      "Optimization terminated successfully.\n",
      "         Current function value: 0.544165\n",
      "         Iterations 7\n"
     ]
    },
    {
     "data": {
      "text/html": [
       "<table class=\"simpletable\">\n",
       "<caption>Logit Regression Results</caption>\n",
       "<tr>\n",
       "  <th>Dep. Variable:</th>      <td>adopted</td>     <th>  No. Observations:  </th>  <td> 25635</td> \n",
       "</tr>\n",
       "<tr>\n",
       "  <th>Model:</th>               <td>Logit</td>      <th>  Df Residuals:      </th>  <td> 25629</td> \n",
       "</tr>\n",
       "<tr>\n",
       "  <th>Method:</th>               <td>MLE</td>       <th>  Df Model:          </th>  <td>     5</td> \n",
       "</tr>\n",
       "<tr>\n",
       "  <th>Date:</th>          <td>Fri, 10 Mar 2017</td> <th>  Pseudo R-squ.:     </th>  <td>0.2001</td> \n",
       "</tr>\n",
       "<tr>\n",
       "  <th>Time:</th>              <td>12:42:06</td>     <th>  Log-Likelihood:    </th> <td> -13950.</td>\n",
       "</tr>\n",
       "<tr>\n",
       "  <th>converged:</th>           <td>True</td>       <th>  LL-Null:           </th> <td> -17440.</td>\n",
       "</tr>\n",
       "<tr>\n",
       "  <th> </th>                      <td> </td>        <th>  LLR p-value:       </th>  <td> 0.000</td> \n",
       "</tr>\n",
       "</table>\n",
       "<table class=\"simpletable\">\n",
       "<tr>\n",
       "        <td></td>           <th>coef</th>     <th>std err</th>      <th>z</th>      <th>P>|z|</th> <th>[95.0% Conf. Int.]</th> \n",
       "</tr>\n",
       "<tr>\n",
       "  <th>Intercept</th>     <td>   -2.8248</td> <td>    0.059</td> <td>  -47.730</td> <td> 0.000</td> <td>   -2.941    -2.709</td>\n",
       "</tr>\n",
       "<tr>\n",
       "  <th>dog</th>           <td>   -0.6199</td> <td>    0.032</td> <td>  -19.629</td> <td> 0.000</td> <td>   -0.682    -0.558</td>\n",
       "</tr>\n",
       "<tr>\n",
       "  <th>has_name</th>      <td>    0.0546</td> <td>    0.041</td> <td>    1.344</td> <td> 0.179</td> <td>   -0.025     0.134</td>\n",
       "</tr>\n",
       "<tr>\n",
       "  <th>pop_name</th>      <td>   -0.1188</td> <td>    0.070</td> <td>   -1.694</td> <td> 0.090</td> <td>   -0.256     0.019</td>\n",
       "</tr>\n",
       "<tr>\n",
       "  <th>sex</th>           <td>    0.2101</td> <td>    0.029</td> <td>    7.270</td> <td> 0.000</td> <td>    0.153     0.267</td>\n",
       "</tr>\n",
       "<tr>\n",
       "  <th>spay_neutered</th> <td>    3.3479</td> <td>    0.060</td> <td>   55.512</td> <td> 0.000</td> <td>    3.230     3.466</td>\n",
       "</tr>\n",
       "</table>"
      ],
      "text/plain": [
       "<class 'statsmodels.iolib.summary.Summary'>\n",
       "\"\"\"\n",
       "                           Logit Regression Results                           \n",
       "==============================================================================\n",
       "Dep. Variable:                adopted   No. Observations:                25635\n",
       "Model:                          Logit   Df Residuals:                    25629\n",
       "Method:                           MLE   Df Model:                            5\n",
       "Date:                Fri, 10 Mar 2017   Pseudo R-squ.:                  0.2001\n",
       "Time:                        12:42:06   Log-Likelihood:                -13950.\n",
       "converged:                       True   LL-Null:                       -17440.\n",
       "                                        LLR p-value:                     0.000\n",
       "=================================================================================\n",
       "                    coef    std err          z      P>|z|      [95.0% Conf. Int.]\n",
       "---------------------------------------------------------------------------------\n",
       "Intercept        -2.8248      0.059    -47.730      0.000        -2.941    -2.709\n",
       "dog              -0.6199      0.032    -19.629      0.000        -0.682    -0.558\n",
       "has_name          0.0546      0.041      1.344      0.179        -0.025     0.134\n",
       "pop_name         -0.1188      0.070     -1.694      0.090        -0.256     0.019\n",
       "sex               0.2101      0.029      7.270      0.000         0.153     0.267\n",
       "spay_neutered     3.3479      0.060     55.512      0.000         3.230     3.466\n",
       "=================================================================================\n",
       "\"\"\""
      ]
     },
     "execution_count": 200,
     "metadata": {},
     "output_type": "execute_result"
    }
   ],
   "source": [
    "# woohoo Pseudo R-squared is 0.2\n",
    "model_sex = smf.logit(formula='adopted ~ dog + has_name + pop_name + sex + spay_neutered', data=animals).fit()\n",
    "model_sex.summary()"
   ]
  },
  {
   "cell_type": "markdown",
   "metadata": {
    "deletable": true,
    "editable": true
   },
   "source": [
    "### Date of outcome\n",
    "Convert string date to actual datetime format and create columns for time of day, weekday, month, season, and year."
   ]
  },
  {
   "cell_type": "code",
   "execution_count": 201,
   "metadata": {
    "collapsed": false,
    "deletable": true,
    "editable": true
   },
   "outputs": [],
   "source": [
    "# creates new column with datetime format of string\n",
    "animals['datetime'] = pd.to_datetime(animals['date_outcome'], infer_datetime_format=True)"
   ]
  },
  {
   "cell_type": "code",
   "execution_count": 202,
   "metadata": {
    "collapsed": true,
    "deletable": true,
    "editable": true
   },
   "outputs": [],
   "source": [
    "# new column for day: 0 = Monday, 6 = Sunday \n",
    "animals['day'] = animals['datetime'].apply(lambda row: row.weekday())\n",
    "\n",
    "# new column for months: 1-12\n",
    "animals['month'] = animals['datetime'].apply(lambda row: row.month)\n",
    "\n",
    "# new column for years: 2013-2016\n",
    "animals['year'] = animals['datetime'].apply(lambda row: row.year)\n",
    "\n",
    "# new column for morning, afternoon, evening\n",
    "animals['hour'] = animals['datetime'].apply(lambda row: row.hour)\n",
    "\n",
    "# won't do anything with this - will just use to investigate when hour = 0\n",
    "animals['minutes'] = animals['datetime'].apply(lambda row: row.minute)"
   ]
  },
  {
   "cell_type": "code",
   "execution_count": 203,
   "metadata": {
    "collapsed": false,
    "deletable": true,
    "editable": true,
    "scrolled": false
   },
   "outputs": [
    {
     "data": {
      "text/plain": [
       "0      364\n",
       "5        1\n",
       "6        9\n",
       "7      109\n",
       "8      292\n",
       "9     1057\n",
       "10     375\n",
       "11    1997\n",
       "12    2442\n",
       "13    2373\n",
       "14    2670\n",
       "15    2573\n",
       "16    2612\n",
       "17    4058\n",
       "18    3562\n",
       "19    1024\n",
       "20      74\n",
       "21      18\n",
       "22       5\n",
       "23      20\n",
       "Name: hour, dtype: int64"
      ]
     },
     "execution_count": 203,
     "metadata": {},
     "output_type": "execute_result"
    }
   ],
   "source": [
    "animals.hour.value_counts(dropna=False).sort_index()"
   ]
  },
  {
   "cell_type": "code",
   "execution_count": 204,
   "metadata": {
    "collapsed": false,
    "deletable": true,
    "editable": true,
    "scrolled": false
   },
   "outputs": [
    {
     "data": {
      "text/plain": [
       "2015-08-11 00:00:00    19\n",
       "2015-11-17 00:00:00    17\n",
       "2015-07-02 00:00:00    13\n",
       "2015-04-02 00:00:00    11\n",
       "2014-08-31 09:00:00    10\n",
       "2015-11-23 00:00:00     9\n",
       "2016-02-15 00:00:00     9\n",
       "2015-09-11 00:00:00     9\n",
       "2015-09-01 00:00:00     8\n",
       "2015-11-08 00:00:00     8\n",
       "Name: datetime, dtype: int64"
      ]
     },
     "execution_count": 204,
     "metadata": {},
     "output_type": "execute_result"
    }
   ],
   "source": [
    "# 00:00:00 is ambiguous and could be midnight or first thing in the morning \n",
    "# or even be a missing/wrongly entered value \n",
    "animals.datetime.value_counts().head(10)"
   ]
  },
  {
   "cell_type": "code",
   "execution_count": 205,
   "metadata": {
    "collapsed": false,
    "deletable": true,
    "editable": true,
    "scrolled": true
   },
   "outputs": [
    {
     "data": {
      "text/html": [
       "<div>\n",
       "<table border=\"1\" class=\"dataframe\">\n",
       "  <thead>\n",
       "    <tr style=\"text-align: right;\">\n",
       "      <th></th>\n",
       "      <th>datetime</th>\n",
       "      <th>hour</th>\n",
       "      <th>minutes</th>\n",
       "    </tr>\n",
       "  </thead>\n",
       "  <tbody>\n",
       "    <tr>\n",
       "      <th>36</th>\n",
       "      <td>2015-08-11</td>\n",
       "      <td>0</td>\n",
       "      <td>0</td>\n",
       "    </tr>\n",
       "    <tr>\n",
       "      <th>110</th>\n",
       "      <td>2015-11-05</td>\n",
       "      <td>0</td>\n",
       "      <td>0</td>\n",
       "    </tr>\n",
       "    <tr>\n",
       "      <th>167</th>\n",
       "      <td>2015-09-01</td>\n",
       "      <td>0</td>\n",
       "      <td>0</td>\n",
       "    </tr>\n",
       "    <tr>\n",
       "      <th>173</th>\n",
       "      <td>2015-12-22</td>\n",
       "      <td>0</td>\n",
       "      <td>0</td>\n",
       "    </tr>\n",
       "    <tr>\n",
       "      <th>187</th>\n",
       "      <td>2015-09-01</td>\n",
       "      <td>0</td>\n",
       "      <td>0</td>\n",
       "    </tr>\n",
       "    <tr>\n",
       "      <th>239</th>\n",
       "      <td>2015-08-05</td>\n",
       "      <td>0</td>\n",
       "      <td>0</td>\n",
       "    </tr>\n",
       "    <tr>\n",
       "      <th>242</th>\n",
       "      <td>2016-02-07</td>\n",
       "      <td>0</td>\n",
       "      <td>0</td>\n",
       "    </tr>\n",
       "    <tr>\n",
       "      <th>278</th>\n",
       "      <td>2015-11-05</td>\n",
       "      <td>0</td>\n",
       "      <td>0</td>\n",
       "    </tr>\n",
       "    <tr>\n",
       "      <th>295</th>\n",
       "      <td>2015-11-23</td>\n",
       "      <td>0</td>\n",
       "      <td>0</td>\n",
       "    </tr>\n",
       "    <tr>\n",
       "      <th>395</th>\n",
       "      <td>2015-11-24</td>\n",
       "      <td>0</td>\n",
       "      <td>0</td>\n",
       "    </tr>\n",
       "  </tbody>\n",
       "</table>\n",
       "</div>"
      ],
      "text/plain": [
       "      datetime  hour  minutes\n",
       "36  2015-08-11     0        0\n",
       "110 2015-11-05     0        0\n",
       "167 2015-09-01     0        0\n",
       "173 2015-12-22     0        0\n",
       "187 2015-09-01     0        0\n",
       "239 2015-08-05     0        0\n",
       "242 2016-02-07     0        0\n",
       "278 2015-11-05     0        0\n",
       "295 2015-11-23     0        0\n",
       "395 2015-11-24     0        0"
      ]
     },
     "execution_count": 205,
     "metadata": {},
     "output_type": "execute_result"
    }
   ],
   "source": [
    "# checking out 00:00:00 be\n",
    "animals[['datetime', 'hour', 'minutes']][(animals['hour']==0) & (animals['minutes']==0)].head(10)"
   ]
  },
  {
   "cell_type": "code",
   "execution_count": 206,
   "metadata": {
    "collapsed": false,
    "deletable": true,
    "editable": true,
    "scrolled": true
   },
   "outputs": [
    {
     "name": "stdout",
     "output_type": "stream",
     "text": [
      "(361, 22)\n",
      "(3, 22)\n"
     ]
    }
   ],
   "source": [
    "# so for hour = 0 there's only 3 rows where hour = 0 and minutes !=0 - I'll drop these rows\n",
    "print(animals[(animals['hour']==0) & (animals['minutes']==0)].shape)\n",
    "print(animals[(animals['hour']==0) & (animals['minutes']!=0)].shape)"
   ]
  },
  {
   "cell_type": "code",
   "execution_count": 207,
   "metadata": {
    "collapsed": true,
    "deletable": true,
    "editable": true
   },
   "outputs": [],
   "source": [
    "# make \"Unknown\" NaN for dropping\n",
    "animals.hour.replace(0, np.nan, inplace=True)"
   ]
  },
  {
   "cell_type": "code",
   "execution_count": 208,
   "metadata": {
    "collapsed": true,
    "deletable": true,
    "editable": true
   },
   "outputs": [],
   "source": [
    "animals.dropna(subset=['hour'],inplace=True)"
   ]
  },
  {
   "cell_type": "code",
   "execution_count": 209,
   "metadata": {
    "collapsed": false,
    "deletable": true,
    "editable": true,
    "scrolled": true
   },
   "outputs": [
    {
     "data": {
      "text/plain": [
       "5.0        1\n",
       "6.0        9\n",
       "7.0      109\n",
       "8.0      292\n",
       "9.0     1057\n",
       "10.0     375\n",
       "11.0    1997\n",
       "12.0    2442\n",
       "13.0    2373\n",
       "14.0    2670\n",
       "15.0    2573\n",
       "16.0    2612\n",
       "17.0    4058\n",
       "18.0    3562\n",
       "19.0    1024\n",
       "20.0      74\n",
       "21.0      18\n",
       "22.0       5\n",
       "23.0      20\n",
       "Name: hour, dtype: int64"
      ]
     },
     "execution_count": 209,
     "metadata": {},
     "output_type": "execute_result"
    }
   ],
   "source": [
    "animals.hour.value_counts(dropna=False).sort_index(ascending=True)"
   ]
  },
  {
   "cell_type": "code",
   "execution_count": 210,
   "metadata": {
    "collapsed": false,
    "deletable": true,
    "editable": true
   },
   "outputs": [],
   "source": [
    "def time_of_day(row):\n",
    "    \"\"\"returns indicator variable for time of day based on hour\"\"\"\n",
    "    if row >= 5 and row < 12:\n",
    "        time = 'morning'\n",
    "    elif row >= 12 and row < 17:\n",
    "        time = 'afternoon'\n",
    "    else:\n",
    "        time = 'evening'\n",
    "    return time\n",
    "\n",
    "assert time_of_day(6) == 'morning'"
   ]
  },
  {
   "cell_type": "code",
   "execution_count": 211,
   "metadata": {
    "collapsed": true,
    "deletable": true,
    "editable": true
   },
   "outputs": [],
   "source": [
    "# create new column for time of day\n",
    "animals['time_of_day'] = animals.month.apply(time_of_day)"
   ]
  },
  {
   "cell_type": "code",
   "execution_count": 212,
   "metadata": {
    "collapsed": false,
    "deletable": true,
    "editable": true
   },
   "outputs": [],
   "source": [
    "def season(row):\n",
    "    \"\"\"returns indicator variable for season based on month number\"\"\"\n",
    "    if row == 3 or row == 4 or row == 5:\n",
    "        season = 'spring'\n",
    "    elif row == 6 or row == 7 or row == 8:\n",
    "        season = 'summer'\n",
    "    elif row == 9 or row == 10 or row == 11:\n",
    "        season = 'fall'\n",
    "    else:\n",
    "        season = 'winter'\n",
    "    return season\n",
    "\n",
    "assert season(12) == 'winter'"
   ]
  },
  {
   "cell_type": "code",
   "execution_count": 213,
   "metadata": {
    "collapsed": false,
    "deletable": true,
    "editable": true
   },
   "outputs": [],
   "source": [
    "# create new column for season\n",
    "animals['season'] = animals.month.apply(season)"
   ]
  },
  {
   "cell_type": "code",
   "execution_count": 214,
   "metadata": {
    "collapsed": false,
    "deletable": true,
    "editable": true,
    "scrolled": false
   },
   "outputs": [
    {
     "data": {
      "image/png": "[encoded data removed]",
      "text/plain": [
       "<matplotlib.figure.Figure at 0x118d1b080>"
      ]
     },
     "metadata": {
      "image/png": {
       "height": 389,
       "width": 551
      }
     },
     "output_type": "display_data"
    }
   ],
   "source": [
    "plt.subplots(figsize=(8, 6))\n",
    "sns.barplot(x=\"time_of_day\", \n",
    "            y=\"adopted\", \n",
    "            hue='animal', \n",
    "            data=animals, \n",
    "            alpha=0.9, \n",
    "            ci = None).set_title('Adoptions by Time of Day');"
   ]
  },
  {
   "cell_type": "code",
   "execution_count": 215,
   "metadata": {
    "collapsed": false,
    "deletable": true,
    "editable": true,
    "scrolled": false
   },
   "outputs": [
    {
     "data": {
      "image/png": "[encoded data removed]",
      "text/plain": [
       "<matplotlib.figure.Figure at 0x118d36748>"
      ]
     },
     "metadata": {
      "image/png": {
       "height": 389,
       "width": 551
      }
     },
     "output_type": "display_data"
    }
   ],
   "source": [
    "# reminder: Monday is 0, Sunday is 6\n",
    "plt.subplots(figsize=(8, 6))\n",
    "sns.barplot(x=\"day\", \n",
    "            y=\"adopted\", \n",
    "            hue=\"animal\", \n",
    "            data=animals, \n",
    "            palette='muted', \n",
    "            ci = None).set_title('Adoptions by Weekday');"
   ]
  },
  {
   "cell_type": "code",
   "execution_count": 216,
   "metadata": {
    "collapsed": false,
    "deletable": true,
    "editable": true,
    "scrolled": false
   },
   "outputs": [
    {
     "data": {
      "image/png": "[encoded data removed]",
      "text/plain": [
       "<matplotlib.figure.Figure at 0x118cee7f0>"
      ]
     },
     "metadata": {
      "image/png": {
       "height": 498,
       "width": 677
      }
     },
     "output_type": "display_data"
    }
   ],
   "source": [
    "plt.subplots(figsize=(10, 8))\n",
    "sns.barplot(x=\"month\", \n",
    "            y=\"adopted\", \n",
    "            hue=\"animal\", \n",
    "            data=animals, \n",
    "            alpha=0.9, \n",
    "            ci = None).set_title('Adoptions by Month');\n",
    "plt.legend(loc='upper left');"
   ]
  },
  {
   "cell_type": "code",
   "execution_count": 217,
   "metadata": {
    "collapsed": false,
    "deletable": true,
    "editable": true
   },
   "outputs": [
    {
     "data": {
      "image/png": "[encoded data removed]",
      "text/plain": [
       "<matplotlib.figure.Figure at 0x1171bd7b8>"
      ]
     },
     "metadata": {
      "image/png": {
       "height": 389,
       "width": 551
      }
     },
     "output_type": "display_data"
    }
   ],
   "source": [
    "plt.subplots(figsize=(8, 6))\n",
    "sns.barplot(x=\"season\", \n",
    "            y=\"adopted\", \n",
    "            hue=\"animal\", \n",
    "            data=animals, \n",
    "            palette='muted', \n",
    "            ci = None).set_title('Adoptions by Season');"
   ]
  },
  {
   "cell_type": "code",
   "execution_count": 218,
   "metadata": {
    "collapsed": false,
    "deletable": true,
    "editable": true,
    "scrolled": false
   },
   "outputs": [
    {
     "data": {
      "image/png": "[encoded data removed]",
      "text/plain": [
       "<matplotlib.figure.Figure at 0x116cb6fd0>"
      ]
     },
     "metadata": {
      "image/png": {
       "height": 389,
       "width": 551
      }
     },
     "output_type": "display_data"
    }
   ],
   "source": [
    "plt.subplots(figsize=(8, 6))\n",
    "sns.barplot(x=\"year\", \n",
    "            y=\"adopted\", \n",
    "            hue=\"animal\", \n",
    "            data=animals, \n",
    "            palette='muted', \n",
    "            ci = None).set_title('Adoptions 2013 – 2016');"
   ]
  },
  {
   "cell_type": "code",
   "execution_count": 219,
   "metadata": {
    "collapsed": false,
    "deletable": true,
    "editable": true
   },
   "outputs": [
    {
     "name": "stdout",
     "output_type": "stream",
     "text": [
      "Optimization terminated successfully.\n",
      "         Current function value: 0.534253\n",
      "         Iterations 7\n"
     ]
    },
    {
     "data": {
      "text/html": [
       "<table class=\"simpletable\">\n",
       "<caption>Logit Regression Results</caption>\n",
       "<tr>\n",
       "  <th>Dep. Variable:</th>      <td>adopted</td>     <th>  No. Observations:  </th>  <td> 25271</td> \n",
       "</tr>\n",
       "<tr>\n",
       "  <th>Model:</th>               <td>Logit</td>      <th>  Df Residuals:      </th>  <td> 25258</td> \n",
       "</tr>\n",
       "<tr>\n",
       "  <th>Method:</th>               <td>MLE</td>       <th>  Df Model:          </th>  <td>    12</td> \n",
       "</tr>\n",
       "<tr>\n",
       "  <th>Date:</th>          <td>Fri, 10 Mar 2017</td> <th>  Pseudo R-squ.:     </th>  <td>0.2164</td> \n",
       "</tr>\n",
       "<tr>\n",
       "  <th>Time:</th>              <td>12:42:24</td>     <th>  Log-Likelihood:    </th> <td> -13501.</td>\n",
       "</tr>\n",
       "<tr>\n",
       "  <th>converged:</th>           <td>True</td>       <th>  LL-Null:           </th> <td> -17229.</td>\n",
       "</tr>\n",
       "<tr>\n",
       "  <th> </th>                      <td> </td>        <th>  LLR p-value:       </th>  <td> 0.000</td> \n",
       "</tr>\n",
       "</table>\n",
       "<table class=\"simpletable\">\n",
       "<tr>\n",
       "             <td></td>               <th>coef</th>     <th>std err</th>      <th>z</th>      <th>P>|z|</th> <th>[95.0% Conf. Int.]</th> \n",
       "</tr>\n",
       "<tr>\n",
       "  <th>Intercept</th>              <td>   -3.7213</td> <td>    0.460</td> <td>   -8.097</td> <td> 0.000</td> <td>   -4.622    -2.821</td>\n",
       "</tr>\n",
       "<tr>\n",
       "  <th>time_of_day[T.evening]</th> <td>    0.0786</td> <td>    0.253</td> <td>    0.311</td> <td> 0.756</td> <td>   -0.416     0.574</td>\n",
       "</tr>\n",
       "<tr>\n",
       "  <th>time_of_day[T.morning]</th> <td>    0.2922</td> <td>    0.229</td> <td>    1.273</td> <td> 0.203</td> <td>   -0.158     0.742</td>\n",
       "</tr>\n",
       "<tr>\n",
       "  <th>season[T.spring]</th>       <td>    0.0361</td> <td>    0.134</td> <td>    0.268</td> <td> 0.788</td> <td>   -0.227     0.300</td>\n",
       "</tr>\n",
       "<tr>\n",
       "  <th>season[T.summer]</th>       <td>    0.3437</td> <td>    0.083</td> <td>    4.126</td> <td> 0.000</td> <td>    0.180     0.507</td>\n",
       "</tr>\n",
       "<tr>\n",
       "  <th>season[T.winter]</th>       <td>    0.3585</td> <td>    0.187</td> <td>    1.920</td> <td> 0.055</td> <td>   -0.007     0.724</td>\n",
       "</tr>\n",
       "<tr>\n",
       "  <th>dog</th>                    <td>   -0.6027</td> <td>    0.033</td> <td>  -18.506</td> <td> 0.000</td> <td>   -0.666    -0.539</td>\n",
       "</tr>\n",
       "<tr>\n",
       "  <th>has_name</th>               <td>    0.0697</td> <td>    0.041</td> <td>    1.687</td> <td> 0.092</td> <td>   -0.011     0.151</td>\n",
       "</tr>\n",
       "<tr>\n",
       "  <th>pop_name</th>               <td>   -0.1569</td> <td>    0.071</td> <td>   -2.201</td> <td> 0.028</td> <td>   -0.297    -0.017</td>\n",
       "</tr>\n",
       "<tr>\n",
       "  <th>sex</th>                    <td>    0.2104</td> <td>    0.029</td> <td>    7.141</td> <td> 0.000</td> <td>    0.153     0.268</td>\n",
       "</tr>\n",
       "<tr>\n",
       "  <th>spay_neutered</th>          <td>    3.3890</td> <td>    0.061</td> <td>   55.441</td> <td> 0.000</td> <td>    3.269     3.509</td>\n",
       "</tr>\n",
       "<tr>\n",
       "  <th>day</th>                    <td>    0.1318</td> <td>    0.007</td> <td>   18.402</td> <td> 0.000</td> <td>    0.118     0.146</td>\n",
       "</tr>\n",
       "<tr>\n",
       "  <th>month</th>                  <td>    0.0078</td> <td>    0.023</td> <td>    0.333</td> <td> 0.739</td> <td>   -0.038     0.053</td>\n",
       "</tr>\n",
       "</table>"
      ],
      "text/plain": [
       "<class 'statsmodels.iolib.summary.Summary'>\n",
       "\"\"\"\n",
       "                           Logit Regression Results                           \n",
       "==============================================================================\n",
       "Dep. Variable:                adopted   No. Observations:                25271\n",
       "Model:                          Logit   Df Residuals:                    25258\n",
       "Method:                           MLE   Df Model:                           12\n",
       "Date:                Fri, 10 Mar 2017   Pseudo R-squ.:                  0.2164\n",
       "Time:                        12:42:24   Log-Likelihood:                -13501.\n",
       "converged:                       True   LL-Null:                       -17229.\n",
       "                                        LLR p-value:                     0.000\n",
       "==========================================================================================\n",
       "                             coef    std err          z      P>|z|      [95.0% Conf. Int.]\n",
       "------------------------------------------------------------------------------------------\n",
       "Intercept                 -3.7213      0.460     -8.097      0.000        -4.622    -2.821\n",
       "time_of_day[T.evening]     0.0786      0.253      0.311      0.756        -0.416     0.574\n",
       "time_of_day[T.morning]     0.2922      0.229      1.273      0.203        -0.158     0.742\n",
       "season[T.spring]           0.0361      0.134      0.268      0.788        -0.227     0.300\n",
       "season[T.summer]           0.3437      0.083      4.126      0.000         0.180     0.507\n",
       "season[T.winter]           0.3585      0.187      1.920      0.055        -0.007     0.724\n",
       "dog                       -0.6027      0.033    -18.506      0.000        -0.666    -0.539\n",
       "has_name                   0.0697      0.041      1.687      0.092        -0.011     0.151\n",
       "pop_name                  -0.1569      0.071     -2.201      0.028        -0.297    -0.017\n",
       "sex                        0.2104      0.029      7.141      0.000         0.153     0.268\n",
       "spay_neutered              3.3890      0.061     55.441      0.000         3.269     3.509\n",
       "day                        0.1318      0.007     18.402      0.000         0.118     0.146\n",
       "month                      0.0078      0.023      0.333      0.739        -0.038     0.053\n",
       "==========================================================================================\n",
       "\"\"\""
      ]
     },
     "execution_count": 219,
     "metadata": {},
     "output_type": "execute_result"
    }
   ],
   "source": [
    "# Pseudo R-squared increased ever so slightly but I've also added a good number of variables\n",
    "model_time = smf.logit(formula='adopted ~ dog + has_name + pop_name + sex + spay_neutered + day + month + time_of_day + season', data=animals).fit()\n",
    "model_time.summary()"
   ]
  },
  {
   "cell_type": "code",
   "execution_count": 220,
   "metadata": {
    "collapsed": false,
    "deletable": true,
    "editable": true
   },
   "outputs": [],
   "source": [
    "# create variables from time_of_day, day, month and season\n",
    "# commenting out because I believe statsmodel already does this for you\n",
    "# animals = pd.get_dummies(animals, columns=['day', 'month', 'time_of_day', 'season'])"
   ]
  },
  {
   "cell_type": "code",
   "execution_count": 221,
   "metadata": {
    "collapsed": false,
    "deletable": true,
    "editable": true
   },
   "outputs": [
    {
     "data": {
      "text/plain": [
       "Index(['id', 'name', 'date_outcome', 'outcome', 'outcome_info', 'animal',\n",
       "       'sex_outcome', 'age', 'breed', 'color', 'dog', 'adopted', 'has_name',\n",
       "       'pop_name', 'sex', 'spay_neutered', 'datetime', 'day', 'month', 'year',\n",
       "       'hour', 'minutes', 'time_of_day', 'season'],\n",
       "      dtype='object')"
      ]
     },
     "execution_count": 221,
     "metadata": {},
     "output_type": "execute_result"
    }
   ],
   "source": [
    "animals.columns"
   ]
  },
  {
   "cell_type": "markdown",
   "metadata": {
    "deletable": true,
    "editable": true
   },
   "source": [
    "### Outcome info\n",
    "\n",
    "After spending way too much time exploring this variable, I've come to the conclusion it's not useful as it's information explaining the details of the Outcome (Adoption, etc) after the fact so I won't include it in any modeling."
   ]
  },
  {
   "cell_type": "code",
   "execution_count": 222,
   "metadata": {
    "collapsed": false,
    "deletable": true,
    "editable": true,
    "scrolled": false
   },
   "outputs": [
    {
     "data": {
      "text/plain": [
       "NaN                    13540\n",
       "Partner                 6866\n",
       "Foster                  1798\n",
       "SCRP                    1292\n",
       "Suffering                910\n",
       "Aggressive               318\n",
       "Offsite                  164\n",
       "In Kennel                 98\n",
       "Behavior                  86\n",
       "Rabies Risk               69\n",
       "Medical                   63\n",
       "In Foster                 48\n",
       "Court/Investigation        6\n",
       "Enroute                    4\n",
       "At Vet                     4\n",
       "In Surgery                 3\n",
       "Barn                       2\n",
       "Name: outcome_info, dtype: int64"
      ]
     },
     "execution_count": 222,
     "metadata": {},
     "output_type": "execute_result"
    }
   ],
   "source": [
    "animals.outcome_info.value_counts(dropna=False)"
   ]
  },
  {
   "cell_type": "code",
   "execution_count": 223,
   "metadata": {
    "collapsed": false,
    "deletable": true,
    "editable": true,
    "scrolled": true
   },
   "outputs": [
    {
     "data": {
      "text/html": [
       "<div>\n",
       "<table border=\"1\" class=\"dataframe\">\n",
       "  <thead>\n",
       "    <tr style=\"text-align: right;\">\n",
       "      <th></th>\n",
       "      <th>outcome</th>\n",
       "      <th>outcome_info</th>\n",
       "    </tr>\n",
       "  </thead>\n",
       "  <tbody>\n",
       "    <tr>\n",
       "      <th>0</th>\n",
       "      <td>Return_to_owner</td>\n",
       "      <td>NaN</td>\n",
       "    </tr>\n",
       "    <tr>\n",
       "      <th>1</th>\n",
       "      <td>Euthanasia</td>\n",
       "      <td>Suffering</td>\n",
       "    </tr>\n",
       "    <tr>\n",
       "      <th>2</th>\n",
       "      <td>Adoption</td>\n",
       "      <td>Foster</td>\n",
       "    </tr>\n",
       "    <tr>\n",
       "      <th>3</th>\n",
       "      <td>Transfer</td>\n",
       "      <td>Partner</td>\n",
       "    </tr>\n",
       "    <tr>\n",
       "      <th>4</th>\n",
       "      <td>Transfer</td>\n",
       "      <td>Partner</td>\n",
       "    </tr>\n",
       "    <tr>\n",
       "      <th>5</th>\n",
       "      <td>Transfer</td>\n",
       "      <td>Partner</td>\n",
       "    </tr>\n",
       "    <tr>\n",
       "      <th>6</th>\n",
       "      <td>Transfer</td>\n",
       "      <td>Partner</td>\n",
       "    </tr>\n",
       "    <tr>\n",
       "      <th>7</th>\n",
       "      <td>Adoption</td>\n",
       "      <td>NaN</td>\n",
       "    </tr>\n",
       "    <tr>\n",
       "      <th>8</th>\n",
       "      <td>Adoption</td>\n",
       "      <td>Offsite</td>\n",
       "    </tr>\n",
       "    <tr>\n",
       "      <th>9</th>\n",
       "      <td>Adoption</td>\n",
       "      <td>NaN</td>\n",
       "    </tr>\n",
       "  </tbody>\n",
       "</table>\n",
       "</div>"
      ],
      "text/plain": [
       "           outcome outcome_info\n",
       "0  Return_to_owner          NaN\n",
       "1       Euthanasia    Suffering\n",
       "2         Adoption       Foster\n",
       "3         Transfer      Partner\n",
       "4         Transfer      Partner\n",
       "5         Transfer      Partner\n",
       "6         Transfer      Partner\n",
       "7         Adoption          NaN\n",
       "8         Adoption      Offsite\n",
       "9         Adoption          NaN"
      ]
     },
     "execution_count": 223,
     "metadata": {},
     "output_type": "execute_result"
    }
   ],
   "source": [
    "animals[['outcome', 'outcome_info']].head(10)"
   ]
  },
  {
   "cell_type": "code",
   "execution_count": 224,
   "metadata": {
    "collapsed": false,
    "deletable": true,
    "editable": true,
    "scrolled": false
   },
   "outputs": [
    {
     "data": {
      "text/html": [
       "<div>\n",
       "<table border=\"1\" class=\"dataframe\">\n",
       "  <thead>\n",
       "    <tr style=\"text-align: right;\">\n",
       "      <th></th>\n",
       "      <th></th>\n",
       "      <th>id</th>\n",
       "    </tr>\n",
       "    <tr>\n",
       "      <th>outcome</th>\n",
       "      <th>outcome_info</th>\n",
       "      <th></th>\n",
       "    </tr>\n",
       "  </thead>\n",
       "  <tbody>\n",
       "    <tr>\n",
       "      <th rowspan=\"3\" valign=\"top\">Adoption</th>\n",
       "      <th>Barn</th>\n",
       "      <td>1</td>\n",
       "    </tr>\n",
       "    <tr>\n",
       "      <th>Foster</th>\n",
       "      <td>1798</td>\n",
       "    </tr>\n",
       "    <tr>\n",
       "      <th>Offsite</th>\n",
       "      <td>164</td>\n",
       "    </tr>\n",
       "    <tr>\n",
       "      <th rowspan=\"5\" valign=\"top\">Died</th>\n",
       "      <th>At Vet</th>\n",
       "      <td>4</td>\n",
       "    </tr>\n",
       "    <tr>\n",
       "      <th>Enroute</th>\n",
       "      <td>4</td>\n",
       "    </tr>\n",
       "    <tr>\n",
       "      <th>In Foster</th>\n",
       "      <td>48</td>\n",
       "    </tr>\n",
       "    <tr>\n",
       "      <th>In Kennel</th>\n",
       "      <td>98</td>\n",
       "    </tr>\n",
       "    <tr>\n",
       "      <th>In Surgery</th>\n",
       "      <td>3</td>\n",
       "    </tr>\n",
       "    <tr>\n",
       "      <th rowspan=\"6\" valign=\"top\">Euthanasia</th>\n",
       "      <th>Aggressive</th>\n",
       "      <td>318</td>\n",
       "    </tr>\n",
       "    <tr>\n",
       "      <th>Behavior</th>\n",
       "      <td>86</td>\n",
       "    </tr>\n",
       "    <tr>\n",
       "      <th>Court/Investigation</th>\n",
       "      <td>6</td>\n",
       "    </tr>\n",
       "    <tr>\n",
       "      <th>Medical</th>\n",
       "      <td>63</td>\n",
       "    </tr>\n",
       "    <tr>\n",
       "      <th>Rabies Risk</th>\n",
       "      <td>69</td>\n",
       "    </tr>\n",
       "    <tr>\n",
       "      <th>Suffering</th>\n",
       "      <td>910</td>\n",
       "    </tr>\n",
       "    <tr>\n",
       "      <th rowspan=\"3\" valign=\"top\">Transfer</th>\n",
       "      <th>Barn</th>\n",
       "      <td>1</td>\n",
       "    </tr>\n",
       "    <tr>\n",
       "      <th>Partner</th>\n",
       "      <td>6866</td>\n",
       "    </tr>\n",
       "    <tr>\n",
       "      <th>SCRP</th>\n",
       "      <td>1292</td>\n",
       "    </tr>\n",
       "  </tbody>\n",
       "</table>\n",
       "</div>"
      ],
      "text/plain": [
       "                                  id\n",
       "outcome    outcome_info             \n",
       "Adoption   Barn                    1\n",
       "           Foster               1798\n",
       "           Offsite               164\n",
       "Died       At Vet                  4\n",
       "           Enroute                 4\n",
       "           In Foster              48\n",
       "           In Kennel              98\n",
       "           In Surgery              3\n",
       "Euthanasia Aggressive            318\n",
       "           Behavior               86\n",
       "           Court/Investigation     6\n",
       "           Medical                63\n",
       "           Rabies Risk            69\n",
       "           Suffering             910\n",
       "Transfer   Barn                    1\n",
       "           Partner              6866\n",
       "           SCRP                 1292"
      ]
     },
     "execution_count": 224,
     "metadata": {},
     "output_type": "execute_result"
    }
   ],
   "source": [
    "animals[['id']].groupby([animals['outcome'], animals['outcome_info']]).count()"
   ]
  },
  {
   "cell_type": "code",
   "execution_count": 225,
   "metadata": {
    "collapsed": false,
    "deletable": true,
    "editable": true
   },
   "outputs": [
    {
     "data": {
      "text/html": [
       "<div>\n",
       "<table border=\"1\" class=\"dataframe\">\n",
       "  <thead>\n",
       "    <tr>\n",
       "      <th></th>\n",
       "      <th colspan=\"16\" halign=\"left\">id</th>\n",
       "    </tr>\n",
       "    <tr>\n",
       "      <th>outcome_info</th>\n",
       "      <th>Aggressive</th>\n",
       "      <th>At Vet</th>\n",
       "      <th>Barn</th>\n",
       "      <th>Behavior</th>\n",
       "      <th>Court/Investigation</th>\n",
       "      <th>Enroute</th>\n",
       "      <th>Foster</th>\n",
       "      <th>In Foster</th>\n",
       "      <th>In Kennel</th>\n",
       "      <th>In Surgery</th>\n",
       "      <th>Medical</th>\n",
       "      <th>Offsite</th>\n",
       "      <th>Partner</th>\n",
       "      <th>Rabies Risk</th>\n",
       "      <th>SCRP</th>\n",
       "      <th>Suffering</th>\n",
       "    </tr>\n",
       "    <tr>\n",
       "      <th>outcome</th>\n",
       "      <th></th>\n",
       "      <th></th>\n",
       "      <th></th>\n",
       "      <th></th>\n",
       "      <th></th>\n",
       "      <th></th>\n",
       "      <th></th>\n",
       "      <th></th>\n",
       "      <th></th>\n",
       "      <th></th>\n",
       "      <th></th>\n",
       "      <th></th>\n",
       "      <th></th>\n",
       "      <th></th>\n",
       "      <th></th>\n",
       "      <th></th>\n",
       "    </tr>\n",
       "  </thead>\n",
       "  <tbody>\n",
       "    <tr>\n",
       "      <th>Adoption</th>\n",
       "      <td>NaN</td>\n",
       "      <td>NaN</td>\n",
       "      <td>1.0</td>\n",
       "      <td>NaN</td>\n",
       "      <td>NaN</td>\n",
       "      <td>NaN</td>\n",
       "      <td>1798.0</td>\n",
       "      <td>NaN</td>\n",
       "      <td>NaN</td>\n",
       "      <td>NaN</td>\n",
       "      <td>NaN</td>\n",
       "      <td>164.0</td>\n",
       "      <td>NaN</td>\n",
       "      <td>NaN</td>\n",
       "      <td>NaN</td>\n",
       "      <td>NaN</td>\n",
       "    </tr>\n",
       "    <tr>\n",
       "      <th>Died</th>\n",
       "      <td>NaN</td>\n",
       "      <td>4.0</td>\n",
       "      <td>NaN</td>\n",
       "      <td>NaN</td>\n",
       "      <td>NaN</td>\n",
       "      <td>4.0</td>\n",
       "      <td>NaN</td>\n",
       "      <td>48.0</td>\n",
       "      <td>98.0</td>\n",
       "      <td>3.0</td>\n",
       "      <td>NaN</td>\n",
       "      <td>NaN</td>\n",
       "      <td>NaN</td>\n",
       "      <td>NaN</td>\n",
       "      <td>NaN</td>\n",
       "      <td>NaN</td>\n",
       "    </tr>\n",
       "    <tr>\n",
       "      <th>Euthanasia</th>\n",
       "      <td>318.0</td>\n",
       "      <td>NaN</td>\n",
       "      <td>NaN</td>\n",
       "      <td>86.0</td>\n",
       "      <td>6.0</td>\n",
       "      <td>NaN</td>\n",
       "      <td>NaN</td>\n",
       "      <td>NaN</td>\n",
       "      <td>NaN</td>\n",
       "      <td>NaN</td>\n",
       "      <td>63.0</td>\n",
       "      <td>NaN</td>\n",
       "      <td>NaN</td>\n",
       "      <td>69.0</td>\n",
       "      <td>NaN</td>\n",
       "      <td>910.0</td>\n",
       "    </tr>\n",
       "    <tr>\n",
       "      <th>Transfer</th>\n",
       "      <td>NaN</td>\n",
       "      <td>NaN</td>\n",
       "      <td>1.0</td>\n",
       "      <td>NaN</td>\n",
       "      <td>NaN</td>\n",
       "      <td>NaN</td>\n",
       "      <td>NaN</td>\n",
       "      <td>NaN</td>\n",
       "      <td>NaN</td>\n",
       "      <td>NaN</td>\n",
       "      <td>NaN</td>\n",
       "      <td>NaN</td>\n",
       "      <td>6866.0</td>\n",
       "      <td>NaN</td>\n",
       "      <td>1292.0</td>\n",
       "      <td>NaN</td>\n",
       "    </tr>\n",
       "  </tbody>\n",
       "</table>\n",
       "</div>"
      ],
      "text/plain": [
       "                     id                                                   \\\n",
       "outcome_info Aggressive At Vet Barn Behavior Court/Investigation Enroute   \n",
       "outcome                                                                    \n",
       "Adoption            NaN    NaN  1.0      NaN                 NaN     NaN   \n",
       "Died                NaN    4.0  NaN      NaN                 NaN     4.0   \n",
       "Euthanasia        318.0    NaN  NaN     86.0                 6.0     NaN   \n",
       "Transfer            NaN    NaN  1.0      NaN                 NaN     NaN   \n",
       "\n",
       "                                                                             \\\n",
       "outcome_info  Foster In Foster In Kennel In Surgery Medical Offsite Partner   \n",
       "outcome                                                                       \n",
       "Adoption      1798.0       NaN       NaN        NaN     NaN   164.0     NaN   \n",
       "Died             NaN      48.0      98.0        3.0     NaN     NaN     NaN   \n",
       "Euthanasia       NaN       NaN       NaN        NaN    63.0     NaN     NaN   \n",
       "Transfer         NaN       NaN       NaN        NaN     NaN     NaN  6866.0   \n",
       "\n",
       "                                            \n",
       "outcome_info Rabies Risk    SCRP Suffering  \n",
       "outcome                                     \n",
       "Adoption             NaN     NaN       NaN  \n",
       "Died                 NaN     NaN       NaN  \n",
       "Euthanasia          69.0     NaN     910.0  \n",
       "Transfer             NaN  1292.0       NaN  "
      ]
     },
     "execution_count": 225,
     "metadata": {},
     "output_type": "execute_result"
    }
   ],
   "source": [
    "# this is where are the NaNs come from\n",
    "animals[['id']].groupby([animals['outcome'], animals['outcome_info']]).count().unstack()"
   ]
  },
  {
   "cell_type": "code",
   "execution_count": 226,
   "metadata": {
    "collapsed": false,
    "deletable": true,
    "editable": true,
    "scrolled": true
   },
   "outputs": [
    {
     "data": {
      "text/html": [
       "<div>\n",
       "<table border=\"1\" class=\"dataframe\">\n",
       "  <thead>\n",
       "    <tr style=\"text-align: right;\">\n",
       "      <th></th>\n",
       "      <th></th>\n",
       "      <th>id</th>\n",
       "    </tr>\n",
       "    <tr>\n",
       "      <th>outcome</th>\n",
       "      <th>outcome_info</th>\n",
       "      <th></th>\n",
       "    </tr>\n",
       "  </thead>\n",
       "  <tbody>\n",
       "    <tr>\n",
       "      <th rowspan=\"2\" valign=\"top\">Adoption</th>\n",
       "      <th>False</th>\n",
       "      <td>1963</td>\n",
       "    </tr>\n",
       "    <tr>\n",
       "      <th>True</th>\n",
       "      <td>8769</td>\n",
       "    </tr>\n",
       "    <tr>\n",
       "      <th rowspan=\"2\" valign=\"top\">Died</th>\n",
       "      <th>False</th>\n",
       "      <td>157</td>\n",
       "    </tr>\n",
       "    <tr>\n",
       "      <th>True</th>\n",
       "      <td>11</td>\n",
       "    </tr>\n",
       "    <tr>\n",
       "      <th rowspan=\"2\" valign=\"top\">Euthanasia</th>\n",
       "      <th>False</th>\n",
       "      <td>1452</td>\n",
       "    </tr>\n",
       "    <tr>\n",
       "      <th>True</th>\n",
       "      <td>1</td>\n",
       "    </tr>\n",
       "    <tr>\n",
       "      <th>Return_to_owner</th>\n",
       "      <th>True</th>\n",
       "      <td>4753</td>\n",
       "    </tr>\n",
       "    <tr>\n",
       "      <th rowspan=\"2\" valign=\"top\">Transfer</th>\n",
       "      <th>False</th>\n",
       "      <td>8159</td>\n",
       "    </tr>\n",
       "    <tr>\n",
       "      <th>True</th>\n",
       "      <td>6</td>\n",
       "    </tr>\n",
       "  </tbody>\n",
       "</table>\n",
       "</div>"
      ],
      "text/plain": [
       "                                id\n",
       "outcome         outcome_info      \n",
       "Adoption        False         1963\n",
       "                True          8769\n",
       "Died            False          157\n",
       "                True            11\n",
       "Euthanasia      False         1452\n",
       "                True             1\n",
       "Return_to_owner True          4753\n",
       "Transfer        False         8159\n",
       "                True             6"
      ]
     },
     "execution_count": 226,
     "metadata": {},
     "output_type": "execute_result"
    }
   ],
   "source": [
    "animals[['id']].groupby([animals['outcome'], animals['outcome_info'].isnull()]).count()"
   ]
  },
  {
   "cell_type": "markdown",
   "metadata": {
    "deletable": true,
    "editable": true
   },
   "source": [
    "### Age\n",
    "\n",
    "Age values are strings and inconsistent. I will change them to all be in terms of weeks and will treat as a continuous variable (could even make all ages in terms of days)."
   ]
  },
  {
   "cell_type": "code",
   "execution_count": 227,
   "metadata": {
    "collapsed": false,
    "deletable": true,
    "editable": true
   },
   "outputs": [
    {
     "data": {
      "text/plain": [
       "45"
      ]
     },
     "execution_count": 227,
     "metadata": {},
     "output_type": "execute_result"
    }
   ],
   "source": [
    "len(animals.age.unique())"
   ]
  },
  {
   "cell_type": "code",
   "execution_count": 228,
   "metadata": {
    "collapsed": false,
    "deletable": true,
    "editable": true
   },
   "outputs": [
    {
     "data": {
      "text/plain": [
       "1 year       3788\n",
       "2 years      3599\n",
       "2 months     3331\n",
       "3 years      1788\n",
       "3 months     1231\n",
       "1 month      1230\n",
       "4 years      1047\n",
       "5 years       972\n",
       "4 months      851\n",
       "6 years       656\n",
       "5 months      632\n",
       "6 months      563\n",
       "8 years       529\n",
       "3 weeks       528\n",
       "7 years       521\n",
       "10 months     442\n",
       "10 years      442\n",
       "8 months      371\n",
       "2 weeks       359\n",
       "9 years       283\n",
       "7 months      281\n",
       "4 weeks       280\n",
       "12 years      232\n",
       "9 months      218\n",
       "11 months     161\n",
       "13 years      141\n",
       "11 years      125\n",
       "1 weeks       114\n",
       "14 years       96\n",
       "15 years       85\n",
       "1 week         66\n",
       "2 days         60\n",
       "3 days         55\n",
       "4 days         38\n",
       "16 years       34\n",
       "1 day          24\n",
       "6 days         21\n",
       "17 years       17\n",
       "NaN            14\n",
       "5 days         11\n",
       "5 weeks        11\n",
       "18 years       10\n",
       "0 years         9\n",
       "19 years        3\n",
       "20 years        2\n",
       "Name: age, dtype: int64"
      ]
     },
     "execution_count": 228,
     "metadata": {},
     "output_type": "execute_result"
    }
   ],
   "source": [
    "# drop NaN and 0 years\n",
    "animals.age.value_counts(dropna=False)"
   ]
  },
  {
   "cell_type": "code",
   "execution_count": 229,
   "metadata": {
    "collapsed": true,
    "deletable": true,
    "editable": true
   },
   "outputs": [],
   "source": [
    "animals.age.replace('0 years', np.nan, inplace=True)"
   ]
  },
  {
   "cell_type": "code",
   "execution_count": 230,
   "metadata": {
    "collapsed": false,
    "deletable": true,
    "editable": true
   },
   "outputs": [
    {
     "data": {
      "text/plain": [
       "(25271, 24)"
      ]
     },
     "execution_count": 230,
     "metadata": {},
     "output_type": "execute_result"
    }
   ],
   "source": [
    "animals.shape"
   ]
  },
  {
   "cell_type": "code",
   "execution_count": 231,
   "metadata": {
    "collapsed": true,
    "deletable": true,
    "editable": true
   },
   "outputs": [],
   "source": [
    "animals.dropna(subset=['age'],inplace=True)\n",
    "animals.reset_index(drop=True, inplace=True)"
   ]
  },
  {
   "cell_type": "code",
   "execution_count": 232,
   "metadata": {
    "collapsed": false,
    "deletable": true,
    "editable": true
   },
   "outputs": [
    {
     "data": {
      "text/plain": [
       "(25248, 24)"
      ]
     },
     "execution_count": 232,
     "metadata": {},
     "output_type": "execute_result"
    }
   ],
   "source": [
    "animals.shape"
   ]
  },
  {
   "cell_type": "code",
   "execution_count": 233,
   "metadata": {
    "collapsed": false,
    "deletable": true,
    "editable": true
   },
   "outputs": [],
   "source": [
    "def age_in_weeks(row):\n",
    "    \"\"\"converts inconsistent string ages to float ages in terms of weeks\"\"\"\n",
    "    if row.find('day') > 0:\n",
    "        num = int(row.split(' ')[0]) / 7\n",
    "    elif row.find('week') > 0:\n",
    "        num = int(row.split(' ')[0])\n",
    "    elif row.find('month') > 0:\n",
    "        num = int(row.split(' ')[0]) * 4\n",
    "    elif row.find('year') > 0:\n",
    "        num = int(row.split(' ')[0]) * 52\n",
    "    else:\n",
    "        num = 'unknown'\n",
    "    return num\n",
    "\n",
    "assert age_in_weeks('1 day') == 1/7\n",
    "assert age_in_weeks('6 days') == 6/7"
   ]
  },
  {
   "cell_type": "code",
   "execution_count": 234,
   "metadata": {
    "collapsed": true,
    "deletable": true,
    "editable": true
   },
   "outputs": [],
   "source": [
    "animals['age_in_weeks'] = animals.age.apply(age_in_weeks)"
   ]
  },
  {
   "cell_type": "code",
   "execution_count": 235,
   "metadata": {
    "collapsed": false,
    "deletable": true,
    "editable": true,
    "scrolled": true
   },
   "outputs": [
    {
     "data": {
      "text/html": [
       "<div>\n",
       "<table border=\"1\" class=\"dataframe\">\n",
       "  <thead>\n",
       "    <tr style=\"text-align: right;\">\n",
       "      <th></th>\n",
       "      <th>age</th>\n",
       "      <th>age_in_weeks</th>\n",
       "    </tr>\n",
       "  </thead>\n",
       "  <tbody>\n",
       "    <tr>\n",
       "      <th>0</th>\n",
       "      <td>1 year</td>\n",
       "      <td>52.0</td>\n",
       "    </tr>\n",
       "    <tr>\n",
       "      <th>1</th>\n",
       "      <td>1 year</td>\n",
       "      <td>52.0</td>\n",
       "    </tr>\n",
       "    <tr>\n",
       "      <th>2</th>\n",
       "      <td>2 years</td>\n",
       "      <td>104.0</td>\n",
       "    </tr>\n",
       "    <tr>\n",
       "      <th>3</th>\n",
       "      <td>3 weeks</td>\n",
       "      <td>3.0</td>\n",
       "    </tr>\n",
       "    <tr>\n",
       "      <th>4</th>\n",
       "      <td>2 years</td>\n",
       "      <td>104.0</td>\n",
       "    </tr>\n",
       "    <tr>\n",
       "      <th>5</th>\n",
       "      <td>1 month</td>\n",
       "      <td>4.0</td>\n",
       "    </tr>\n",
       "    <tr>\n",
       "      <th>6</th>\n",
       "      <td>3 weeks</td>\n",
       "      <td>3.0</td>\n",
       "    </tr>\n",
       "    <tr>\n",
       "      <th>7</th>\n",
       "      <td>5 months</td>\n",
       "      <td>20.0</td>\n",
       "    </tr>\n",
       "    <tr>\n",
       "      <th>8</th>\n",
       "      <td>1 year</td>\n",
       "      <td>52.0</td>\n",
       "    </tr>\n",
       "    <tr>\n",
       "      <th>9</th>\n",
       "      <td>2 years</td>\n",
       "      <td>104.0</td>\n",
       "    </tr>\n",
       "  </tbody>\n",
       "</table>\n",
       "</div>"
      ],
      "text/plain": [
       "        age  age_in_weeks\n",
       "0    1 year          52.0\n",
       "1    1 year          52.0\n",
       "2   2 years         104.0\n",
       "3   3 weeks           3.0\n",
       "4   2 years         104.0\n",
       "5   1 month           4.0\n",
       "6   3 weeks           3.0\n",
       "7  5 months          20.0\n",
       "8    1 year          52.0\n",
       "9   2 years         104.0"
      ]
     },
     "execution_count": 235,
     "metadata": {},
     "output_type": "execute_result"
    }
   ],
   "source": [
    "animals[['age','age_in_weeks']].head(10)"
   ]
  },
  {
   "cell_type": "code",
   "execution_count": 236,
   "metadata": {
    "collapsed": false,
    "deletable": true,
    "editable": true,
    "scrolled": false
   },
   "outputs": [
    {
     "data": {
      "text/plain": [
       "52.000000      3788\n",
       "104.000000     3599\n",
       "8.000000       3331\n",
       "156.000000     1788\n",
       "4.000000       1510\n",
       "12.000000      1231\n",
       "208.000000     1047\n",
       "260.000000      972\n",
       "16.000000       851\n",
       "312.000000      656\n",
       "20.000000       632\n",
       "24.000000       563\n",
       "416.000000      529\n",
       "3.000000        528\n",
       "364.000000      521\n",
       "520.000000      442\n",
       "40.000000       442\n",
       "32.000000       371\n",
       "2.000000        359\n",
       "468.000000      283\n",
       "28.000000       281\n",
       "624.000000      232\n",
       "36.000000       218\n",
       "1.000000        180\n",
       "44.000000       161\n",
       "676.000000      141\n",
       "572.000000      125\n",
       "728.000000       96\n",
       "780.000000       85\n",
       "0.285714         60\n",
       "0.428571         55\n",
       "0.571429         38\n",
       "832.000000       34\n",
       "0.142857         24\n",
       "0.857143         21\n",
       "884.000000       17\n",
       "5.000000         11\n",
       "0.714286         11\n",
       "936.000000       10\n",
       "988.000000        3\n",
       "1040.000000       2\n",
       "Name: age_in_weeks, dtype: int64"
      ]
     },
     "execution_count": 236,
     "metadata": {},
     "output_type": "execute_result"
    }
   ],
   "source": [
    "# hmm, looking a bit more categorical actually... \n",
    "animals.age_in_weeks.value_counts(dropna=False)"
   ]
  },
  {
   "cell_type": "code",
   "execution_count": 237,
   "metadata": {
    "collapsed": false,
    "deletable": true,
    "editable": true
   },
   "outputs": [
    {
     "data": {
      "text/plain": [
       "count    25248.000000\n",
       "mean       116.645307\n",
       "std        156.473298\n",
       "min          0.142857\n",
       "25%         12.000000\n",
       "50%         52.000000\n",
       "75%        156.000000\n",
       "max       1040.000000\n",
       "Name: age_in_weeks, dtype: float64"
      ]
     },
     "execution_count": 237,
     "metadata": {},
     "output_type": "execute_result"
    }
   ],
   "source": [
    "animals.age_in_weeks.describe()"
   ]
  },
  {
   "cell_type": "code",
   "execution_count": 238,
   "metadata": {
    "collapsed": false,
    "deletable": true,
    "editable": true
   },
   "outputs": [
    {
     "data": {
      "text/plain": [
       "'μ = 116.65, σ = 156.47'"
      ]
     },
     "execution_count": 238,
     "metadata": {},
     "output_type": "execute_result"
    }
   ],
   "source": [
    "# model a normal distribution on age... this doesn't make sense\n",
    "μ, σ = norm.fit(animals.age_in_weeks)\n",
    "\"μ = {:.2f}, σ = {:.2f}\".format(μ, σ)"
   ]
  },
  {
   "cell_type": "code",
   "execution_count": 74,
   "metadata": {
    "collapsed": false,
    "deletable": true,
    "editable": true,
    "scrolled": false
   },
   "outputs": [
    {
     "data": {
      "image/png": "[encoded data removed]",
      "text/plain": [
       "<matplotlib.figure.Figure at 0x116988c88>"
      ]
     },
     "metadata": {
      "image/png": {
       "height": 265,
       "width": 422
      }
     },
     "output_type": "display_data"
    }
   ],
   "source": [
    "plt.hist(animals['age_in_weeks'], bins=25, normed=True, alpha=0.3, color='b')\n",
    "\n",
    "xmin, xmax = plt.xlim()\n",
    "x = np.linspace(xmin, xmax, 100)\n",
    "p = norm.pdf(x, μ, σ)\n",
    "\n",
    "plt.plot(x, p, 'm', linewidth=2);\n",
    "title = \"Fit results: mu = {:.2f},  std = {:.2f}\".format(μ, σ)\n",
    "plt.title(title);"
   ]
  },
  {
   "cell_type": "code",
   "execution_count": 239,
   "metadata": {
    "collapsed": false,
    "deletable": true,
    "editable": true,
    "scrolled": false
   },
   "outputs": [
    {
     "data": {
      "image/png": "[encoded data removed]",
      "text/plain": [
       "<matplotlib.figure.Figure at 0x119003cc0>"
      ]
     },
     "metadata": {
      "image/png": {
       "height": 563,
       "width": 685
      }
     },
     "output_type": "display_data"
    }
   ],
   "source": [
    "# fit the bimodal using 2 different distributions - the first half is a normal distribution... \n",
    "# the second can be fit with power law distribution (Zipf's law)\n",
    "plt.subplots(figsize=(10,8))\n",
    "sns.countplot(animals.age_in_weeks, \n",
    "              data=animals).set_title('Age in Weeks')\n",
    "plt.xticks(rotation=90);"
   ]
  },
  {
   "cell_type": "code",
   "execution_count": 76,
   "metadata": {
    "collapsed": false,
    "deletable": true,
    "editable": true
   },
   "outputs": [
    {
     "name": "stdout",
     "output_type": "stream",
     "text": [
      "Optimization terminated successfully.\n",
      "         Current function value: 0.497858\n",
      "         Iterations 7\n"
     ]
    },
    {
     "data": {
      "text/html": [
       "<table class=\"simpletable\">\n",
       "<caption>Logit Regression Results</caption>\n",
       "<tr>\n",
       "  <th>Dep. Variable:</th>      <td>adopted</td>     <th>  No. Observations:  </th>  <td> 25248</td> \n",
       "</tr>\n",
       "<tr>\n",
       "  <th>Model:</th>               <td>Logit</td>      <th>  Df Residuals:      </th>  <td> 25234</td> \n",
       "</tr>\n",
       "<tr>\n",
       "  <th>Method:</th>               <td>MLE</td>       <th>  Df Model:          </th>  <td>    13</td> \n",
       "</tr>\n",
       "<tr>\n",
       "  <th>Date:</th>          <td>Fri, 10 Mar 2017</td> <th>  Pseudo R-squ.:     </th>  <td>0.2699</td> \n",
       "</tr>\n",
       "<tr>\n",
       "  <th>Time:</th>              <td>12:01:13</td>     <th>  Log-Likelihood:    </th> <td> -12570.</td>\n",
       "</tr>\n",
       "<tr>\n",
       "  <th>converged:</th>           <td>True</td>       <th>  LL-Null:           </th> <td> -17216.</td>\n",
       "</tr>\n",
       "<tr>\n",
       "  <th> </th>                      <td> </td>        <th>  LLR p-value:       </th>  <td> 0.000</td> \n",
       "</tr>\n",
       "</table>\n",
       "<table class=\"simpletable\">\n",
       "<tr>\n",
       "             <td></td>               <th>coef</th>     <th>std err</th>      <th>z</th>      <th>P>|z|</th> <th>[95.0% Conf. Int.]</th> \n",
       "</tr>\n",
       "<tr>\n",
       "  <th>Intercept</th>              <td>   -3.4807</td> <td>    0.481</td> <td>   -7.231</td> <td> 0.000</td> <td>   -4.424    -2.537</td>\n",
       "</tr>\n",
       "<tr>\n",
       "  <th>time_of_day[T.evening]</th> <td>   -0.0045</td> <td>    0.265</td> <td>   -0.017</td> <td> 0.987</td> <td>   -0.523     0.514</td>\n",
       "</tr>\n",
       "<tr>\n",
       "  <th>time_of_day[T.morning]</th> <td>    0.2065</td> <td>    0.240</td> <td>    0.859</td> <td> 0.391</td> <td>   -0.265     0.678</td>\n",
       "</tr>\n",
       "<tr>\n",
       "  <th>season[T.spring]</th>       <td>    0.0320</td> <td>    0.141</td> <td>    0.227</td> <td> 0.820</td> <td>   -0.244     0.308</td>\n",
       "</tr>\n",
       "<tr>\n",
       "  <th>season[T.summer]</th>       <td>    0.3178</td> <td>    0.087</td> <td>    3.638</td> <td> 0.000</td> <td>    0.147     0.489</td>\n",
       "</tr>\n",
       "<tr>\n",
       "  <th>season[T.winter]</th>       <td>    0.3177</td> <td>    0.196</td> <td>    1.624</td> <td> 0.104</td> <td>   -0.066     0.701</td>\n",
       "</tr>\n",
       "<tr>\n",
       "  <th>dog</th>                    <td>   -0.4534</td> <td>    0.034</td> <td>  -13.163</td> <td> 0.000</td> <td>   -0.521    -0.386</td>\n",
       "</tr>\n",
       "<tr>\n",
       "  <th>has_name</th>               <td>    0.3066</td> <td>    0.043</td> <td>    7.143</td> <td> 0.000</td> <td>    0.222     0.391</td>\n",
       "</tr>\n",
       "<tr>\n",
       "  <th>pop_name</th>               <td>   -0.1025</td> <td>    0.075</td> <td>   -1.361</td> <td> 0.174</td> <td>   -0.250     0.045</td>\n",
       "</tr>\n",
       "<tr>\n",
       "  <th>sex</th>                    <td>    0.2298</td> <td>    0.031</td> <td>    7.437</td> <td> 0.000</td> <td>    0.169     0.290</td>\n",
       "</tr>\n",
       "<tr>\n",
       "  <th>spay_neutered</th>          <td>    3.6047</td> <td>    0.062</td> <td>   58.283</td> <td> 0.000</td> <td>    3.483     3.726</td>\n",
       "</tr>\n",
       "<tr>\n",
       "  <th>day</th>                    <td>    0.1346</td> <td>    0.008</td> <td>   17.915</td> <td> 0.000</td> <td>    0.120     0.149</td>\n",
       "</tr>\n",
       "<tr>\n",
       "  <th>month</th>                  <td>   -0.0053</td> <td>    0.024</td> <td>   -0.218</td> <td> 0.827</td> <td>   -0.053     0.043</td>\n",
       "</tr>\n",
       "<tr>\n",
       "  <th>age_in_weeks</th>           <td>   -0.0046</td> <td>    0.000</td> <td>  -38.226</td> <td> 0.000</td> <td>   -0.005    -0.004</td>\n",
       "</tr>\n",
       "</table>"
      ],
      "text/plain": [
       "<class 'statsmodels.iolib.summary.Summary'>\n",
       "\"\"\"\n",
       "                           Logit Regression Results                           \n",
       "==============================================================================\n",
       "Dep. Variable:                adopted   No. Observations:                25248\n",
       "Model:                          Logit   Df Residuals:                    25234\n",
       "Method:                           MLE   Df Model:                           13\n",
       "Date:                Fri, 10 Mar 2017   Pseudo R-squ.:                  0.2699\n",
       "Time:                        12:01:13   Log-Likelihood:                -12570.\n",
       "converged:                       True   LL-Null:                       -17216.\n",
       "                                        LLR p-value:                     0.000\n",
       "==========================================================================================\n",
       "                             coef    std err          z      P>|z|      [95.0% Conf. Int.]\n",
       "------------------------------------------------------------------------------------------\n",
       "Intercept                 -3.4807      0.481     -7.231      0.000        -4.424    -2.537\n",
       "time_of_day[T.evening]    -0.0045      0.265     -0.017      0.987        -0.523     0.514\n",
       "time_of_day[T.morning]     0.2065      0.240      0.859      0.391        -0.265     0.678\n",
       "season[T.spring]           0.0320      0.141      0.227      0.820        -0.244     0.308\n",
       "season[T.summer]           0.3178      0.087      3.638      0.000         0.147     0.489\n",
       "season[T.winter]           0.3177      0.196      1.624      0.104        -0.066     0.701\n",
       "dog                       -0.4534      0.034    -13.163      0.000        -0.521    -0.386\n",
       "has_name                   0.3066      0.043      7.143      0.000         0.222     0.391\n",
       "pop_name                  -0.1025      0.075     -1.361      0.174        -0.250     0.045\n",
       "sex                        0.2298      0.031      7.437      0.000         0.169     0.290\n",
       "spay_neutered              3.6047      0.062     58.283      0.000         3.483     3.726\n",
       "day                        0.1346      0.008     17.915      0.000         0.120     0.149\n",
       "month                     -0.0053      0.024     -0.218      0.827        -0.053     0.043\n",
       "age_in_weeks              -0.0046      0.000    -38.226      0.000        -0.005    -0.004\n",
       "==========================================================================================\n",
       "\"\"\""
      ]
     },
     "execution_count": 76,
     "metadata": {},
     "output_type": "execute_result"
    }
   ],
   "source": [
    "model_age = smf.logit(formula='adopted ~ dog + has_name + pop_name + sex + spay_neutered + day + month + time_of_day + season + age_in_weeks', data=animals).fit()\n",
    "model_age.summary()"
   ]
  },
  {
   "cell_type": "markdown",
   "metadata": {
    "deletable": true,
    "editable": true
   },
   "source": [
    "### Color\n",
    "\n",
    "358 different colors for animal's fur/coat!! Needs to be simplified into something more reasonable. My plan of action is to get the column/series as a list of all the colors, get all the unique colors and cast that to a new dataframe with adoptions and the original color column. From there I use a correlation matrix to find the top 10 colors that are the most correlated with adoptions."
   ]
  },
  {
   "cell_type": "code",
   "execution_count": 77,
   "metadata": {
    "collapsed": false,
    "deletable": true,
    "editable": true,
    "scrolled": true
   },
   "outputs": [
    {
     "data": {
      "text/plain": [
       "358"
      ]
     },
     "execution_count": 77,
     "metadata": {},
     "output_type": "execute_result"
    }
   ],
   "source": [
    "len(animals.color.value_counts(dropna=True))"
   ]
  },
  {
   "cell_type": "code",
   "execution_count": 78,
   "metadata": {
    "collapsed": false,
    "deletable": true,
    "editable": true,
    "scrolled": false
   },
   "outputs": [
    {
     "name": "stdout",
     "output_type": "stream",
     "text": [
      "16\n"
     ]
    },
    {
     "data": {
      "text/plain": [
       "Black/White          2658\n",
       "Black                2053\n",
       "Brown Tabby          1428\n",
       "White                 879\n",
       "Brown/White           877\n",
       "Brown Tabby/White     829\n",
       "Tan/White             757\n",
       "Orange Tabby          750\n",
       "Tricolor              740\n",
       "Black/Tan             663\n",
       "Blue/White            663\n",
       "Brown                 617\n",
       "Tan                   609\n",
       "White/Black           598\n",
       "White/Brown           554\n",
       "Tortie                509\n",
       "Name: color, dtype: int64"
      ]
     },
     "execution_count": 78,
     "metadata": {},
     "output_type": "execute_result"
    }
   ],
   "source": [
    "value_counts = animals.color.value_counts()\n",
    "print(len(value_counts[value_counts > 500]))\n",
    "value_counts[value_counts > 500]"
   ]
  },
  {
   "cell_type": "code",
   "execution_count": 79,
   "metadata": {
    "collapsed": true,
    "deletable": true,
    "editable": true
   },
   "outputs": [],
   "source": [
    "# turn rows of string to rows of lists\n",
    "animals['color_list'] = animals.color.apply(lambda row: row.split('/'))"
   ]
  },
  {
   "cell_type": "code",
   "execution_count": 80,
   "metadata": {
    "collapsed": false,
    "deletable": true,
    "editable": true
   },
   "outputs": [
    {
     "data": {
      "text/plain": [
       "0    [Brown, White]\n",
       "1     [Cream Tabby]\n",
       "2     [Blue, White]\n",
       "3      [Blue Cream]\n",
       "4             [Tan]\n",
       "5      [Black, Tan]\n",
       "6      [Blue Tabby]\n",
       "7      [Red, White]\n",
       "8           [White]\n",
       "9          [Silver]\n",
       "Name: color_list, dtype: object"
      ]
     },
     "execution_count": 80,
     "metadata": {},
     "output_type": "execute_result"
    }
   ],
   "source": [
    "animals['color_list'].head(10)"
   ]
  },
  {
   "cell_type": "code",
   "execution_count": 81,
   "metadata": {
    "collapsed": false,
    "deletable": true,
    "editable": true
   },
   "outputs": [],
   "source": [
    "def multi_color(row):\n",
    "    \"\"\"returns indicator variable for multi_colored coats\"\"\"\n",
    "    if len(row) >= 2 or 'Tricolor' in row:\n",
    "        multi = 1\n",
    "    else:\n",
    "        multi = 0\n",
    "    return multi\n",
    "\n",
    "assert multi_color('Tricolor') == 1"
   ]
  },
  {
   "cell_type": "code",
   "execution_count": 82,
   "metadata": {
    "collapsed": false,
    "deletable": true,
    "editable": true,
    "scrolled": true
   },
   "outputs": [],
   "source": [
    "animals['mutli_color'] = animals.color_list.apply(multi_color)"
   ]
  },
  {
   "cell_type": "code",
   "execution_count": 83,
   "metadata": {
    "collapsed": false,
    "deletable": true,
    "editable": true,
    "scrolled": true
   },
   "outputs": [
    {
     "name": "stdout",
     "output_type": "stream",
     "text": [
      "57\n"
     ]
    },
    {
     "data": {
      "text/plain": [
       "['Silver Tabby',\n",
       " 'Fawn',\n",
       " 'Calico Point',\n",
       " 'Buff',\n",
       " 'Blue Cream',\n",
       " 'Agouti',\n",
       " 'Liver Tick',\n",
       " 'Blue Point',\n",
       " 'Ruddy',\n",
       " 'Tortie']"
      ]
     },
     "execution_count": 83,
     "metadata": {},
     "output_type": "execute_result"
    }
   ],
   "source": [
    "colors = [color for color_list in animals.color_list for color in color_list]\n",
    "\n",
    "unique_colors = list(set(colors))\n",
    "\n",
    "print(len(unique_colors))\n",
    "unique_colors[:10]"
   ]
  },
  {
   "cell_type": "code",
   "execution_count": 84,
   "metadata": {
    "collapsed": false,
    "deletable": true,
    "editable": true,
    "scrolled": true
   },
   "outputs": [],
   "source": [
    "simple_colors = [color for phrases in unique_colors for color in phrases.split()]"
   ]
  },
  {
   "cell_type": "code",
   "execution_count": 85,
   "metadata": {
    "collapsed": false,
    "deletable": true,
    "editable": true,
    "scrolled": true
   },
   "outputs": [
    {
     "data": {
      "text/plain": [
       "36"
      ]
     },
     "execution_count": 85,
     "metadata": {},
     "output_type": "execute_result"
    }
   ],
   "source": [
    "simple_colors = list(set(simple_colors))\n",
    "len(simple_colors)"
   ]
  },
  {
   "cell_type": "code",
   "execution_count": 86,
   "metadata": {
    "collapsed": false,
    "deletable": true,
    "editable": true,
    "scrolled": true
   },
   "outputs": [
    {
     "data": {
      "text/plain": [
       "['Fawn',\n",
       " 'Flame',\n",
       " 'Buff',\n",
       " 'Agouti',\n",
       " 'Ruddy',\n",
       " 'Tortie',\n",
       " 'White',\n",
       " 'Tick',\n",
       " 'Apricot',\n",
       " 'Cream',\n",
       " 'Blue',\n",
       " 'Calico',\n",
       " 'Tricolor',\n",
       " 'Merle',\n",
       " 'Chocolate',\n",
       " 'Silver',\n",
       " 'Gold',\n",
       " 'Black',\n",
       " 'Lilac',\n",
       " 'Red',\n",
       " 'Pink',\n",
       " 'Point',\n",
       " 'Tabby',\n",
       " 'Tan',\n",
       " 'Brindle',\n",
       " 'Brown',\n",
       " 'Seal',\n",
       " 'Torbie',\n",
       " 'Orange',\n",
       " 'Lynx',\n",
       " 'Gray',\n",
       " 'Smoke',\n",
       " 'Tiger',\n",
       " 'Yellow',\n",
       " 'Sable',\n",
       " 'Liver']"
      ]
     },
     "execution_count": 86,
     "metadata": {},
     "output_type": "execute_result"
    }
   ],
   "source": [
    "simple_colors"
   ]
  },
  {
   "cell_type": "code",
   "execution_count": 87,
   "metadata": {
    "collapsed": false,
    "deletable": true,
    "editable": true
   },
   "outputs": [],
   "source": [
    "simple_colors.remove('Point')\n",
    "simple_colors.remove('Tick')\n",
    "simple_colors.remove('Tricolor')"
   ]
  },
  {
   "cell_type": "markdown",
   "metadata": {
    "deletable": true,
    "editable": true
   },
   "source": [
    "Below I essentially try to find the most important breed with \"correlation\" hacking..."
   ]
  },
  {
   "cell_type": "code",
   "execution_count": 88,
   "metadata": {
    "collapsed": false,
    "deletable": true,
    "editable": true,
    "scrolled": true
   },
   "outputs": [
    {
     "data": {
      "text/html": [
       "<div>\n",
       "<table border=\"1\" class=\"dataframe\">\n",
       "  <thead>\n",
       "    <tr style=\"text-align: right;\">\n",
       "      <th></th>\n",
       "      <th>adopted</th>\n",
       "      <th>color_list</th>\n",
       "    </tr>\n",
       "  </thead>\n",
       "  <tbody>\n",
       "    <tr>\n",
       "      <th>0</th>\n",
       "      <td>0</td>\n",
       "      <td>[Brown, White]</td>\n",
       "    </tr>\n",
       "    <tr>\n",
       "      <th>1</th>\n",
       "      <td>0</td>\n",
       "      <td>[Cream Tabby]</td>\n",
       "    </tr>\n",
       "    <tr>\n",
       "      <th>2</th>\n",
       "      <td>1</td>\n",
       "      <td>[Blue, White]</td>\n",
       "    </tr>\n",
       "    <tr>\n",
       "      <th>3</th>\n",
       "      <td>0</td>\n",
       "      <td>[Blue Cream]</td>\n",
       "    </tr>\n",
       "    <tr>\n",
       "      <th>4</th>\n",
       "      <td>0</td>\n",
       "      <td>[Tan]</td>\n",
       "    </tr>\n",
       "  </tbody>\n",
       "</table>\n",
       "</div>"
      ],
      "text/plain": [
       "   adopted      color_list\n",
       "0        0  [Brown, White]\n",
       "1        0   [Cream Tabby]\n",
       "2        1   [Blue, White]\n",
       "3        0    [Blue Cream]\n",
       "4        0           [Tan]"
      ]
     },
     "execution_count": 88,
     "metadata": {},
     "output_type": "execute_result"
    }
   ],
   "source": [
    "color_imp = animals[['adopted', 'color_list']]\n",
    "color_imp.head()"
   ]
  },
  {
   "cell_type": "code",
   "execution_count": 89,
   "metadata": {
    "collapsed": false,
    "deletable": true,
    "editable": true,
    "scrolled": true
   },
   "outputs": [
    {
     "name": "stderr",
     "output_type": "stream",
     "text": [
      "/Users/VanessaG/anaconda3/envs/stats/lib/python3.6/site-packages/ipykernel/__main__.py:2: SettingWithCopyWarning: \n",
      "A value is trying to be set on a copy of a slice from a DataFrame.\n",
      "Try using .loc[row_indexer,col_indexer] = value instead\n",
      "\n",
      "See the caveats in the documentation: http://pandas.pydata.org/pandas-docs/stable/indexing.html#indexing-view-versus-copy\n",
      "  from ipykernel import kernelapp as app\n"
     ]
    }
   ],
   "source": [
    "for color in simple_colors:\n",
    "    color_imp[color] = animals.color_list.map(lambda row: 1 if color in row else 0)"
   ]
  },
  {
   "cell_type": "code",
   "execution_count": 90,
   "metadata": {
    "collapsed": false,
    "deletable": true,
    "editable": true,
    "scrolled": true
   },
   "outputs": [
    {
     "data": {
      "text/plain": [
       "Index(['adopted', 'color_list', 'Fawn', 'Flame', 'Buff', 'Agouti', 'Ruddy',\n",
       "       'Tortie', 'White', 'Apricot', 'Cream', 'Blue', 'Calico', 'Merle',\n",
       "       'Chocolate', 'Silver', 'Gold', 'Black', 'Lilac', 'Red', 'Pink', 'Tabby',\n",
       "       'Tan', 'Brindle', 'Brown', 'Seal', 'Torbie', 'Orange', 'Lynx', 'Gray',\n",
       "       'Smoke', 'Tiger', 'Yellow', 'Sable', 'Liver'],\n",
       "      dtype='object')"
      ]
     },
     "execution_count": 90,
     "metadata": {},
     "output_type": "execute_result"
    }
   ],
   "source": [
    "color_imp.columns"
   ]
  },
  {
   "cell_type": "code",
   "execution_count": 91,
   "metadata": {
    "collapsed": false,
    "deletable": true,
    "editable": true
   },
   "outputs": [
    {
     "data": {
      "text/html": [
       "<div>\n",
       "<table border=\"1\" class=\"dataframe\">\n",
       "  <thead>\n",
       "    <tr style=\"text-align: right;\">\n",
       "      <th></th>\n",
       "      <th>adopted</th>\n",
       "      <th>color_list</th>\n",
       "      <th>Fawn</th>\n",
       "      <th>Flame</th>\n",
       "      <th>Buff</th>\n",
       "      <th>Agouti</th>\n",
       "      <th>Ruddy</th>\n",
       "      <th>Tortie</th>\n",
       "      <th>White</th>\n",
       "      <th>Apricot</th>\n",
       "      <th>...</th>\n",
       "      <th>Seal</th>\n",
       "      <th>Torbie</th>\n",
       "      <th>Orange</th>\n",
       "      <th>Lynx</th>\n",
       "      <th>Gray</th>\n",
       "      <th>Smoke</th>\n",
       "      <th>Tiger</th>\n",
       "      <th>Yellow</th>\n",
       "      <th>Sable</th>\n",
       "      <th>Liver</th>\n",
       "    </tr>\n",
       "  </thead>\n",
       "  <tbody>\n",
       "    <tr>\n",
       "      <th>0</th>\n",
       "      <td>0</td>\n",
       "      <td>[Brown, White]</td>\n",
       "      <td>0</td>\n",
       "      <td>0</td>\n",
       "      <td>0</td>\n",
       "      <td>0</td>\n",
       "      <td>0</td>\n",
       "      <td>0</td>\n",
       "      <td>1</td>\n",
       "      <td>0</td>\n",
       "      <td>...</td>\n",
       "      <td>0</td>\n",
       "      <td>0</td>\n",
       "      <td>0</td>\n",
       "      <td>0</td>\n",
       "      <td>0</td>\n",
       "      <td>0</td>\n",
       "      <td>0</td>\n",
       "      <td>0</td>\n",
       "      <td>0</td>\n",
       "      <td>0</td>\n",
       "    </tr>\n",
       "    <tr>\n",
       "      <th>1</th>\n",
       "      <td>0</td>\n",
       "      <td>[Cream Tabby]</td>\n",
       "      <td>0</td>\n",
       "      <td>0</td>\n",
       "      <td>0</td>\n",
       "      <td>0</td>\n",
       "      <td>0</td>\n",
       "      <td>0</td>\n",
       "      <td>0</td>\n",
       "      <td>0</td>\n",
       "      <td>...</td>\n",
       "      <td>0</td>\n",
       "      <td>0</td>\n",
       "      <td>0</td>\n",
       "      <td>0</td>\n",
       "      <td>0</td>\n",
       "      <td>0</td>\n",
       "      <td>0</td>\n",
       "      <td>0</td>\n",
       "      <td>0</td>\n",
       "      <td>0</td>\n",
       "    </tr>\n",
       "    <tr>\n",
       "      <th>2</th>\n",
       "      <td>1</td>\n",
       "      <td>[Blue, White]</td>\n",
       "      <td>0</td>\n",
       "      <td>0</td>\n",
       "      <td>0</td>\n",
       "      <td>0</td>\n",
       "      <td>0</td>\n",
       "      <td>0</td>\n",
       "      <td>1</td>\n",
       "      <td>0</td>\n",
       "      <td>...</td>\n",
       "      <td>0</td>\n",
       "      <td>0</td>\n",
       "      <td>0</td>\n",
       "      <td>0</td>\n",
       "      <td>0</td>\n",
       "      <td>0</td>\n",
       "      <td>0</td>\n",
       "      <td>0</td>\n",
       "      <td>0</td>\n",
       "      <td>0</td>\n",
       "    </tr>\n",
       "    <tr>\n",
       "      <th>3</th>\n",
       "      <td>0</td>\n",
       "      <td>[Blue Cream]</td>\n",
       "      <td>0</td>\n",
       "      <td>0</td>\n",
       "      <td>0</td>\n",
       "      <td>0</td>\n",
       "      <td>0</td>\n",
       "      <td>0</td>\n",
       "      <td>0</td>\n",
       "      <td>0</td>\n",
       "      <td>...</td>\n",
       "      <td>0</td>\n",
       "      <td>0</td>\n",
       "      <td>0</td>\n",
       "      <td>0</td>\n",
       "      <td>0</td>\n",
       "      <td>0</td>\n",
       "      <td>0</td>\n",
       "      <td>0</td>\n",
       "      <td>0</td>\n",
       "      <td>0</td>\n",
       "    </tr>\n",
       "    <tr>\n",
       "      <th>4</th>\n",
       "      <td>0</td>\n",
       "      <td>[Tan]</td>\n",
       "      <td>0</td>\n",
       "      <td>0</td>\n",
       "      <td>0</td>\n",
       "      <td>0</td>\n",
       "      <td>0</td>\n",
       "      <td>0</td>\n",
       "      <td>0</td>\n",
       "      <td>0</td>\n",
       "      <td>...</td>\n",
       "      <td>0</td>\n",
       "      <td>0</td>\n",
       "      <td>0</td>\n",
       "      <td>0</td>\n",
       "      <td>0</td>\n",
       "      <td>0</td>\n",
       "      <td>0</td>\n",
       "      <td>0</td>\n",
       "      <td>0</td>\n",
       "      <td>0</td>\n",
       "    </tr>\n",
       "  </tbody>\n",
       "</table>\n",
       "<p>5 rows × 35 columns</p>\n",
       "</div>"
      ],
      "text/plain": [
       "   adopted      color_list  Fawn  Flame  Buff  Agouti  Ruddy  Tortie  White  \\\n",
       "0        0  [Brown, White]     0      0     0       0      0       0      1   \n",
       "1        0   [Cream Tabby]     0      0     0       0      0       0      0   \n",
       "2        1   [Blue, White]     0      0     0       0      0       0      1   \n",
       "3        0    [Blue Cream]     0      0     0       0      0       0      0   \n",
       "4        0           [Tan]     0      0     0       0      0       0      0   \n",
       "\n",
       "   Apricot  ...    Seal  Torbie  Orange  Lynx  Gray  Smoke  Tiger  Yellow  \\\n",
       "0        0  ...       0       0       0     0     0      0      0       0   \n",
       "1        0  ...       0       0       0     0     0      0      0       0   \n",
       "2        0  ...       0       0       0     0     0      0      0       0   \n",
       "3        0  ...       0       0       0     0     0      0      0       0   \n",
       "4        0  ...       0       0       0     0     0      0      0       0   \n",
       "\n",
       "   Sable  Liver  \n",
       "0      0      0  \n",
       "1      0      0  \n",
       "2      0      0  \n",
       "3      0      0  \n",
       "4      0      0  \n",
       "\n",
       "[5 rows x 35 columns]"
      ]
     },
     "execution_count": 91,
     "metadata": {},
     "output_type": "execute_result"
    }
   ],
   "source": [
    "color_imp.head()"
   ]
  },
  {
   "cell_type": "code",
   "execution_count": 92,
   "metadata": {
    "collapsed": false,
    "deletable": true,
    "editable": true
   },
   "outputs": [
    {
     "data": {
      "text/html": [
       "<div>\n",
       "<table border=\"1\" class=\"dataframe\">\n",
       "  <thead>\n",
       "    <tr style=\"text-align: right;\">\n",
       "      <th></th>\n",
       "      <th>adopted</th>\n",
       "      <th>Fawn</th>\n",
       "      <th>Flame</th>\n",
       "      <th>Buff</th>\n",
       "      <th>Agouti</th>\n",
       "      <th>Ruddy</th>\n",
       "      <th>Tortie</th>\n",
       "      <th>White</th>\n",
       "      <th>Apricot</th>\n",
       "      <th>Cream</th>\n",
       "      <th>...</th>\n",
       "      <th>Seal</th>\n",
       "      <th>Torbie</th>\n",
       "      <th>Orange</th>\n",
       "      <th>Lynx</th>\n",
       "      <th>Gray</th>\n",
       "      <th>Smoke</th>\n",
       "      <th>Tiger</th>\n",
       "      <th>Yellow</th>\n",
       "      <th>Sable</th>\n",
       "      <th>Liver</th>\n",
       "    </tr>\n",
       "  </thead>\n",
       "  <tbody>\n",
       "    <tr>\n",
       "      <th>count</th>\n",
       "      <td>25248.000000</td>\n",
       "      <td>25248.000000</td>\n",
       "      <td>25248.0</td>\n",
       "      <td>25248.000000</td>\n",
       "      <td>25248.000000</td>\n",
       "      <td>25248.000000</td>\n",
       "      <td>25248.00000</td>\n",
       "      <td>25248.000000</td>\n",
       "      <td>25248.000000</td>\n",
       "      <td>25248.000000</td>\n",
       "      <td>...</td>\n",
       "      <td>25248.0</td>\n",
       "      <td>25248.000000</td>\n",
       "      <td>25248.000000</td>\n",
       "      <td>25248.0</td>\n",
       "      <td>25248.000000</td>\n",
       "      <td>25248.0</td>\n",
       "      <td>25248.0</td>\n",
       "      <td>25248.000000</td>\n",
       "      <td>25248.000000</td>\n",
       "      <td>25248.000000</td>\n",
       "    </tr>\n",
       "    <tr>\n",
       "      <th>mean</th>\n",
       "      <td>0.425063</td>\n",
       "      <td>0.008199</td>\n",
       "      <td>0.0</td>\n",
       "      <td>0.012714</td>\n",
       "      <td>0.000079</td>\n",
       "      <td>0.000040</td>\n",
       "      <td>0.02222</td>\n",
       "      <td>0.459522</td>\n",
       "      <td>0.001149</td>\n",
       "      <td>0.011367</td>\n",
       "      <td>...</td>\n",
       "      <td>0.0</td>\n",
       "      <td>0.014892</td>\n",
       "      <td>0.002812</td>\n",
       "      <td>0.0</td>\n",
       "      <td>0.013308</td>\n",
       "      <td>0.0</td>\n",
       "      <td>0.0</td>\n",
       "      <td>0.009308</td>\n",
       "      <td>0.012674</td>\n",
       "      <td>0.001069</td>\n",
       "    </tr>\n",
       "    <tr>\n",
       "      <th>std</th>\n",
       "      <td>0.494362</td>\n",
       "      <td>0.090176</td>\n",
       "      <td>0.0</td>\n",
       "      <td>0.112039</td>\n",
       "      <td>0.008900</td>\n",
       "      <td>0.006293</td>\n",
       "      <td>0.14740</td>\n",
       "      <td>0.498369</td>\n",
       "      <td>0.033872</td>\n",
       "      <td>0.106012</td>\n",
       "      <td>...</td>\n",
       "      <td>0.0</td>\n",
       "      <td>0.121124</td>\n",
       "      <td>0.052956</td>\n",
       "      <td>0.0</td>\n",
       "      <td>0.114592</td>\n",
       "      <td>0.0</td>\n",
       "      <td>0.0</td>\n",
       "      <td>0.096028</td>\n",
       "      <td>0.111867</td>\n",
       "      <td>0.032685</td>\n",
       "    </tr>\n",
       "    <tr>\n",
       "      <th>min</th>\n",
       "      <td>0.000000</td>\n",
       "      <td>0.000000</td>\n",
       "      <td>0.0</td>\n",
       "      <td>0.000000</td>\n",
       "      <td>0.000000</td>\n",
       "      <td>0.000000</td>\n",
       "      <td>0.00000</td>\n",
       "      <td>0.000000</td>\n",
       "      <td>0.000000</td>\n",
       "      <td>0.000000</td>\n",
       "      <td>...</td>\n",
       "      <td>0.0</td>\n",
       "      <td>0.000000</td>\n",
       "      <td>0.000000</td>\n",
       "      <td>0.0</td>\n",
       "      <td>0.000000</td>\n",
       "      <td>0.0</td>\n",
       "      <td>0.0</td>\n",
       "      <td>0.000000</td>\n",
       "      <td>0.000000</td>\n",
       "      <td>0.000000</td>\n",
       "    </tr>\n",
       "    <tr>\n",
       "      <th>25%</th>\n",
       "      <td>0.000000</td>\n",
       "      <td>0.000000</td>\n",
       "      <td>0.0</td>\n",
       "      <td>0.000000</td>\n",
       "      <td>0.000000</td>\n",
       "      <td>0.000000</td>\n",
       "      <td>0.00000</td>\n",
       "      <td>0.000000</td>\n",
       "      <td>0.000000</td>\n",
       "      <td>0.000000</td>\n",
       "      <td>...</td>\n",
       "      <td>0.0</td>\n",
       "      <td>0.000000</td>\n",
       "      <td>0.000000</td>\n",
       "      <td>0.0</td>\n",
       "      <td>0.000000</td>\n",
       "      <td>0.0</td>\n",
       "      <td>0.0</td>\n",
       "      <td>0.000000</td>\n",
       "      <td>0.000000</td>\n",
       "      <td>0.000000</td>\n",
       "    </tr>\n",
       "    <tr>\n",
       "      <th>50%</th>\n",
       "      <td>0.000000</td>\n",
       "      <td>0.000000</td>\n",
       "      <td>0.0</td>\n",
       "      <td>0.000000</td>\n",
       "      <td>0.000000</td>\n",
       "      <td>0.000000</td>\n",
       "      <td>0.00000</td>\n",
       "      <td>0.000000</td>\n",
       "      <td>0.000000</td>\n",
       "      <td>0.000000</td>\n",
       "      <td>...</td>\n",
       "      <td>0.0</td>\n",
       "      <td>0.000000</td>\n",
       "      <td>0.000000</td>\n",
       "      <td>0.0</td>\n",
       "      <td>0.000000</td>\n",
       "      <td>0.0</td>\n",
       "      <td>0.0</td>\n",
       "      <td>0.000000</td>\n",
       "      <td>0.000000</td>\n",
       "      <td>0.000000</td>\n",
       "    </tr>\n",
       "    <tr>\n",
       "      <th>75%</th>\n",
       "      <td>1.000000</td>\n",
       "      <td>0.000000</td>\n",
       "      <td>0.0</td>\n",
       "      <td>0.000000</td>\n",
       "      <td>0.000000</td>\n",
       "      <td>0.000000</td>\n",
       "      <td>0.00000</td>\n",
       "      <td>1.000000</td>\n",
       "      <td>0.000000</td>\n",
       "      <td>0.000000</td>\n",
       "      <td>...</td>\n",
       "      <td>0.0</td>\n",
       "      <td>0.000000</td>\n",
       "      <td>0.000000</td>\n",
       "      <td>0.0</td>\n",
       "      <td>0.000000</td>\n",
       "      <td>0.0</td>\n",
       "      <td>0.0</td>\n",
       "      <td>0.000000</td>\n",
       "      <td>0.000000</td>\n",
       "      <td>0.000000</td>\n",
       "    </tr>\n",
       "    <tr>\n",
       "      <th>max</th>\n",
       "      <td>1.000000</td>\n",
       "      <td>1.000000</td>\n",
       "      <td>0.0</td>\n",
       "      <td>1.000000</td>\n",
       "      <td>1.000000</td>\n",
       "      <td>1.000000</td>\n",
       "      <td>1.00000</td>\n",
       "      <td>1.000000</td>\n",
       "      <td>1.000000</td>\n",
       "      <td>1.000000</td>\n",
       "      <td>...</td>\n",
       "      <td>0.0</td>\n",
       "      <td>1.000000</td>\n",
       "      <td>1.000000</td>\n",
       "      <td>0.0</td>\n",
       "      <td>1.000000</td>\n",
       "      <td>0.0</td>\n",
       "      <td>0.0</td>\n",
       "      <td>1.000000</td>\n",
       "      <td>1.000000</td>\n",
       "      <td>1.000000</td>\n",
       "    </tr>\n",
       "  </tbody>\n",
       "</table>\n",
       "<p>8 rows × 34 columns</p>\n",
       "</div>"
      ],
      "text/plain": [
       "            adopted          Fawn    Flame          Buff        Agouti  \\\n",
       "count  25248.000000  25248.000000  25248.0  25248.000000  25248.000000   \n",
       "mean       0.425063      0.008199      0.0      0.012714      0.000079   \n",
       "std        0.494362      0.090176      0.0      0.112039      0.008900   \n",
       "min        0.000000      0.000000      0.0      0.000000      0.000000   \n",
       "25%        0.000000      0.000000      0.0      0.000000      0.000000   \n",
       "50%        0.000000      0.000000      0.0      0.000000      0.000000   \n",
       "75%        1.000000      0.000000      0.0      0.000000      0.000000   \n",
       "max        1.000000      1.000000      0.0      1.000000      1.000000   \n",
       "\n",
       "              Ruddy       Tortie         White       Apricot         Cream  \\\n",
       "count  25248.000000  25248.00000  25248.000000  25248.000000  25248.000000   \n",
       "mean       0.000040      0.02222      0.459522      0.001149      0.011367   \n",
       "std        0.006293      0.14740      0.498369      0.033872      0.106012   \n",
       "min        0.000000      0.00000      0.000000      0.000000      0.000000   \n",
       "25%        0.000000      0.00000      0.000000      0.000000      0.000000   \n",
       "50%        0.000000      0.00000      0.000000      0.000000      0.000000   \n",
       "75%        0.000000      0.00000      1.000000      0.000000      0.000000   \n",
       "max        1.000000      1.00000      1.000000      1.000000      1.000000   \n",
       "\n",
       "           ...          Seal        Torbie        Orange     Lynx  \\\n",
       "count      ...       25248.0  25248.000000  25248.000000  25248.0   \n",
       "mean       ...           0.0      0.014892      0.002812      0.0   \n",
       "std        ...           0.0      0.121124      0.052956      0.0   \n",
       "min        ...           0.0      0.000000      0.000000      0.0   \n",
       "25%        ...           0.0      0.000000      0.000000      0.0   \n",
       "50%        ...           0.0      0.000000      0.000000      0.0   \n",
       "75%        ...           0.0      0.000000      0.000000      0.0   \n",
       "max        ...           0.0      1.000000      1.000000      0.0   \n",
       "\n",
       "               Gray    Smoke    Tiger        Yellow         Sable  \\\n",
       "count  25248.000000  25248.0  25248.0  25248.000000  25248.000000   \n",
       "mean       0.013308      0.0      0.0      0.009308      0.012674   \n",
       "std        0.114592      0.0      0.0      0.096028      0.111867   \n",
       "min        0.000000      0.0      0.0      0.000000      0.000000   \n",
       "25%        0.000000      0.0      0.0      0.000000      0.000000   \n",
       "50%        0.000000      0.0      0.0      0.000000      0.000000   \n",
       "75%        0.000000      0.0      0.0      0.000000      0.000000   \n",
       "max        1.000000      0.0      0.0      1.000000      1.000000   \n",
       "\n",
       "              Liver  \n",
       "count  25248.000000  \n",
       "mean       0.001069  \n",
       "std        0.032685  \n",
       "min        0.000000  \n",
       "25%        0.000000  \n",
       "50%        0.000000  \n",
       "75%        0.000000  \n",
       "max        1.000000  \n",
       "\n",
       "[8 rows x 34 columns]"
      ]
     },
     "execution_count": 92,
     "metadata": {},
     "output_type": "execute_result"
    }
   ],
   "source": [
    "color_imp.describe()"
   ]
  },
  {
   "cell_type": "code",
   "execution_count": 93,
   "metadata": {
    "collapsed": false,
    "deletable": true,
    "editable": true,
    "scrolled": true
   },
   "outputs": [
    {
     "data": {
      "text/plain": [
       "Black/White          2658\n",
       "Black                2053\n",
       "Brown Tabby          1428\n",
       "White                 879\n",
       "Brown/White           877\n",
       "Brown Tabby/White     829\n",
       "Tan/White             757\n",
       "Orange Tabby          750\n",
       "Tricolor              740\n",
       "Black/Tan             663\n",
       "Name: color, dtype: int64"
      ]
     },
     "execution_count": 93,
     "metadata": {},
     "output_type": "execute_result"
    }
   ],
   "source": [
    "animals.color.value_counts().head(10)"
   ]
  },
  {
   "cell_type": "code",
   "execution_count": 94,
   "metadata": {
    "collapsed": false,
    "deletable": true,
    "editable": true
   },
   "outputs": [
    {
     "data": {
      "text/plain": [
       "adopted    1.000000\n",
       "Sable      0.020756\n",
       "White      0.008909\n",
       "Tan        0.007744\n",
       "Ruddy      0.007319\n",
       "Buff       0.006833\n",
       "Tortie     0.005729\n",
       "Black      0.004729\n",
       "Brown      0.001535\n",
       "Agouti     0.001349\n",
       "Torbie     0.000778\n",
       "Name: adopted, dtype: float64"
      ]
     },
     "execution_count": 94,
     "metadata": {},
     "output_type": "execute_result"
    }
   ],
   "source": [
    "color_imp.corr()['adopted'].sort_values(ascending=False)[:11]"
   ]
  },
  {
   "cell_type": "code",
   "execution_count": 95,
   "metadata": {
    "collapsed": true,
    "deletable": true,
    "editable": true
   },
   "outputs": [],
   "source": [
    "# add these 10 colors back to animals dataframe as columns..."
   ]
  },
  {
   "cell_type": "code",
   "execution_count": 96,
   "metadata": {
    "collapsed": false,
    "deletable": true,
    "editable": true
   },
   "outputs": [],
   "source": [
    "top10_colors = [color for color in color_imp.corr()['adopted'].sort_values(ascending=False).index[:11] if color != 'adopted']"
   ]
  },
  {
   "cell_type": "code",
   "execution_count": 97,
   "metadata": {
    "collapsed": false,
    "deletable": true,
    "editable": true
   },
   "outputs": [],
   "source": [
    "for color in top10_colors:\n",
    "    animals[color] = animals.color_list.map(lambda row: 1 if color in row else 0)"
   ]
  },
  {
   "cell_type": "code",
   "execution_count": 98,
   "metadata": {
    "collapsed": false,
    "deletable": true,
    "editable": true,
    "scrolled": true
   },
   "outputs": [
    {
     "data": {
      "text/html": [
       "<div>\n",
       "<table border=\"1\" class=\"dataframe\">\n",
       "  <thead>\n",
       "    <tr style=\"text-align: right;\">\n",
       "      <th></th>\n",
       "      <th>id</th>\n",
       "      <th>name</th>\n",
       "      <th>date_outcome</th>\n",
       "      <th>outcome</th>\n",
       "      <th>outcome_info</th>\n",
       "      <th>animal</th>\n",
       "      <th>sex_outcome</th>\n",
       "      <th>age</th>\n",
       "      <th>breed</th>\n",
       "      <th>color</th>\n",
       "      <th>...</th>\n",
       "      <th>Sable</th>\n",
       "      <th>White</th>\n",
       "      <th>Tan</th>\n",
       "      <th>Ruddy</th>\n",
       "      <th>Buff</th>\n",
       "      <th>Tortie</th>\n",
       "      <th>Black</th>\n",
       "      <th>Brown</th>\n",
       "      <th>Agouti</th>\n",
       "      <th>Torbie</th>\n",
       "    </tr>\n",
       "  </thead>\n",
       "  <tbody>\n",
       "    <tr>\n",
       "      <th>0</th>\n",
       "      <td>A671945</td>\n",
       "      <td>Hambone</td>\n",
       "      <td>2014-02-12 18:22:00</td>\n",
       "      <td>Return_to_owner</td>\n",
       "      <td>NaN</td>\n",
       "      <td>Dog</td>\n",
       "      <td>Neutered Male</td>\n",
       "      <td>1 year</td>\n",
       "      <td>Shetland Sheepdog Mix</td>\n",
       "      <td>Brown/White</td>\n",
       "      <td>...</td>\n",
       "      <td>0</td>\n",
       "      <td>1</td>\n",
       "      <td>0</td>\n",
       "      <td>0</td>\n",
       "      <td>0</td>\n",
       "      <td>0</td>\n",
       "      <td>0</td>\n",
       "      <td>1</td>\n",
       "      <td>0</td>\n",
       "      <td>0</td>\n",
       "    </tr>\n",
       "    <tr>\n",
       "      <th>1</th>\n",
       "      <td>A656520</td>\n",
       "      <td>Emily</td>\n",
       "      <td>2013-10-13 12:44:00</td>\n",
       "      <td>Euthanasia</td>\n",
       "      <td>Suffering</td>\n",
       "      <td>Cat</td>\n",
       "      <td>Spayed Female</td>\n",
       "      <td>1 year</td>\n",
       "      <td>Domestic Shorthair Mix</td>\n",
       "      <td>Cream Tabby</td>\n",
       "      <td>...</td>\n",
       "      <td>0</td>\n",
       "      <td>0</td>\n",
       "      <td>0</td>\n",
       "      <td>0</td>\n",
       "      <td>0</td>\n",
       "      <td>0</td>\n",
       "      <td>0</td>\n",
       "      <td>0</td>\n",
       "      <td>0</td>\n",
       "      <td>0</td>\n",
       "    </tr>\n",
       "    <tr>\n",
       "      <th>2</th>\n",
       "      <td>A686464</td>\n",
       "      <td>Pearce</td>\n",
       "      <td>2015-01-31 12:28:00</td>\n",
       "      <td>Adoption</td>\n",
       "      <td>Foster</td>\n",
       "      <td>Dog</td>\n",
       "      <td>Neutered Male</td>\n",
       "      <td>2 years</td>\n",
       "      <td>Pit Bull Mix</td>\n",
       "      <td>Blue/White</td>\n",
       "      <td>...</td>\n",
       "      <td>0</td>\n",
       "      <td>1</td>\n",
       "      <td>0</td>\n",
       "      <td>0</td>\n",
       "      <td>0</td>\n",
       "      <td>0</td>\n",
       "      <td>0</td>\n",
       "      <td>0</td>\n",
       "      <td>0</td>\n",
       "      <td>0</td>\n",
       "    </tr>\n",
       "  </tbody>\n",
       "</table>\n",
       "<p>3 rows × 37 columns</p>\n",
       "</div>"
      ],
      "text/plain": [
       "        id     name         date_outcome          outcome outcome_info animal  \\\n",
       "0  A671945  Hambone  2014-02-12 18:22:00  Return_to_owner          NaN    Dog   \n",
       "1  A656520    Emily  2013-10-13 12:44:00       Euthanasia    Suffering    Cat   \n",
       "2  A686464   Pearce  2015-01-31 12:28:00         Adoption       Foster    Dog   \n",
       "\n",
       "     sex_outcome      age                   breed        color   ...    Sable  \\\n",
       "0  Neutered Male   1 year   Shetland Sheepdog Mix  Brown/White   ...        0   \n",
       "1  Spayed Female   1 year  Domestic Shorthair Mix  Cream Tabby   ...        0   \n",
       "2  Neutered Male  2 years            Pit Bull Mix   Blue/White   ...        0   \n",
       "\n",
       "   White  Tan  Ruddy  Buff  Tortie Black  Brown  Agouti  Torbie  \n",
       "0      1    0      0     0       0     0      1       0       0  \n",
       "1      0    0      0     0       0     0      0       0       0  \n",
       "2      1    0      0     0       0     0      0       0       0  \n",
       "\n",
       "[3 rows x 37 columns]"
      ]
     },
     "execution_count": 98,
     "metadata": {},
     "output_type": "execute_result"
    }
   ],
   "source": [
    "animals.head(3)"
   ]
  },
  {
   "cell_type": "code",
   "execution_count": 99,
   "metadata": {
    "collapsed": false,
    "deletable": true,
    "editable": true
   },
   "outputs": [
    {
     "data": {
      "text/plain": [
       "0    24872\n",
       "1      376\n",
       "Name: Torbie, dtype: int64"
      ]
     },
     "execution_count": 99,
     "metadata": {},
     "output_type": "execute_result"
    }
   ],
   "source": [
    "animals.Torbie.value_counts()"
   ]
  },
  {
   "cell_type": "code",
   "execution_count": 100,
   "metadata": {
    "collapsed": false,
    "deletable": true,
    "editable": true
   },
   "outputs": [
    {
     "data": {
      "text/plain": [
       "376"
      ]
     },
     "execution_count": 100,
     "metadata": {},
     "output_type": "execute_result"
    }
   ],
   "source": [
    "count = 0\n",
    "for row in animals.color:\n",
    "    if \"Torbie\" in row:\n",
    "        count += 1\n",
    "count        "
   ]
  },
  {
   "cell_type": "code",
   "execution_count": 101,
   "metadata": {
    "collapsed": false,
    "deletable": true,
    "editable": true
   },
   "outputs": [
    {
     "data": {
      "text/plain": [
       "Index(['id', 'name', 'date_outcome', 'outcome', 'outcome_info', 'animal',\n",
       "       'sex_outcome', 'age', 'breed', 'color', 'dog', 'adopted', 'has_name',\n",
       "       'pop_name', 'sex', 'spay_neutered', 'datetime', 'day', 'month', 'year',\n",
       "       'hour', 'minutes', 'time_of_day', 'season', 'age_in_weeks',\n",
       "       'color_list', 'mutli_color', 'Sable', 'White', 'Tan', 'Ruddy', 'Buff',\n",
       "       'Tortie', 'Black', 'Brown', 'Agouti', 'Torbie'],\n",
       "      dtype='object')"
      ]
     },
     "execution_count": 101,
     "metadata": {},
     "output_type": "execute_result"
    }
   ],
   "source": [
    "animals.columns"
   ]
  },
  {
   "cell_type": "code",
   "execution_count": 105,
   "metadata": {
    "collapsed": false,
    "deletable": true,
    "editable": true
   },
   "outputs": [
    {
     "name": "stdout",
     "output_type": "stream",
     "text": [
      "Warning: Maximum number of iterations has been exceeded.\n",
      "         Current function value: 0.497406\n",
      "         Iterations: 35\n"
     ]
    },
    {
     "name": "stderr",
     "output_type": "stream",
     "text": [
      "/Users/VanessaG/anaconda3/envs/stats/lib/python3.6/site-packages/statsmodels/base/model.py:466: ConvergenceWarning: Maximum Likelihood optimization failed to converge. Check mle_retvals\n",
      "  \"Check mle_retvals\", ConvergenceWarning)\n"
     ]
    },
    {
     "data": {
      "text/html": [
       "<table class=\"simpletable\">\n",
       "<caption>Logit Regression Results</caption>\n",
       "<tr>\n",
       "  <th>Dep. Variable:</th>      <td>adopted</td>     <th>  No. Observations:  </th>  <td> 25248</td> \n",
       "</tr>\n",
       "<tr>\n",
       "  <th>Model:</th>               <td>Logit</td>      <th>  Df Residuals:      </th>  <td> 25223</td> \n",
       "</tr>\n",
       "<tr>\n",
       "  <th>Method:</th>               <td>MLE</td>       <th>  Df Model:          </th>  <td>    24</td> \n",
       "</tr>\n",
       "<tr>\n",
       "  <th>Date:</th>          <td>Fri, 10 Mar 2017</td> <th>  Pseudo R-squ.:     </th>  <td>0.2705</td> \n",
       "</tr>\n",
       "<tr>\n",
       "  <th>Time:</th>              <td>12:03:19</td>     <th>  Log-Likelihood:    </th> <td> -12558.</td>\n",
       "</tr>\n",
       "<tr>\n",
       "  <th>converged:</th>           <td>False</td>      <th>  LL-Null:           </th> <td> -17216.</td>\n",
       "</tr>\n",
       "<tr>\n",
       "  <th> </th>                      <td> </td>        <th>  LLR p-value:       </th>  <td> 0.000</td> \n",
       "</tr>\n",
       "</table>\n",
       "<table class=\"simpletable\">\n",
       "<tr>\n",
       "             <td></td>               <th>coef</th>     <th>std err</th>      <th>z</th>      <th>P>|z|</th> <th>[95.0% Conf. Int.]</th> \n",
       "</tr>\n",
       "<tr>\n",
       "  <th>Intercept</th>              <td>   -3.5242</td> <td>    0.482</td> <td>   -7.313</td> <td> 0.000</td> <td>   -4.469    -2.580</td>\n",
       "</tr>\n",
       "<tr>\n",
       "  <th>time_of_day[T.evening]</th> <td>    0.0236</td> <td>    0.265</td> <td>    0.089</td> <td> 0.929</td> <td>   -0.496     0.543</td>\n",
       "</tr>\n",
       "<tr>\n",
       "  <th>time_of_day[T.morning]</th> <td>    0.2317</td> <td>    0.241</td> <td>    0.962</td> <td> 0.336</td> <td>   -0.240     0.704</td>\n",
       "</tr>\n",
       "<tr>\n",
       "  <th>season[T.spring]</th>       <td>    0.0455</td> <td>    0.141</td> <td>    0.322</td> <td> 0.747</td> <td>   -0.231     0.322</td>\n",
       "</tr>\n",
       "<tr>\n",
       "  <th>season[T.summer]</th>       <td>    0.3247</td> <td>    0.087</td> <td>    3.713</td> <td> 0.000</td> <td>    0.153     0.496</td>\n",
       "</tr>\n",
       "<tr>\n",
       "  <th>season[T.winter]</th>       <td>    0.3376</td> <td>    0.196</td> <td>    1.724</td> <td> 0.085</td> <td>   -0.046     0.722</td>\n",
       "</tr>\n",
       "<tr>\n",
       "  <th>dog</th>                    <td>   -0.4983</td> <td>    0.040</td> <td>  -12.449</td> <td> 0.000</td> <td>   -0.577    -0.420</td>\n",
       "</tr>\n",
       "<tr>\n",
       "  <th>has_name</th>               <td>    0.3119</td> <td>    0.043</td> <td>    7.253</td> <td> 0.000</td> <td>    0.228     0.396</td>\n",
       "</tr>\n",
       "<tr>\n",
       "  <th>pop_name</th>               <td>   -0.1043</td> <td>    0.075</td> <td>   -1.385</td> <td> 0.166</td> <td>   -0.252     0.043</td>\n",
       "</tr>\n",
       "<tr>\n",
       "  <th>sex</th>                    <td>    0.2384</td> <td>    0.031</td> <td>    7.575</td> <td> 0.000</td> <td>    0.177     0.300</td>\n",
       "</tr>\n",
       "<tr>\n",
       "  <th>spay_neutered</th>          <td>    3.6053</td> <td>    0.062</td> <td>   58.281</td> <td> 0.000</td> <td>    3.484     3.727</td>\n",
       "</tr>\n",
       "<tr>\n",
       "  <th>day</th>                    <td>    0.1345</td> <td>    0.008</td> <td>   17.878</td> <td> 0.000</td> <td>    0.120     0.149</td>\n",
       "</tr>\n",
       "<tr>\n",
       "  <th>month</th>                  <td>   -0.0026</td> <td>    0.024</td> <td>   -0.108</td> <td> 0.914</td> <td>   -0.051     0.045</td>\n",
       "</tr>\n",
       "<tr>\n",
       "  <th>age_in_weeks</th>           <td>   -0.0046</td> <td>    0.000</td> <td>  -38.163</td> <td> 0.000</td> <td>   -0.005    -0.004</td>\n",
       "</tr>\n",
       "<tr>\n",
       "  <th>mutli_color</th>            <td>    0.0801</td> <td>    0.048</td> <td>    1.682</td> <td> 0.093</td> <td>   -0.013     0.173</td>\n",
       "</tr>\n",
       "<tr>\n",
       "  <th>Sable</th>                  <td>    0.4265</td> <td>    0.136</td> <td>    3.125</td> <td> 0.002</td> <td>    0.159     0.694</td>\n",
       "</tr>\n",
       "<tr>\n",
       "  <th>White</th>                  <td>   -0.0911</td> <td>    0.045</td> <td>   -2.046</td> <td> 0.041</td> <td>   -0.178    -0.004</td>\n",
       "</tr>\n",
       "<tr>\n",
       "  <th>Tan</th>                    <td>    0.0261</td> <td>    0.051</td> <td>    0.508</td> <td> 0.611</td> <td>   -0.075     0.127</td>\n",
       "</tr>\n",
       "<tr>\n",
       "  <th>Ruddy</th>                  <td>   14.5876</td> <td> 1887.082</td> <td>    0.008</td> <td> 0.994</td> <td>-3684.024  3713.199</td>\n",
       "</tr>\n",
       "<tr>\n",
       "  <th>Buff</th>                   <td>    0.2499</td> <td>    0.134</td> <td>    1.860</td> <td> 0.063</td> <td>   -0.013     0.513</td>\n",
       "</tr>\n",
       "<tr>\n",
       "  <th>Tortie</th>                 <td>   -0.1634</td> <td>    0.119</td> <td>   -1.372</td> <td> 0.170</td> <td>   -0.397     0.070</td>\n",
       "</tr>\n",
       "<tr>\n",
       "  <th>Black</th>                  <td>   -0.0060</td> <td>    0.037</td> <td>   -0.165</td> <td> 0.869</td> <td>   -0.078     0.066</td>\n",
       "</tr>\n",
       "<tr>\n",
       "  <th>Brown</th>                  <td>    0.0185</td> <td>    0.051</td> <td>    0.364</td> <td> 0.716</td> <td>   -0.081     0.118</td>\n",
       "</tr>\n",
       "<tr>\n",
       "  <th>Agouti</th>                 <td>   -1.1866</td> <td>    1.416</td> <td>   -0.838</td> <td> 0.402</td> <td>   -3.963     1.590</td>\n",
       "</tr>\n",
       "<tr>\n",
       "  <th>Torbie</th>                 <td>   -0.0459</td> <td>    0.147</td> <td>   -0.313</td> <td> 0.755</td> <td>   -0.333     0.242</td>\n",
       "</tr>\n",
       "</table>"
      ],
      "text/plain": [
       "<class 'statsmodels.iolib.summary.Summary'>\n",
       "\"\"\"\n",
       "                           Logit Regression Results                           \n",
       "==============================================================================\n",
       "Dep. Variable:                adopted   No. Observations:                25248\n",
       "Model:                          Logit   Df Residuals:                    25223\n",
       "Method:                           MLE   Df Model:                           24\n",
       "Date:                Fri, 10 Mar 2017   Pseudo R-squ.:                  0.2705\n",
       "Time:                        12:03:19   Log-Likelihood:                -12558.\n",
       "converged:                      False   LL-Null:                       -17216.\n",
       "                                        LLR p-value:                     0.000\n",
       "==========================================================================================\n",
       "                             coef    std err          z      P>|z|      [95.0% Conf. Int.]\n",
       "------------------------------------------------------------------------------------------\n",
       "Intercept                 -3.5242      0.482     -7.313      0.000        -4.469    -2.580\n",
       "time_of_day[T.evening]     0.0236      0.265      0.089      0.929        -0.496     0.543\n",
       "time_of_day[T.morning]     0.2317      0.241      0.962      0.336        -0.240     0.704\n",
       "season[T.spring]           0.0455      0.141      0.322      0.747        -0.231     0.322\n",
       "season[T.summer]           0.3247      0.087      3.713      0.000         0.153     0.496\n",
       "season[T.winter]           0.3376      0.196      1.724      0.085        -0.046     0.722\n",
       "dog                       -0.4983      0.040    -12.449      0.000        -0.577    -0.420\n",
       "has_name                   0.3119      0.043      7.253      0.000         0.228     0.396\n",
       "pop_name                  -0.1043      0.075     -1.385      0.166        -0.252     0.043\n",
       "sex                        0.2384      0.031      7.575      0.000         0.177     0.300\n",
       "spay_neutered              3.6053      0.062     58.281      0.000         3.484     3.727\n",
       "day                        0.1345      0.008     17.878      0.000         0.120     0.149\n",
       "month                     -0.0026      0.024     -0.108      0.914        -0.051     0.045\n",
       "age_in_weeks              -0.0046      0.000    -38.163      0.000        -0.005    -0.004\n",
       "mutli_color                0.0801      0.048      1.682      0.093        -0.013     0.173\n",
       "Sable                      0.4265      0.136      3.125      0.002         0.159     0.694\n",
       "White                     -0.0911      0.045     -2.046      0.041        -0.178    -0.004\n",
       "Tan                        0.0261      0.051      0.508      0.611        -0.075     0.127\n",
       "Ruddy                     14.5876   1887.082      0.008      0.994     -3684.024  3713.199\n",
       "Buff                       0.2499      0.134      1.860      0.063        -0.013     0.513\n",
       "Tortie                    -0.1634      0.119     -1.372      0.170        -0.397     0.070\n",
       "Black                     -0.0060      0.037     -0.165      0.869        -0.078     0.066\n",
       "Brown                      0.0185      0.051      0.364      0.716        -0.081     0.118\n",
       "Agouti                    -1.1866      1.416     -0.838      0.402        -3.963     1.590\n",
       "Torbie                    -0.0459      0.147     -0.313      0.755        -0.333     0.242\n",
       "==========================================================================================\n",
       "\"\"\""
      ]
     },
     "execution_count": 105,
     "metadata": {},
     "output_type": "execute_result"
    }
   ],
   "source": [
    "# Pseudo R-squared keeps going up obviously as I add variables\n",
    "model_color = smf.logit(formula='adopted ~ dog + has_name + pop_name + sex +'\\\n",
    "                      'spay_neutered + day + month + time_of_day + season +'\\\n",
    "                      'age_in_weeks + mutli_color + Sable + White + Tan + Ruddy +'\\\n",
    "                    'Buff + Tortie + Black + Brown + Agouti + Torbie', data=animals).fit()\n",
    "model_color.summary()"
   ]
  },
  {
   "cell_type": "markdown",
   "metadata": {
    "deletable": true,
    "editable": true
   },
   "source": [
    "### Breed"
   ]
  },
  {
   "cell_type": "code",
   "execution_count": 106,
   "metadata": {
    "collapsed": false,
    "deletable": true,
    "editable": true,
    "scrolled": false
   },
   "outputs": [
    {
     "name": "stdout",
     "output_type": "stream",
     "text": [
      "1371\n",
      "25\n"
     ]
    },
    {
     "data": {
      "text/plain": [
       "Domestic Shorthair Mix       7782\n",
       "Pit Bull Mix                 1876\n",
       "Chihuahua Shorthair Mix      1726\n",
       "Labrador Retriever Mix       1322\n",
       "Domestic Medium Hair Mix      786\n",
       "German Shepherd Mix           570\n",
       "Domestic Longhair Mix         482\n",
       "Siamese Mix                   368\n",
       "Australian Cattle Dog Mix     362\n",
       "Dachshund Mix                 309\n",
       "Boxer Mix                     233\n",
       "Miniature Poodle Mix          231\n",
       "Border Collie Mix             214\n",
       "Australian Shepherd Mix       158\n",
       "Catahoula Mix                 155\n",
       "Rat Terrier Mix               153\n",
       "Jack Russell Terrier Mix      144\n",
       "Yorkshire Terrier Mix         141\n",
       "Chihuahua Longhair Mix        138\n",
       "Siberian Husky Mix            135\n",
       "Miniature Schnauzer Mix       133\n",
       "Domestic Shorthair            133\n",
       "Beagle Mix                    123\n",
       "Rottweiler Mix                110\n",
       "American Bulldog Mix          109\n",
       "Name: breed, dtype: int64"
      ]
     },
     "execution_count": 106,
     "metadata": {},
     "output_type": "execute_result"
    }
   ],
   "source": [
    "print(len(animals.breed.value_counts()))\n",
    "value_counts = animals.breed.value_counts()\n",
    "print(len(value_counts[value_counts > 100]))\n",
    "value_counts[value_counts > 100]"
   ]
  },
  {
   "cell_type": "code",
   "execution_count": 107,
   "metadata": {
    "collapsed": false,
    "deletable": true,
    "editable": true
   },
   "outputs": [],
   "source": [
    "animals['mixed_breed'] = animals.breed.apply(lambda row: \\\n",
    "                                             1 if '/' in row or 'mix' in row.lower() else 0)"
   ]
  },
  {
   "cell_type": "code",
   "execution_count": 108,
   "metadata": {
    "collapsed": false,
    "deletable": true,
    "editable": true,
    "scrolled": false
   },
   "outputs": [
    {
     "data": {
      "text/html": [
       "<div>\n",
       "<table border=\"1\" class=\"dataframe\">\n",
       "  <thead>\n",
       "    <tr style=\"text-align: right;\">\n",
       "      <th></th>\n",
       "      <th>breed</th>\n",
       "      <th>mixed_breed</th>\n",
       "    </tr>\n",
       "  </thead>\n",
       "  <tbody>\n",
       "    <tr>\n",
       "      <th>0</th>\n",
       "      <td>Shetland Sheepdog Mix</td>\n",
       "      <td>1</td>\n",
       "    </tr>\n",
       "    <tr>\n",
       "      <th>1</th>\n",
       "      <td>Domestic Shorthair Mix</td>\n",
       "      <td>1</td>\n",
       "    </tr>\n",
       "    <tr>\n",
       "      <th>2</th>\n",
       "      <td>Pit Bull Mix</td>\n",
       "      <td>1</td>\n",
       "    </tr>\n",
       "    <tr>\n",
       "      <th>3</th>\n",
       "      <td>Domestic Shorthair Mix</td>\n",
       "      <td>1</td>\n",
       "    </tr>\n",
       "    <tr>\n",
       "      <th>4</th>\n",
       "      <td>Lhasa Apso/Miniature Poodle</td>\n",
       "      <td>1</td>\n",
       "    </tr>\n",
       "    <tr>\n",
       "      <th>5</th>\n",
       "      <td>Cairn Terrier/Chihuahua Shorthair</td>\n",
       "      <td>1</td>\n",
       "    </tr>\n",
       "    <tr>\n",
       "      <th>6</th>\n",
       "      <td>Domestic Shorthair Mix</td>\n",
       "      <td>1</td>\n",
       "    </tr>\n",
       "    <tr>\n",
       "      <th>7</th>\n",
       "      <td>American Pit Bull Terrier Mix</td>\n",
       "      <td>1</td>\n",
       "    </tr>\n",
       "    <tr>\n",
       "      <th>8</th>\n",
       "      <td>Cairn Terrier</td>\n",
       "      <td>0</td>\n",
       "    </tr>\n",
       "    <tr>\n",
       "      <th>9</th>\n",
       "      <td>Miniature Schnauzer Mix</td>\n",
       "      <td>1</td>\n",
       "    </tr>\n",
       "  </tbody>\n",
       "</table>\n",
       "</div>"
      ],
      "text/plain": [
       "                               breed  mixed_breed\n",
       "0              Shetland Sheepdog Mix            1\n",
       "1             Domestic Shorthair Mix            1\n",
       "2                       Pit Bull Mix            1\n",
       "3             Domestic Shorthair Mix            1\n",
       "4        Lhasa Apso/Miniature Poodle            1\n",
       "5  Cairn Terrier/Chihuahua Shorthair            1\n",
       "6             Domestic Shorthair Mix            1\n",
       "7      American Pit Bull Terrier Mix            1\n",
       "8                      Cairn Terrier            0\n",
       "9            Miniature Schnauzer Mix            1"
      ]
     },
     "execution_count": 108,
     "metadata": {},
     "output_type": "execute_result"
    }
   ],
   "source": [
    "animals[['breed','mixed_breed']].head(10)"
   ]
  },
  {
   "cell_type": "code",
   "execution_count": 109,
   "metadata": {
    "collapsed": true,
    "deletable": true,
    "editable": true
   },
   "outputs": [],
   "source": [
    "animals['breed_list'] = animals.breed.apply(lambda row: row.split('/'))"
   ]
  },
  {
   "cell_type": "code",
   "execution_count": 110,
   "metadata": {
    "collapsed": false,
    "deletable": true,
    "editable": true,
    "scrolled": true
   },
   "outputs": [
    {
     "data": {
      "text/plain": [
       "Index(['id', 'name', 'date_outcome', 'outcome', 'outcome_info', 'animal',\n",
       "       'sex_outcome', 'age', 'breed', 'color', 'dog', 'adopted', 'has_name',\n",
       "       'pop_name', 'sex', 'spay_neutered', 'datetime', 'day', 'month', 'year',\n",
       "       'hour', 'minutes', 'time_of_day', 'season', 'age_in_weeks',\n",
       "       'color_list', 'mutli_color', 'Sable', 'White', 'Tan', 'Ruddy', 'Buff',\n",
       "       'Tortie', 'Black', 'Brown', 'Agouti', 'Torbie', 'mixed_breed',\n",
       "       'breed_list'],\n",
       "      dtype='object')"
      ]
     },
     "execution_count": 110,
     "metadata": {},
     "output_type": "execute_result"
    }
   ],
   "source": [
    "animals.columns"
   ]
  },
  {
   "cell_type": "code",
   "execution_count": 111,
   "metadata": {
    "collapsed": false,
    "deletable": true,
    "editable": true,
    "scrolled": true
   },
   "outputs": [
    {
     "data": {
      "text/plain": [
       "0           [Shetland Sheepdog Mix]\n",
       "1          [Domestic Shorthair Mix]\n",
       "2                    [Pit Bull Mix]\n",
       "3          [Domestic Shorthair Mix]\n",
       "4    [Lhasa Apso, Miniature Poodle]\n",
       "Name: breed_list, dtype: object"
      ]
     },
     "execution_count": 111,
     "metadata": {},
     "output_type": "execute_result"
    }
   ],
   "source": [
    "animals['breed_list'].head()"
   ]
  },
  {
   "cell_type": "code",
   "execution_count": 112,
   "metadata": {
    "collapsed": false,
    "deletable": true,
    "editable": true,
    "scrolled": true
   },
   "outputs": [
    {
     "name": "stdout",
     "output_type": "stream",
     "text": [
      "397\n"
     ]
    },
    {
     "data": {
      "text/plain": [
       "['Finnish Spitz',\n",
       " 'Schipperke Mix',\n",
       " 'Siberian Husky Mix',\n",
       " 'Pixiebob Shorthair Mix',\n",
       " 'Italian Greyhound Mix',\n",
       " 'Greyhound',\n",
       " 'Akita Mix',\n",
       " 'St. Bernard Rough Coat',\n",
       " 'Pbgv',\n",
       " 'Bruss Griffon',\n",
       " 'Rottweiler',\n",
       " 'Bullmastiff Mix',\n",
       " 'Bulldog Mix',\n",
       " 'Miniature Poodle Mix',\n",
       " 'Vizsla Mix',\n",
       " 'Spanish Water Dog',\n",
       " 'Norwich Terrier',\n",
       " 'Redbone Hound',\n",
       " 'Parson Russell Terrier',\n",
       " 'Whippet',\n",
       " 'Blue Lacy',\n",
       " 'Maine Coon Mix',\n",
       " 'Silky Terrier Mix',\n",
       " 'Staffordshire Mix',\n",
       " 'Jindo Mix',\n",
       " 'Boxer',\n",
       " 'Persian Mix',\n",
       " 'Tibetan Terrier Mix',\n",
       " 'Collie Rough Mix',\n",
       " 'Newfoundland',\n",
       " 'Boston Terrier Mix',\n",
       " 'British Shorthair Mix',\n",
       " 'Blue Lacy Mix',\n",
       " 'Norfolk Terrier',\n",
       " 'Belgian Sheepdog Mix',\n",
       " 'German Pinscher',\n",
       " 'Cavalier Span Mix',\n",
       " 'Plott Hound',\n",
       " 'Affenpinscher Mix',\n",
       " 'American Foxhound',\n",
       " 'Collie Smooth',\n",
       " 'English Foxhound Mix',\n",
       " 'Welsh Terrier',\n",
       " 'Beagle Mix',\n",
       " 'Standard Poodle',\n",
       " 'Old English Bulldog Mix',\n",
       " 'German Pinscher Mix',\n",
       " 'Jack Russell Terrier',\n",
       " 'Staffordshire',\n",
       " 'Catahoula',\n",
       " 'Tibetan Spaniel Mix',\n",
       " 'Pug',\n",
       " 'Irish Wolfhound Mix',\n",
       " 'Cairn Terrier Mix',\n",
       " 'Toy Fox Terrier Mix',\n",
       " 'Unknown',\n",
       " 'American Shorthair Mix',\n",
       " 'Chinese Crested Mix',\n",
       " 'Tan Hound Mix',\n",
       " 'Kuvasz',\n",
       " 'St. Bernard Rough Coat Mix',\n",
       " 'Dutch Shepherd',\n",
       " 'Carolina Dog Mix',\n",
       " 'Harrier Mix',\n",
       " 'Maine Coon',\n",
       " 'Tan Hound',\n",
       " 'Saluki Mix',\n",
       " 'Airedale Terrier',\n",
       " 'Treeing Cur Mix',\n",
       " 'Ragdoll',\n",
       " 'Leonberger Mix',\n",
       " 'British Shorthair',\n",
       " 'English Springer Spaniel Mix',\n",
       " 'Shiba Inu',\n",
       " 'Samoyed Mix',\n",
       " 'Japanese Chin Mix',\n",
       " 'Pomeranian',\n",
       " 'Lhasa Apso Mix',\n",
       " 'Toy Poodle',\n",
       " 'Pharaoh Hound Mix',\n",
       " 'Patterdale Terr Mix',\n",
       " 'Beagle',\n",
       " 'Cavalier Span',\n",
       " 'Basset Hound Mix',\n",
       " 'Mastiff',\n",
       " 'American Eskimo Mix',\n",
       " 'American Bulldog Mix',\n",
       " 'Flat Coat Retriever',\n",
       " 'Italian Greyhound',\n",
       " 'Swedish Vallhund Mix',\n",
       " 'Bernese Mountain Dog',\n",
       " 'English Bulldog',\n",
       " 'Devon Rex Mix',\n",
       " 'Pharaoh Hound',\n",
       " 'Newfoundland Mix',\n",
       " 'English Cocker Spaniel',\n",
       " 'Basenji',\n",
       " 'Maltese Mix',\n",
       " 'English Pointer Mix',\n",
       " 'Flat Coat Retriever Mix',\n",
       " 'Chow Chow Mix',\n",
       " 'Lowchen Mix',\n",
       " 'Sealyham Terr Mix',\n",
       " 'Irish Setter',\n",
       " 'Akita',\n",
       " 'Dachshund Mix',\n",
       " 'Shiba Inu Mix',\n",
       " 'Australian Terrier Mix',\n",
       " 'Boykin Span',\n",
       " 'English Cocker Spaniel Mix',\n",
       " 'Boykin Span Mix',\n",
       " 'St. Bernard Smooth Coat Mix',\n",
       " 'English Shepherd',\n",
       " 'Vizsla',\n",
       " 'Bulldog',\n",
       " 'Great Dane',\n",
       " 'Chinese Crested',\n",
       " 'Welsh Springer Spaniel Mix',\n",
       " 'Black Mouth Cur',\n",
       " 'Australian Kelpie Mix',\n",
       " 'Pomeranian Mix',\n",
       " 'English Coonhound Mix',\n",
       " 'Field Spaniel Mix',\n",
       " 'Domestic Longhair Mix',\n",
       " 'Chihuahua Longhair Mix',\n",
       " 'Parson Russell Terrier Mix',\n",
       " 'Manx',\n",
       " 'Harrier',\n",
       " 'Wirehaired Pointing Griffon Mix',\n",
       " 'Australian Cattle Dog',\n",
       " 'Norwich Terrier Mix',\n",
       " 'American Foxhound Mix',\n",
       " 'Labrador Retriever',\n",
       " 'Tibetan Spaniel',\n",
       " 'Manchester Terrier',\n",
       " 'Cane Corso Mix',\n",
       " 'Boerboel Mix',\n",
       " 'West Highland Mix',\n",
       " 'Japanese Bobtail Mix',\n",
       " 'Scottish Terrier Mix',\n",
       " 'Dogo Argentino Mix',\n",
       " 'Dalmatian Mix',\n",
       " 'Rottweiler Mix',\n",
       " 'Burmese',\n",
       " 'Belgian Sheepdog',\n",
       " 'Wire Hair Fox Terrier Mix',\n",
       " 'Golden Retriever Mix',\n",
       " 'English Bulldog Mix',\n",
       " 'Cairn Terrier',\n",
       " 'Dachshund',\n",
       " 'Dachshund Longhair',\n",
       " 'Doberman Pinsch',\n",
       " 'Mastiff Mix',\n",
       " 'Japanese Bobtail',\n",
       " 'American Eskimo',\n",
       " 'Greyhound Mix',\n",
       " 'Basset Hound',\n",
       " 'Rat Terrier',\n",
       " 'Irish Terrier Mix',\n",
       " 'Unknown Mix',\n",
       " 'Dachshund Wirehair Mix',\n",
       " 'Doberman Pinsch Mix',\n",
       " 'Neapolitan Mastiff',\n",
       " 'Rhod Ridgeback',\n",
       " 'Manx Mix',\n",
       " 'Abyssinian Mix',\n",
       " 'Plott Hound Mix',\n",
       " 'Bruss Griffon Mix',\n",
       " 'Rex',\n",
       " 'Bull Terrier',\n",
       " 'German Shorthair Pointer',\n",
       " 'Havanese Mix',\n",
       " 'Javanese Mix',\n",
       " 'Angora Mix',\n",
       " 'Cocker Spaniel',\n",
       " 'Podengo Pequeno Mix',\n",
       " 'Miniature Schnauzer',\n",
       " 'Manchester Terrier Mix',\n",
       " 'Labrador Retriever Mix',\n",
       " 'Dutch Shepherd Mix',\n",
       " 'Turkish Van Mix',\n",
       " 'Dogue De Bordeaux Mix',\n",
       " 'Balinese Mix',\n",
       " 'Black Mouth Cur Mix',\n",
       " 'Norwegian Forest Cat Mix',\n",
       " 'Saluki',\n",
       " 'Domestic Medium Hair',\n",
       " 'Schipperke',\n",
       " 'Chow Chow',\n",
       " 'Australian Shepherd Mix',\n",
       " 'Dachshund Longhair Mix',\n",
       " 'Otterhound Mix',\n",
       " 'Beauceron Mix',\n",
       " 'Ibizan Hound Mix',\n",
       " 'Toy Fox Terrier',\n",
       " 'Standard Schnauzer Mix',\n",
       " 'Chinese Sharpei Mix',\n",
       " 'Bichon Frise Mix',\n",
       " 'Snowshoe Mix',\n",
       " 'Queensland Heeler Mix',\n",
       " 'English Springer Spaniel',\n",
       " 'Brittany Mix',\n",
       " 'Great Pyrenees',\n",
       " 'Border Terrier',\n",
       " 'Yorkshire Terrier Mix',\n",
       " 'Pekingese Mix',\n",
       " 'Papillon Mix',\n",
       " 'American Pit Bull Terrier',\n",
       " 'Border Terrier Mix',\n",
       " 'Snowshoe',\n",
       " 'English Coonhound',\n",
       " 'Dogue De Bordeaux',\n",
       " 'Cymric Mix',\n",
       " 'Affenpinscher',\n",
       " 'Weimaraner Mix',\n",
       " 'Havana Brown Mix',\n",
       " 'Catahoula Mix',\n",
       " 'Port Water Dog Mix',\n",
       " 'Rhod Ridgeback Mix',\n",
       " 'Pbgv Mix',\n",
       " 'Cardigan Welsh Corgi',\n",
       " 'American Bulldog',\n",
       " 'Dogo Argentino',\n",
       " 'Silky Terrier',\n",
       " 'Schnauzer Giant Mix',\n",
       " 'Persian',\n",
       " 'Chihuahua Longhair',\n",
       " 'Himalayan Mix',\n",
       " 'Jack Russell Terrier Mix',\n",
       " 'Afghan Hound Mix',\n",
       " 'Bearded Collie Mix',\n",
       " 'German Wirehaired Pointer',\n",
       " 'Standard Poodle Mix',\n",
       " 'Chesa Bay Retr Mix',\n",
       " 'Pointer',\n",
       " 'West Highland',\n",
       " 'Spinone Italiano Mix',\n",
       " 'Soft Coated Wheaten Terrier Mix',\n",
       " 'American Pit Bull Terrier Mix',\n",
       " 'Welsh Springer Spaniel',\n",
       " 'Border Collie',\n",
       " 'Canaan Dog Mix',\n",
       " 'Exotic Shorthair Mix',\n",
       " 'Pointer Mix',\n",
       " 'Bloodhound',\n",
       " 'Siamese Mix',\n",
       " 'Australian Shepherd',\n",
       " 'Basenji Mix',\n",
       " 'Ragdoll Mix',\n",
       " 'Queensland Heeler',\n",
       " 'Miniature Poodle',\n",
       " 'Picardy Sheepdog Mix',\n",
       " 'Hovawart Mix',\n",
       " 'Glen Of Imaal',\n",
       " 'Redbone Hound Mix',\n",
       " 'Lhasa Apso',\n",
       " 'Airedale Terrier Mix',\n",
       " 'Belgian Malinois',\n",
       " 'Pit Bull Mix',\n",
       " 'Alaskan Malamute',\n",
       " 'Domestic Shorthair Mix',\n",
       " 'English Foxhound',\n",
       " 'Devon Rex',\n",
       " 'Cocker Spaniel Mix',\n",
       " 'Weimaraner',\n",
       " 'Alaskan Husky Mix',\n",
       " 'German Wirehaired Pointer Mix',\n",
       " 'Domestic Medium Hair Mix',\n",
       " 'American Staffordshire Terrier',\n",
       " 'Entlebucher Mix',\n",
       " 'Japanese Chin',\n",
       " 'Patterdale Terr',\n",
       " 'Miniature Pinscher Mix',\n",
       " 'Landseer Mix',\n",
       " 'German Shepherd Mix',\n",
       " 'Shih Tzu',\n",
       " 'St. Bernard Smooth Coat',\n",
       " 'Beauceron',\n",
       " 'Maltese',\n",
       " 'Treeing Walker Coonhound',\n",
       " 'Black',\n",
       " 'Great Dane Mix',\n",
       " 'Swiss Hound',\n",
       " 'Bengal Mix',\n",
       " 'Himalayan',\n",
       " 'German Shepherd',\n",
       " 'Norwegian Elkhound Mix',\n",
       " 'Bull Terrier Miniature Mix',\n",
       " 'Alaskan Malamute Mix',\n",
       " 'Soft Coated Wheaten Terrier',\n",
       " 'Whippet Mix',\n",
       " 'Ibizan Hound',\n",
       " 'Rat Terrier Mix',\n",
       " 'Spanish Mastiff Mix',\n",
       " 'Shetland Sheepdog Mix',\n",
       " 'Bullmastiff',\n",
       " 'German Shorthair Pointer Mix',\n",
       " 'Ocicat Mix',\n",
       " 'Miniature Schnauzer Mix',\n",
       " 'Chihuahua Shorthair',\n",
       " 'Schnauzer Giant',\n",
       " 'Treeing Walker Coonhound Mix',\n",
       " 'Skye Terrier',\n",
       " 'Smooth Fox Terrier',\n",
       " 'Nova Scotia Duck Tolling Retriever',\n",
       " 'Alaskan Husky',\n",
       " 'Carolina Dog',\n",
       " 'Skye Terrier Mix',\n",
       " 'Neapolitan Mastiff Mix',\n",
       " 'Shih Tzu Mix',\n",
       " 'Pekingese',\n",
       " 'Toy Poodle Mix',\n",
       " 'Pug Mix',\n",
       " 'Finnish Spitz Mix',\n",
       " 'Cardigan Welsh Corgi Mix',\n",
       " 'Domestic Shorthair',\n",
       " 'Irish Wolfhound',\n",
       " 'Dachshund Wirehair',\n",
       " 'Welsh Terrier Mix',\n",
       " 'Keeshond',\n",
       " 'Brittany',\n",
       " 'Great Pyrenees Mix',\n",
       " 'Borzoi',\n",
       " 'Bengal',\n",
       " 'Chesa Bay Retr',\n",
       " 'English Shepherd Mix',\n",
       " 'Presa Canario',\n",
       " 'Tonkinese Mix',\n",
       " 'Bluetick Hound Mix',\n",
       " 'Cornish Rex Mix',\n",
       " 'Norfolk Terrier Mix',\n",
       " 'Cane Corso',\n",
       " 'Boston Terrier',\n",
       " 'Yorkshire Terrier',\n",
       " 'Bichon Frise',\n",
       " 'Bluetick Hound',\n",
       " 'English Setter Mix',\n",
       " 'Miniature Pinscher',\n",
       " 'English Setter',\n",
       " 'Swedish Vallhund',\n",
       " 'Irish Terrier',\n",
       " 'French Bulldog Mix',\n",
       " 'American Staffordshire Terrier Mix',\n",
       " 'Chinese Sharpei',\n",
       " 'Canaan Dog',\n",
       " 'Belgian Malinois Mix',\n",
       " 'Feist Mix',\n",
       " 'Pembroke Welsh Corgi Mix',\n",
       " 'Russian Blue Mix',\n",
       " 'Bull Terrier Mix',\n",
       " 'Standard Schnauzer',\n",
       " 'Munchkin Longhair Mix',\n",
       " 'Golden Retriever',\n",
       " 'Siamese',\n",
       " 'Border Collie Mix',\n",
       " 'Domestic Longhair',\n",
       " 'Greater Swiss Mountain Dog Mix',\n",
       " 'Belgian Tervuren Mix',\n",
       " 'Sphynx',\n",
       " 'Presa Canario Mix',\n",
       " 'Siberian Husky',\n",
       " 'Russian Blue',\n",
       " 'Australian Cattle Dog Mix',\n",
       " 'Pit Bull',\n",
       " 'Boerboel',\n",
       " 'Collie Rough',\n",
       " 'Scottish Terrier',\n",
       " 'Shetland Sheepdog',\n",
       " 'Anatol Shepherd Mix',\n",
       " 'Yorkshire',\n",
       " 'Dalmatian',\n",
       " 'Wire Hair Fox Terrier',\n",
       " 'Bernese Mountain Dog Mix',\n",
       " 'Treeing Tennesse Brindle',\n",
       " 'Nova Scotia Duck Tolling Retriever Mix',\n",
       " 'Smooth Fox Terrier Mix',\n",
       " 'Collie Smooth Mix',\n",
       " 'Mexican Hairless Mix',\n",
       " 'Glen Of Imaal Mix',\n",
       " 'Havanese',\n",
       " 'French Bulldog',\n",
       " 'Papillon',\n",
       " 'Bloodhound Mix',\n",
       " 'Australian Kelpie',\n",
       " 'Old English Sheepdog',\n",
       " 'Keeshond Mix',\n",
       " 'Bedlington Terr Mix',\n",
       " 'Bombay Mix',\n",
       " 'Pembroke Welsh Corgi',\n",
       " 'English Pointer',\n",
       " 'Leonberger',\n",
       " 'Chihuahua Shorthair Mix',\n",
       " 'Anatol Shepherd',\n",
       " 'Boxer Mix',\n",
       " 'Bull Terrier Miniature',\n",
       " 'Tibetan Terrier',\n",
       " 'Belgian Tervuren']"
      ]
     },
     "execution_count": 112,
     "metadata": {},
     "output_type": "execute_result"
    }
   ],
   "source": [
    "breeds = [breed for breed_list in animals.breed_list for breed in breed_list]\n",
    "unique_breeds = list(set(breeds))\n",
    "print(len(unique_breeds))\n",
    "unique_breeds"
   ]
  },
  {
   "cell_type": "code",
   "execution_count": 113,
   "metadata": {
    "collapsed": false,
    "deletable": true,
    "editable": true
   },
   "outputs": [],
   "source": [
    "simple_breeds = [breed for phrases in unique_breeds for breed in phrases.split()]"
   ]
  },
  {
   "cell_type": "code",
   "execution_count": 114,
   "metadata": {
    "collapsed": false,
    "deletable": true,
    "editable": true
   },
   "outputs": [
    {
     "data": {
      "text/plain": [
       "262"
      ]
     },
     "execution_count": 114,
     "metadata": {},
     "output_type": "execute_result"
    }
   ],
   "source": [
    "simple_breeds = list(set(simple_breeds))\n",
    "len(simple_breeds)"
   ]
  },
  {
   "cell_type": "code",
   "execution_count": 115,
   "metadata": {
    "collapsed": false,
    "deletable": true,
    "editable": true
   },
   "outputs": [
    {
     "data": {
      "text/plain": [
       "(25248, 39)"
      ]
     },
     "execution_count": 115,
     "metadata": {},
     "output_type": "execute_result"
    }
   ],
   "source": [
    "animals.shape"
   ]
  },
  {
   "cell_type": "code",
   "execution_count": 116,
   "metadata": {
    "collapsed": false,
    "deletable": true,
    "editable": true,
    "scrolled": false
   },
   "outputs": [
    {
     "data": {
      "text/html": [
       "<div>\n",
       "<table border=\"1\" class=\"dataframe\">\n",
       "  <thead>\n",
       "    <tr style=\"text-align: right;\">\n",
       "      <th></th>\n",
       "      <th>adopted</th>\n",
       "      <th>breed</th>\n",
       "    </tr>\n",
       "  </thead>\n",
       "  <tbody>\n",
       "    <tr>\n",
       "      <th>0</th>\n",
       "      <td>0</td>\n",
       "      <td>Shetland Sheepdog Mix</td>\n",
       "    </tr>\n",
       "    <tr>\n",
       "      <th>1</th>\n",
       "      <td>0</td>\n",
       "      <td>Domestic Shorthair Mix</td>\n",
       "    </tr>\n",
       "    <tr>\n",
       "      <th>2</th>\n",
       "      <td>1</td>\n",
       "      <td>Pit Bull Mix</td>\n",
       "    </tr>\n",
       "    <tr>\n",
       "      <th>3</th>\n",
       "      <td>0</td>\n",
       "      <td>Domestic Shorthair Mix</td>\n",
       "    </tr>\n",
       "    <tr>\n",
       "      <th>4</th>\n",
       "      <td>0</td>\n",
       "      <td>Lhasa Apso/Miniature Poodle</td>\n",
       "    </tr>\n",
       "  </tbody>\n",
       "</table>\n",
       "</div>"
      ],
      "text/plain": [
       "   adopted                        breed\n",
       "0        0        Shetland Sheepdog Mix\n",
       "1        0       Domestic Shorthair Mix\n",
       "2        1                 Pit Bull Mix\n",
       "3        0       Domestic Shorthair Mix\n",
       "4        0  Lhasa Apso/Miniature Poodle"
      ]
     },
     "execution_count": 116,
     "metadata": {},
     "output_type": "execute_result"
    }
   ],
   "source": [
    "breed_imp = animals[['adopted', 'breed']]\n",
    "breed_imp.head()"
   ]
  },
  {
   "cell_type": "code",
   "execution_count": 117,
   "metadata": {
    "collapsed": false,
    "deletable": true,
    "editable": true
   },
   "outputs": [
    {
     "name": "stderr",
     "output_type": "stream",
     "text": [
      "/Users/VanessaG/anaconda3/envs/stats/lib/python3.6/site-packages/ipykernel/__main__.py:2: SettingWithCopyWarning: \n",
      "A value is trying to be set on a copy of a slice from a DataFrame.\n",
      "Try using .loc[row_indexer,col_indexer] = value instead\n",
      "\n",
      "See the caveats in the documentation: http://pandas.pydata.org/pandas-docs/stable/indexing.html#indexing-view-versus-copy\n",
      "  from ipykernel import kernelapp as app\n"
     ]
    }
   ],
   "source": [
    "for breed in simple_breeds:\n",
    "    breed_imp[breed] = animals.breed.map(lambda row: 1 if breed in row else 0)"
   ]
  },
  {
   "cell_type": "code",
   "execution_count": 118,
   "metadata": {
    "collapsed": false,
    "deletable": true,
    "editable": true,
    "scrolled": true
   },
   "outputs": [
    {
     "data": {
      "text/html": [
       "<div>\n",
       "<table border=\"1\" class=\"dataframe\">\n",
       "  <thead>\n",
       "    <tr style=\"text-align: right;\">\n",
       "      <th></th>\n",
       "      <th>adopted</th>\n",
       "      <th>breed</th>\n",
       "      <th>Saluki</th>\n",
       "      <th>Bullmastiff</th>\n",
       "      <th>Plott</th>\n",
       "      <th>Afghan</th>\n",
       "      <th>Schipperke</th>\n",
       "      <th>Foxhound</th>\n",
       "      <th>West</th>\n",
       "      <th>Longhair</th>\n",
       "      <th>...</th>\n",
       "      <th>Leonberger</th>\n",
       "      <th>Basenji</th>\n",
       "      <th>Vallhund</th>\n",
       "      <th>Highland</th>\n",
       "      <th>Tibetan</th>\n",
       "      <th>Terrier</th>\n",
       "      <th>Spinone</th>\n",
       "      <th>Of</th>\n",
       "      <th>Cavalier</th>\n",
       "      <th>Kelpie</th>\n",
       "    </tr>\n",
       "  </thead>\n",
       "  <tbody>\n",
       "    <tr>\n",
       "      <th>0</th>\n",
       "      <td>0</td>\n",
       "      <td>Shetland Sheepdog Mix</td>\n",
       "      <td>0</td>\n",
       "      <td>0</td>\n",
       "      <td>0</td>\n",
       "      <td>0</td>\n",
       "      <td>0</td>\n",
       "      <td>0</td>\n",
       "      <td>0</td>\n",
       "      <td>0</td>\n",
       "      <td>...</td>\n",
       "      <td>0</td>\n",
       "      <td>0</td>\n",
       "      <td>0</td>\n",
       "      <td>0</td>\n",
       "      <td>0</td>\n",
       "      <td>0</td>\n",
       "      <td>0</td>\n",
       "      <td>0</td>\n",
       "      <td>0</td>\n",
       "      <td>0</td>\n",
       "    </tr>\n",
       "    <tr>\n",
       "      <th>1</th>\n",
       "      <td>0</td>\n",
       "      <td>Domestic Shorthair Mix</td>\n",
       "      <td>0</td>\n",
       "      <td>0</td>\n",
       "      <td>0</td>\n",
       "      <td>0</td>\n",
       "      <td>0</td>\n",
       "      <td>0</td>\n",
       "      <td>0</td>\n",
       "      <td>0</td>\n",
       "      <td>...</td>\n",
       "      <td>0</td>\n",
       "      <td>0</td>\n",
       "      <td>0</td>\n",
       "      <td>0</td>\n",
       "      <td>0</td>\n",
       "      <td>0</td>\n",
       "      <td>0</td>\n",
       "      <td>0</td>\n",
       "      <td>0</td>\n",
       "      <td>0</td>\n",
       "    </tr>\n",
       "  </tbody>\n",
       "</table>\n",
       "<p>2 rows × 264 columns</p>\n",
       "</div>"
      ],
      "text/plain": [
       "   adopted                   breed  Saluki  Bullmastiff  Plott  Afghan  \\\n",
       "0        0   Shetland Sheepdog Mix       0            0      0       0   \n",
       "1        0  Domestic Shorthair Mix       0            0      0       0   \n",
       "\n",
       "   Schipperke  Foxhound  West  Longhair   ...    Leonberger  Basenji  \\\n",
       "0           0         0     0         0   ...             0        0   \n",
       "1           0         0     0         0   ...             0        0   \n",
       "\n",
       "   Vallhund  Highland  Tibetan  Terrier  Spinone  Of  Cavalier  Kelpie  \n",
       "0         0         0        0        0        0   0         0       0  \n",
       "1         0         0        0        0        0   0         0       0  \n",
       "\n",
       "[2 rows x 264 columns]"
      ]
     },
     "execution_count": 118,
     "metadata": {},
     "output_type": "execute_result"
    }
   ],
   "source": [
    "breed_imp.head(2)"
   ]
  },
  {
   "cell_type": "code",
   "execution_count": 119,
   "metadata": {
    "collapsed": false,
    "deletable": true,
    "editable": true,
    "scrolled": false
   },
   "outputs": [
    {
     "data": {
      "text/plain": [
       "Domestic Shorthair Mix       7782\n",
       "Pit Bull Mix                 1876\n",
       "Chihuahua Shorthair Mix      1726\n",
       "Labrador Retriever Mix       1322\n",
       "Domestic Medium Hair Mix      786\n",
       "German Shepherd Mix           570\n",
       "Domestic Longhair Mix         482\n",
       "Siamese Mix                   368\n",
       "Australian Cattle Dog Mix     362\n",
       "Dachshund Mix                 309\n",
       "Name: breed, dtype: int64"
      ]
     },
     "execution_count": 119,
     "metadata": {},
     "output_type": "execute_result"
    }
   ],
   "source": [
    "animals.breed.value_counts().head(10)"
   ]
  },
  {
   "cell_type": "code",
   "execution_count": 120,
   "metadata": {
    "collapsed": false,
    "deletable": true,
    "editable": true,
    "scrolled": true
   },
   "outputs": [
    {
     "data": {
      "text/plain": [
       "adopted       1.000000\n",
       "Chihuahua     0.030635\n",
       "Cat           0.028809\n",
       "Dachshund     0.027136\n",
       "Collie        0.026926\n",
       "Border        0.026826\n",
       "Australian    0.026256\n",
       "Cairn         0.026186\n",
       "Welsh         0.025219\n",
       "Labrador      0.024432\n",
       "Catahoula     0.023550\n",
       "Name: adopted, dtype: float64"
      ]
     },
     "execution_count": 120,
     "metadata": {},
     "output_type": "execute_result"
    }
   ],
   "source": [
    "breed_imp.corr()['adopted'].sort_values(ascending=False)[:11]"
   ]
  },
  {
   "cell_type": "code",
   "execution_count": 121,
   "metadata": {
    "collapsed": true,
    "deletable": true,
    "editable": true
   },
   "outputs": [],
   "source": [
    "top10_breeds = [breed for breed in breed_imp.corr()['adopted'].sort_values(ascending=False).index[:11] if color != 'adopted']"
   ]
  },
  {
   "cell_type": "code",
   "execution_count": 122,
   "metadata": {
    "collapsed": true,
    "deletable": true,
    "editable": true
   },
   "outputs": [],
   "source": [
    "for breed in top10_breeds:\n",
    "    animals[breed] = animals.breed.map(lambda row: 1 if breed in row else 0)"
   ]
  },
  {
   "cell_type": "code",
   "execution_count": 123,
   "metadata": {
    "collapsed": false,
    "deletable": true,
    "editable": true
   },
   "outputs": [
    {
     "data": {
      "text/plain": [
       "(25248, 49)"
      ]
     },
     "execution_count": 123,
     "metadata": {},
     "output_type": "execute_result"
    }
   ],
   "source": [
    "animals.shape"
   ]
  },
  {
   "cell_type": "code",
   "execution_count": 124,
   "metadata": {
    "collapsed": false,
    "deletable": true,
    "editable": true,
    "scrolled": true
   },
   "outputs": [
    {
     "data": {
      "text/plain": [
       "0    23028\n",
       "1     2220\n",
       "Name: Labrador, dtype: int64"
      ]
     },
     "execution_count": 124,
     "metadata": {},
     "output_type": "execute_result"
    }
   ],
   "source": [
    "animals.Labrador.value_counts()"
   ]
  },
  {
   "cell_type": "code",
   "execution_count": 125,
   "metadata": {
    "collapsed": false,
    "deletable": true,
    "editable": true
   },
   "outputs": [
    {
     "data": {
      "text/plain": [
       "2220"
      ]
     },
     "execution_count": 125,
     "metadata": {},
     "output_type": "execute_result"
    }
   ],
   "source": [
    "count = 0\n",
    "for row in animals.breed:\n",
    "    if \"Labrador\" in row:\n",
    "        count += 1\n",
    "count        "
   ]
  },
  {
   "cell_type": "code",
   "execution_count": 129,
   "metadata": {
    "collapsed": false,
    "deletable": true,
    "editable": true
   },
   "outputs": [],
   "source": [
    "# This results in a \"PerfectSeparationError\"\n",
    "\n",
    "# model_breed = smf.logit(formula='adopted ~ dog + has_name + pop_name + sex +'\\\n",
    "#                       'spay_neutered + day + month + time_of_day + season +'\\\n",
    "#                       'age_in_weeks + mutli_color + Sable + White + Tan + Ruddy +'\\\n",
    "#                     'Buff + Tortie + Black + Brown + Agouti + Torbie +'\\\n",
    "#                     'mixed_breed + Chihuahua + Cat + Dachshund + Collie + Border + Australian + Cairn + Welsh + Labrador + Catahoula', data=animals).fit()\n",
    "# model_breed.summary()"
   ]
  },
  {
   "cell_type": "markdown",
   "metadata": {
    "deletable": true,
    "editable": true
   },
   "source": [
    "# Modeling"
   ]
  },
  {
   "cell_type": "code",
   "execution_count": 130,
   "metadata": {
    "collapsed": false,
    "deletable": true,
    "editable": true,
    "scrolled": true
   },
   "outputs": [
    {
     "name": "stdout",
     "output_type": "stream",
     "text": [
      "<class 'pandas.core.frame.DataFrame'>\n",
      "RangeIndex: 25248 entries, 0 to 25247\n",
      "Data columns (total 49 columns):\n",
      "id               25248 non-null object\n",
      "name             25248 non-null object\n",
      "date_outcome     25248 non-null object\n",
      "outcome          25248 non-null object\n",
      "outcome_info     11708 non-null object\n",
      "animal           25248 non-null object\n",
      "sex_outcome      25248 non-null object\n",
      "age              25248 non-null object\n",
      "breed            25248 non-null object\n",
      "color            25248 non-null object\n",
      "dog              25248 non-null int64\n",
      "adopted          25248 non-null int64\n",
      "has_name         25248 non-null int64\n",
      "pop_name         25248 non-null int64\n",
      "sex              25248 non-null int64\n",
      "spay_neutered    25248 non-null int64\n",
      "datetime         25248 non-null datetime64[ns]\n",
      "day              25248 non-null int64\n",
      "month            25248 non-null int64\n",
      "year             25248 non-null int64\n",
      "hour             25248 non-null float64\n",
      "minutes          25248 non-null int64\n",
      "time_of_day      25248 non-null object\n",
      "season           25248 non-null object\n",
      "age_in_weeks     25248 non-null float64\n",
      "color_list       25248 non-null object\n",
      "mutli_color      25248 non-null int64\n",
      "Sable            25248 non-null int64\n",
      "White            25248 non-null int64\n",
      "Tan              25248 non-null int64\n",
      "Ruddy            25248 non-null int64\n",
      "Buff             25248 non-null int64\n",
      "Tortie           25248 non-null int64\n",
      "Black            25248 non-null int64\n",
      "Brown            25248 non-null int64\n",
      "Agouti           25248 non-null int64\n",
      "Torbie           25248 non-null int64\n",
      "mixed_breed      25248 non-null int64\n",
      "breed_list       25248 non-null object\n",
      "Chihuahua        25248 non-null int64\n",
      "Cat              25248 non-null int64\n",
      "Dachshund        25248 non-null int64\n",
      "Collie           25248 non-null int64\n",
      "Border           25248 non-null int64\n",
      "Australian       25248 non-null int64\n",
      "Cairn            25248 non-null int64\n",
      "Welsh            25248 non-null int64\n",
      "Labrador         25248 non-null int64\n",
      "Catahoula        25248 non-null int64\n",
      "dtypes: datetime64[ns](1), float64(2), int64(32), object(14)\n",
      "memory usage: 9.4+ MB\n"
     ]
    }
   ],
   "source": [
    "animals.info()"
   ]
  },
  {
   "cell_type": "code",
   "execution_count": 152,
   "metadata": {
    "collapsed": true,
    "deletable": true,
    "editable": true
   },
   "outputs": [],
   "source": [
    "cols_remove = ['outcome_info','day','datetime','year','hour','minutes','color_list','breed_list', 'spay_neutered', 'month']\n",
    "cols_keep = [col for col in animals.columns if type(animals[col][0]) != str and col not in cols_remove]"
   ]
  },
  {
   "cell_type": "code",
   "execution_count": 153,
   "metadata": {
    "collapsed": true,
    "deletable": true,
    "editable": true
   },
   "outputs": [],
   "source": [
    "animals_predictors = animals[cols_keep]"
   ]
  },
  {
   "cell_type": "code",
   "execution_count": 154,
   "metadata": {
    "collapsed": false,
    "deletable": true,
    "editable": true
   },
   "outputs": [
    {
     "data": {
      "text/plain": [
       "Index(['dog', 'adopted', 'has_name', 'pop_name', 'sex', 'age_in_weeks',\n",
       "       'mutli_color', 'Sable', 'White', 'Tan', 'Ruddy', 'Buff', 'Tortie',\n",
       "       'Black', 'Brown', 'Agouti', 'Torbie', 'mixed_breed', 'Chihuahua', 'Cat',\n",
       "       'Dachshund', 'Collie', 'Border', 'Australian', 'Cairn', 'Welsh',\n",
       "       'Labrador', 'Catahoula'],\n",
       "      dtype='object')"
      ]
     },
     "execution_count": 154,
     "metadata": {},
     "output_type": "execute_result"
    }
   ],
   "source": [
    "animals_predictors.columns"
   ]
  },
  {
   "cell_type": "code",
   "execution_count": 155,
   "metadata": {
    "collapsed": false,
    "deletable": true,
    "editable": true
   },
   "outputs": [],
   "source": [
    "predictors = [col for col in animals_predictors.columns if col != 'adopted']\n",
    "target = 'adopted'"
   ]
  },
  {
   "cell_type": "code",
   "execution_count": 156,
   "metadata": {
    "collapsed": false,
    "deletable": true,
    "editable": true
   },
   "outputs": [],
   "source": [
    "formula1 = target + ' ~ ' + ' + '.join(predictors) "
   ]
  },
  {
   "cell_type": "code",
   "execution_count": 157,
   "metadata": {
    "collapsed": false,
    "deletable": true,
    "editable": true,
    "scrolled": true
   },
   "outputs": [
    {
     "data": {
      "text/plain": [
       "'adopted ~ dog + has_name + pop_name + sex + age_in_weeks + mutli_color + Sable + White + Tan + Ruddy + Buff + Tortie + Black + Brown + Agouti + Torbie + mixed_breed + Chihuahua + Cat + Dachshund + Collie + Border + Australian + Cairn + Welsh + Labrador + Catahoula'"
      ]
     },
     "execution_count": 157,
     "metadata": {},
     "output_type": "execute_result"
    }
   ],
   "source": [
    "formula1"
   ]
  },
  {
   "cell_type": "code",
   "execution_count": 240,
   "metadata": {
    "collapsed": false,
    "deletable": true,
    "editable": true
   },
   "outputs": [],
   "source": [
    "# model1 = smf.logit(formula=formula1, data=animals_predictors).fit()"
   ]
  },
  {
   "cell_type": "code",
   "execution_count": null,
   "metadata": {
    "collapsed": true,
    "deletable": true,
    "editable": true
   },
   "outputs": [],
   "source": []
  }
 ],
 "metadata": {
  "kernelspec": {
   "display_name": "Python 3",
   "language": "python",
   "name": "python3"
  },
  "language_info": {
   "codemirror_mode": {
    "name": "ipython",
    "version": 3
   },
   "file_extension": ".py",
   "mimetype": "text/x-python",
   "name": "python",
   "nbconvert_exporter": "python",
   "pygments_lexer": "ipython3",
   "version": "3.6.0"
  }
 },
 "nbformat": 4,
 "nbformat_minor": 2
}
