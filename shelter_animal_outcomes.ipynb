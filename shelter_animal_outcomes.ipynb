{
 "cells": [
  {
   "cell_type": "markdown",
   "metadata": {
    "deletable": true,
    "editable": true
   },
   "source": [
    "[Shelter Animal Outcomes](https://www.kaggle.com/c/shelter-animal-outcomes)"
   ]
  },
  {
   "cell_type": "code",
   "execution_count": 1,
   "metadata": {
    "collapsed": true,
    "deletable": true,
    "editable": true
   },
   "outputs": [],
   "source": [
    "import pandas as pd\n",
    "import numpy as np\n",
    "import datetime"
   ]
  },
  {
   "cell_type": "code",
   "execution_count": 2,
   "metadata": {
    "collapsed": true,
    "deletable": true,
    "editable": true
   },
   "outputs": [],
   "source": [
    "animals_test = pd.read_csv('data/test.csv')"
   ]
  },
  {
   "cell_type": "code",
   "execution_count": 3,
   "metadata": {
    "collapsed": false,
    "deletable": true,
    "editable": true,
    "scrolled": true
   },
   "outputs": [
    {
     "data": {
      "text/html": [
       "<div>\n",
       "<table border=\"1\" class=\"dataframe\">\n",
       "  <thead>\n",
       "    <tr style=\"text-align: right;\">\n",
       "      <th></th>\n",
       "      <th>ID</th>\n",
       "      <th>Name</th>\n",
       "      <th>DateTime</th>\n",
       "      <th>AnimalType</th>\n",
       "      <th>SexuponOutcome</th>\n",
       "      <th>AgeuponOutcome</th>\n",
       "      <th>Breed</th>\n",
       "      <th>Color</th>\n",
       "    </tr>\n",
       "  </thead>\n",
       "  <tbody>\n",
       "    <tr>\n",
       "      <th>0</th>\n",
       "      <td>1</td>\n",
       "      <td>Summer</td>\n",
       "      <td>2015-10-12 12:15:00</td>\n",
       "      <td>Dog</td>\n",
       "      <td>Intact Female</td>\n",
       "      <td>10 months</td>\n",
       "      <td>Labrador Retriever Mix</td>\n",
       "      <td>Red/White</td>\n",
       "    </tr>\n",
       "    <tr>\n",
       "      <th>1</th>\n",
       "      <td>2</td>\n",
       "      <td>Cheyenne</td>\n",
       "      <td>2014-07-26 17:59:00</td>\n",
       "      <td>Dog</td>\n",
       "      <td>Spayed Female</td>\n",
       "      <td>2 years</td>\n",
       "      <td>German Shepherd/Siberian Husky</td>\n",
       "      <td>Black/Tan</td>\n",
       "    </tr>\n",
       "  </tbody>\n",
       "</table>\n",
       "</div>"
      ],
      "text/plain": [
       "   ID      Name             DateTime AnimalType SexuponOutcome AgeuponOutcome  \\\n",
       "0   1    Summer  2015-10-12 12:15:00        Dog  Intact Female      10 months   \n",
       "1   2  Cheyenne  2014-07-26 17:59:00        Dog  Spayed Female        2 years   \n",
       "\n",
       "                            Breed      Color  \n",
       "0          Labrador Retriever Mix  Red/White  \n",
       "1  German Shepherd/Siberian Husky  Black/Tan  "
      ]
     },
     "execution_count": 3,
     "metadata": {},
     "output_type": "execute_result"
    }
   ],
   "source": [
    "animals_test.head(2)"
   ]
  },
  {
   "cell_type": "code",
   "execution_count": 4,
   "metadata": {
    "collapsed": false,
    "deletable": true,
    "editable": true
   },
   "outputs": [
    {
     "data": {
      "text/plain": [
       "(11456, 8)"
      ]
     },
     "execution_count": 4,
     "metadata": {},
     "output_type": "execute_result"
    }
   ],
   "source": [
    "animals_test.shape"
   ]
  },
  {
   "cell_type": "code",
   "execution_count": 5,
   "metadata": {
    "collapsed": false,
    "deletable": true,
    "editable": true
   },
   "outputs": [],
   "source": [
    "animals = pd.read_csv('data/train.csv')"
   ]
  },
  {
   "cell_type": "code",
   "execution_count": 6,
   "metadata": {
    "collapsed": false,
    "deletable": true,
    "editable": true
   },
   "outputs": [
    {
     "data": {
      "text/html": [
       "<div>\n",
       "<table border=\"1\" class=\"dataframe\">\n",
       "  <thead>\n",
       "    <tr style=\"text-align: right;\">\n",
       "      <th></th>\n",
       "      <th>AnimalID</th>\n",
       "      <th>Name</th>\n",
       "      <th>DateTime</th>\n",
       "      <th>OutcomeType</th>\n",
       "      <th>OutcomeSubtype</th>\n",
       "      <th>AnimalType</th>\n",
       "      <th>SexuponOutcome</th>\n",
       "      <th>AgeuponOutcome</th>\n",
       "      <th>Breed</th>\n",
       "      <th>Color</th>\n",
       "    </tr>\n",
       "  </thead>\n",
       "  <tbody>\n",
       "    <tr>\n",
       "      <th>0</th>\n",
       "      <td>A671945</td>\n",
       "      <td>Hambone</td>\n",
       "      <td>2014-02-12 18:22:00</td>\n",
       "      <td>Return_to_owner</td>\n",
       "      <td>NaN</td>\n",
       "      <td>Dog</td>\n",
       "      <td>Neutered Male</td>\n",
       "      <td>1 year</td>\n",
       "      <td>Shetland Sheepdog Mix</td>\n",
       "      <td>Brown/White</td>\n",
       "    </tr>\n",
       "    <tr>\n",
       "      <th>1</th>\n",
       "      <td>A656520</td>\n",
       "      <td>Emily</td>\n",
       "      <td>2013-10-13 12:44:00</td>\n",
       "      <td>Euthanasia</td>\n",
       "      <td>Suffering</td>\n",
       "      <td>Cat</td>\n",
       "      <td>Spayed Female</td>\n",
       "      <td>1 year</td>\n",
       "      <td>Domestic Shorthair Mix</td>\n",
       "      <td>Cream Tabby</td>\n",
       "    </tr>\n",
       "  </tbody>\n",
       "</table>\n",
       "</div>"
      ],
      "text/plain": [
       "  AnimalID     Name             DateTime      OutcomeType OutcomeSubtype  \\\n",
       "0  A671945  Hambone  2014-02-12 18:22:00  Return_to_owner            NaN   \n",
       "1  A656520    Emily  2013-10-13 12:44:00       Euthanasia      Suffering   \n",
       "\n",
       "  AnimalType SexuponOutcome AgeuponOutcome                   Breed  \\\n",
       "0        Dog  Neutered Male         1 year   Shetland Sheepdog Mix   \n",
       "1        Cat  Spayed Female         1 year  Domestic Shorthair Mix   \n",
       "\n",
       "         Color  \n",
       "0  Brown/White  \n",
       "1  Cream Tabby  "
      ]
     },
     "execution_count": 6,
     "metadata": {},
     "output_type": "execute_result"
    }
   ],
   "source": [
    "animals.head(2)"
   ]
  },
  {
   "cell_type": "code",
   "execution_count": 7,
   "metadata": {
    "collapsed": false,
    "deletable": true,
    "editable": true
   },
   "outputs": [
    {
     "name": "stdout",
     "output_type": "stream",
     "text": [
      "<class 'pandas.core.frame.DataFrame'>\n",
      "RangeIndex: 26729 entries, 0 to 26728\n",
      "Data columns (total 10 columns):\n",
      "AnimalID          26729 non-null object\n",
      "Name              19038 non-null object\n",
      "DateTime          26729 non-null object\n",
      "OutcomeType       26729 non-null object\n",
      "OutcomeSubtype    13117 non-null object\n",
      "AnimalType        26729 non-null object\n",
      "SexuponOutcome    26728 non-null object\n",
      "AgeuponOutcome    26711 non-null object\n",
      "Breed             26729 non-null object\n",
      "Color             26729 non-null object\n",
      "dtypes: object(10)\n",
      "memory usage: 2.0+ MB\n"
     ]
    }
   ],
   "source": [
    "animals.info()"
   ]
  },
  {
   "cell_type": "markdown",
   "metadata": {
    "collapsed": true,
    "deletable": true,
    "editable": true
   },
   "source": [
    "TO DO:\n",
    "\n",
    "### Clean up\n",
    "- missing names = unknown\n",
    "- datetime: days of week, months (seasonality)\n",
    "- impute missing values from outcomesubtype via logistic regression (or decision tree)\n",
    "    - would you actually model a logreg 1st to see if var is actually significant (but with smaller sample size)\n",
    "- impute age? age => categorical?\n",
    "- outcome = > class imbalance in predict - stratified?\n",
    "- kfolds? \n",
    "- test/train split?\n",
    "- break down breeds - size? larger sub-categories (ie hounds, etc)\n",
    "- color... ?\n",
    "\n",
    "- stats things... plot different distributions... MLE? binomial, etc"
   ]
  },
  {
   "cell_type": "code",
   "execution_count": 8,
   "metadata": {
    "collapsed": false,
    "deletable": true,
    "editable": true
   },
   "outputs": [
    {
     "data": {
      "text/plain": [
       "Index(['AnimalID', 'Name', 'DateTime', 'OutcomeType', 'OutcomeSubtype',\n",
       "       'AnimalType', 'SexuponOutcome', 'AgeuponOutcome', 'Breed', 'Color'],\n",
       "      dtype='object')"
      ]
     },
     "execution_count": 8,
     "metadata": {},
     "output_type": "execute_result"
    }
   ],
   "source": [
    "animals.columns"
   ]
  },
  {
   "cell_type": "code",
   "execution_count": 9,
   "metadata": {
    "collapsed": true,
    "deletable": true,
    "editable": true
   },
   "outputs": [],
   "source": [
    "# rename columns\n",
    "animals.columns = [x.lower() for x in animals.columns]"
   ]
  },
  {
   "cell_type": "code",
   "execution_count": 10,
   "metadata": {
    "collapsed": false,
    "deletable": true,
    "editable": true
   },
   "outputs": [
    {
     "data": {
      "text/plain": [
       "Index(['animalid', 'name', 'datetime', 'outcometype', 'outcomesubtype',\n",
       "       'animaltype', 'sexuponoutcome', 'ageuponoutcome', 'breed', 'color'],\n",
       "      dtype='object')"
      ]
     },
     "execution_count": 10,
     "metadata": {},
     "output_type": "execute_result"
    }
   ],
   "source": [
    "animals.columns"
   ]
  },
  {
   "cell_type": "code",
   "execution_count": 11,
   "metadata": {
    "collapsed": false,
    "deletable": true,
    "editable": true
   },
   "outputs": [
    {
     "data": {
      "text/plain": [
       "NaN                    13612\n",
       "Partner                 7816\n",
       "Foster                  1800\n",
       "SCRP                    1599\n",
       "Suffering               1002\n",
       "Aggressive               320\n",
       "Offsite                  165\n",
       "In Kennel                114\n",
       "Behavior                  86\n",
       "Rabies Risk               74\n",
       "Medical                   66\n",
       "In Foster                 52\n",
       "Enroute                    8\n",
       "Court/Investigation        6\n",
       "At Vet                     4\n",
       "In Surgery                 3\n",
       "Barn                       2\n",
       "Name: outcomesubtype, dtype: int64"
      ]
     },
     "execution_count": 11,
     "metadata": {},
     "output_type": "execute_result"
    }
   ],
   "source": [
    "animals.outcomesubtype.value_counts(dropna=False)"
   ]
  },
  {
   "cell_type": "code",
   "execution_count": 12,
   "metadata": {
    "collapsed": false,
    "deletable": true,
    "editable": true
   },
   "outputs": [],
   "source": [
    "animals = animals.rename(index=str, \n",
    "               columns={\n",
    "                   \"animalid\": \"id\",\n",
    "                   \"datetime\": \"date\",\n",
    "                   \"outcometype\": \"outcome\",\n",
    "                   \"outcomesubtype\": \"outcome_info\",\n",
    "                   \"animaltype\": \"animal\",\n",
    "                   \"sexuponoutcome\": \"sex\",\n",
    "                   \"ageuponoutcome\": \"age\"})"
   ]
  },
  {
   "cell_type": "code",
   "execution_count": 13,
   "metadata": {
    "collapsed": false,
    "deletable": true,
    "editable": true
   },
   "outputs": [
    {
     "data": {
      "text/plain": [
       "Index(['id', 'name', 'date', 'outcome', 'outcome_info', 'animal', 'sex', 'age',\n",
       "       'breed', 'color'],\n",
       "      dtype='object')"
      ]
     },
     "execution_count": 13,
     "metadata": {},
     "output_type": "execute_result"
    }
   ],
   "source": [
    "animals.columns"
   ]
  },
  {
   "cell_type": "code",
   "execution_count": 14,
   "metadata": {
    "collapsed": false,
    "deletable": true,
    "editable": true
   },
   "outputs": [
    {
     "data": {
      "text/plain": [
       "NaN        7691\n",
       "Max         136\n",
       "Bella       135\n",
       "Charlie     107\n",
       "Daisy       106\n",
       "Name: name, dtype: int64"
      ]
     },
     "execution_count": 14,
     "metadata": {},
     "output_type": "execute_result"
    }
   ],
   "source": [
    "animals.name.value_counts(dropna=False).head()"
   ]
  },
  {
   "cell_type": "code",
   "execution_count": 15,
   "metadata": {
    "collapsed": false,
    "deletable": true,
    "editable": true,
    "scrolled": true
   },
   "outputs": [],
   "source": [
    "animals.name.replace(np.nan, 'unknown', inplace=True)"
   ]
  },
  {
   "cell_type": "code",
   "execution_count": 16,
   "metadata": {
    "collapsed": false,
    "deletable": true,
    "editable": true
   },
   "outputs": [
    {
     "data": {
      "text/plain": [
       "unknown    7691\n",
       "Max         136\n",
       "Bella       135\n",
       "Charlie     107\n",
       "Daisy       106\n",
       "Name: name, dtype: int64"
      ]
     },
     "execution_count": 16,
     "metadata": {},
     "output_type": "execute_result"
    }
   ],
   "source": [
    "animals.name.value_counts(dropna=False).head()"
   ]
  },
  {
   "cell_type": "code",
   "execution_count": 17,
   "metadata": {
    "collapsed": false,
    "deletable": true,
    "editable": true
   },
   "outputs": [
    {
     "data": {
      "text/plain": [
       "str"
      ]
     },
     "execution_count": 17,
     "metadata": {},
     "output_type": "execute_result"
    }
   ],
   "source": [
    "type(animals.date[0])"
   ]
  },
  {
   "cell_type": "code",
   "execution_count": 18,
   "metadata": {
    "collapsed": false,
    "deletable": true,
    "editable": true
   },
   "outputs": [],
   "source": [
    "animals['datetime'] = pd.to_datetime(animals['date'], infer_datetime_format=True)"
   ]
  },
  {
   "cell_type": "code",
   "execution_count": 19,
   "metadata": {
    "collapsed": false,
    "deletable": true,
    "editable": true
   },
   "outputs": [
    {
     "data": {
      "text/html": [
       "<div>\n",
       "<table border=\"1\" class=\"dataframe\">\n",
       "  <thead>\n",
       "    <tr style=\"text-align: right;\">\n",
       "      <th></th>\n",
       "      <th>id</th>\n",
       "      <th>name</th>\n",
       "      <th>date</th>\n",
       "      <th>outcome</th>\n",
       "      <th>outcome_info</th>\n",
       "      <th>animal</th>\n",
       "      <th>sex</th>\n",
       "      <th>age</th>\n",
       "      <th>breed</th>\n",
       "      <th>color</th>\n",
       "      <th>datetime</th>\n",
       "    </tr>\n",
       "  </thead>\n",
       "  <tbody>\n",
       "    <tr>\n",
       "      <th>0</th>\n",
       "      <td>A671945</td>\n",
       "      <td>Hambone</td>\n",
       "      <td>2014-02-12 18:22:00</td>\n",
       "      <td>Return_to_owner</td>\n",
       "      <td>NaN</td>\n",
       "      <td>Dog</td>\n",
       "      <td>Neutered Male</td>\n",
       "      <td>1 year</td>\n",
       "      <td>Shetland Sheepdog Mix</td>\n",
       "      <td>Brown/White</td>\n",
       "      <td>2014-02-12 18:22:00</td>\n",
       "    </tr>\n",
       "    <tr>\n",
       "      <th>1</th>\n",
       "      <td>A656520</td>\n",
       "      <td>Emily</td>\n",
       "      <td>2013-10-13 12:44:00</td>\n",
       "      <td>Euthanasia</td>\n",
       "      <td>Suffering</td>\n",
       "      <td>Cat</td>\n",
       "      <td>Spayed Female</td>\n",
       "      <td>1 year</td>\n",
       "      <td>Domestic Shorthair Mix</td>\n",
       "      <td>Cream Tabby</td>\n",
       "      <td>2013-10-13 12:44:00</td>\n",
       "    </tr>\n",
       "  </tbody>\n",
       "</table>\n",
       "</div>"
      ],
      "text/plain": [
       "        id     name                 date          outcome outcome_info animal  \\\n",
       "0  A671945  Hambone  2014-02-12 18:22:00  Return_to_owner          NaN    Dog   \n",
       "1  A656520    Emily  2013-10-13 12:44:00       Euthanasia    Suffering    Cat   \n",
       "\n",
       "             sex     age                   breed        color  \\\n",
       "0  Neutered Male  1 year   Shetland Sheepdog Mix  Brown/White   \n",
       "1  Spayed Female  1 year  Domestic Shorthair Mix  Cream Tabby   \n",
       "\n",
       "             datetime  \n",
       "0 2014-02-12 18:22:00  \n",
       "1 2013-10-13 12:44:00  "
      ]
     },
     "execution_count": 19,
     "metadata": {},
     "output_type": "execute_result"
    }
   ],
   "source": [
    "animals.head(2)"
   ]
  },
  {
   "cell_type": "code",
   "execution_count": 20,
   "metadata": {
    "collapsed": false,
    "deletable": true,
    "editable": true
   },
   "outputs": [
    {
     "data": {
      "text/plain": [
       "pandas.tslib.Timestamp"
      ]
     },
     "execution_count": 20,
     "metadata": {},
     "output_type": "execute_result"
    }
   ],
   "source": [
    "type(animals.datetime[0])"
   ]
  },
  {
   "cell_type": "code",
   "execution_count": 21,
   "metadata": {
    "collapsed": false,
    "deletable": true,
    "editable": true
   },
   "outputs": [
    {
     "name": "stdout",
     "output_type": "stream",
     "text": [
      "<class 'pandas.core.frame.DataFrame'>\n",
      "Index: 26729 entries, 0 to 26728\n",
      "Data columns (total 11 columns):\n",
      "id              26729 non-null object\n",
      "name            26729 non-null object\n",
      "date            26729 non-null object\n",
      "outcome         26729 non-null object\n",
      "outcome_info    13117 non-null object\n",
      "animal          26729 non-null object\n",
      "sex             26728 non-null object\n",
      "age             26711 non-null object\n",
      "breed           26729 non-null object\n",
      "color           26729 non-null object\n",
      "datetime        26729 non-null datetime64[ns]\n",
      "dtypes: datetime64[ns](1), object(10)\n",
      "memory usage: 2.4+ MB\n"
     ]
    }
   ],
   "source": [
    "animals.info()"
   ]
  },
  {
   "cell_type": "code",
   "execution_count": 22,
   "metadata": {
    "collapsed": true,
    "deletable": true,
    "editable": true
   },
   "outputs": [],
   "source": [
    "# Monday is 0, Sunday is 6\n",
    "animals['day'] = animals['datetime'].map(lambda row: row.weekday())"
   ]
  },
  {
   "cell_type": "code",
   "execution_count": 23,
   "metadata": {
    "collapsed": false,
    "deletable": true,
    "editable": true
   },
   "outputs": [
    {
     "data": {
      "text/plain": [
       "5    4348\n",
       "6    4317\n",
       "1    3896\n",
       "0    3696\n",
       "4    3586\n",
       "2    3510\n",
       "3    3376\n",
       "Name: day, dtype: int64"
      ]
     },
     "execution_count": 23,
     "metadata": {},
     "output_type": "execute_result"
    }
   ],
   "source": [
    "animals.day.value_counts()"
   ]
  },
  {
   "cell_type": "code",
   "execution_count": 24,
   "metadata": {
    "collapsed": true,
    "deletable": true,
    "editable": true
   },
   "outputs": [],
   "source": [
    "animals['month'] = animals['datetime'].map(lambda row: row.month)"
   ]
  },
  {
   "cell_type": "code",
   "execution_count": 25,
   "metadata": {
    "collapsed": false,
    "deletable": true,
    "editable": true
   },
   "outputs": [
    {
     "data": {
      "text/plain": [
       "10    2881\n",
       "12    2691\n",
       "11    2668\n",
       "7     2506\n",
       "1     2334\n",
       "6     2319\n",
       "8     2172\n",
       "5     2094\n",
       "9     2004\n",
       "2     1873\n",
       "4     1689\n",
       "3     1498\n",
       "Name: month, dtype: int64"
      ]
     },
     "execution_count": 25,
     "metadata": {},
     "output_type": "execute_result"
    }
   ],
   "source": [
    "animals.month.value_counts()"
   ]
  },
  {
   "cell_type": "code",
   "execution_count": 26,
   "metadata": {
    "collapsed": true,
    "deletable": true,
    "editable": true
   },
   "outputs": [],
   "source": [
    "animals['year'] = animals['datetime'].map(lambda row: row.year)"
   ]
  },
  {
   "cell_type": "code",
   "execution_count": 27,
   "metadata": {
    "collapsed": false,
    "deletable": true,
    "editable": true
   },
   "outputs": [
    {
     "data": {
      "text/plain": [
       "2015    11481\n",
       "2014    11179\n",
       "2013     2702\n",
       "2016     1367\n",
       "Name: year, dtype: int64"
      ]
     },
     "execution_count": 27,
     "metadata": {},
     "output_type": "execute_result"
    }
   ],
   "source": [
    "animals.year.value_counts()"
   ]
  },
  {
   "cell_type": "code",
   "execution_count": 28,
   "metadata": {
    "collapsed": false,
    "deletable": true,
    "editable": true
   },
   "outputs": [
    {
     "data": {
      "text/plain": [
       "Index(['id', 'name', 'date', 'outcome', 'outcome_info', 'animal', 'sex', 'age',\n",
       "       'breed', 'color', 'datetime', 'day', 'month', 'year'],\n",
       "      dtype='object')"
      ]
     },
     "execution_count": 28,
     "metadata": {},
     "output_type": "execute_result"
    }
   ],
   "source": [
    "animals.columns"
   ]
  },
  {
   "cell_type": "code",
   "execution_count": 29,
   "metadata": {
    "collapsed": false,
    "deletable": true,
    "editable": true
   },
   "outputs": [
    {
     "data": {
      "text/plain": [
       "count                   26729\n",
       "unique                  22918\n",
       "top       2015-08-11 00:00:00\n",
       "freq                       19\n",
       "first     2013-10-01 09:31:00\n",
       "last      2016-02-21 19:17:00\n",
       "Name: datetime, dtype: object"
      ]
     },
     "execution_count": 29,
     "metadata": {},
     "output_type": "execute_result"
    }
   ],
   "source": [
    "animals.datetime.describe()"
   ]
  },
  {
   "cell_type": "code",
   "execution_count": 30,
   "metadata": {
    "collapsed": false,
    "deletable": true,
    "editable": true
   },
   "outputs": [
    {
     "data": {
      "text/plain": [
       "2015-08-11 00:00:00    19\n",
       "2015-11-17 00:00:00    17\n",
       "2015-07-02 00:00:00    13\n",
       "2015-04-02 00:00:00    11\n",
       "2014-08-31 09:00:00    10\n",
       "2015-11-23 00:00:00     9\n",
       "2014-08-26 09:00:00     9\n",
       "2016-02-15 00:00:00     9\n",
       "2015-09-11 00:00:00     9\n",
       "2015-11-08 00:00:00     8\n",
       "2015-07-26 09:00:00     8\n",
       "2014-08-17 09:00:00     8\n",
       "2015-08-03 00:00:00     8\n",
       "2015-06-19 00:00:00     8\n",
       "2015-09-01 00:00:00     8\n",
       "2014-07-16 09:00:00     8\n",
       "2014-09-06 09:00:00     8\n",
       "2014-06-21 09:00:00     8\n",
       "2014-04-26 15:31:00     7\n",
       "2014-10-20 09:00:00     7\n",
       "2016-02-07 00:00:00     7\n",
       "2014-12-27 11:09:00     7\n",
       "2014-08-16 09:00:00     7\n",
       "2015-05-31 00:00:00     7\n",
       "2015-07-03 09:00:00     7\n",
       "2015-04-20 14:08:00     7\n",
       "2015-08-02 09:00:00     7\n",
       "2014-05-03 16:15:00     7\n",
       "2015-04-25 09:00:00     7\n",
       "2015-10-19 09:00:00     7\n",
       "2015-11-05 00:00:00     7\n",
       "2014-11-05 09:00:00     7\n",
       "2015-11-30 00:00:00     7\n",
       "2015-07-30 09:00:00     6\n",
       "2014-03-13 14:58:00     6\n",
       "2014-04-17 14:30:00     6\n",
       "2015-09-21 15:57:00     6\n",
       "2015-05-30 18:42:00     6\n",
       "2014-10-23 09:00:00     6\n",
       "2015-06-19 19:03:00     6\n",
       "2015-05-26 17:17:00     6\n",
       "2014-10-14 09:00:00     6\n",
       "2013-12-27 15:49:00     6\n",
       "2014-08-21 14:23:00     6\n",
       "2014-07-24 09:00:00     6\n",
       "2015-07-19 09:00:00     6\n",
       "2015-06-16 09:00:00     6\n",
       "2015-05-26 00:00:00     6\n",
       "2015-06-20 00:00:00     6\n",
       "2016-02-21 00:00:00     6\n",
       "Name: datetime, dtype: int64"
      ]
     },
     "execution_count": 30,
     "metadata": {},
     "output_type": "execute_result"
    }
   ],
   "source": [
    "animals.datetime.value_counts().head(50)"
   ]
  },
  {
   "cell_type": "code",
   "execution_count": 31,
   "metadata": {
    "collapsed": false,
    "deletable": true,
    "editable": true
   },
   "outputs": [],
   "source": [
    "# morning, afternoon, evening\n",
    "\n",
    "animals['hour'] = animals['datetime'].map(lambda row: row.hour)"
   ]
  },
  {
   "cell_type": "code",
   "execution_count": 32,
   "metadata": {
    "collapsed": false,
    "deletable": true,
    "editable": true,
    "scrolled": false
   },
   "outputs": [
    {
     "data": {
      "text/plain": [
       "0      378\n",
       "5        2\n",
       "6       10\n",
       "7      110\n",
       "8      302\n",
       "9     1278\n",
       "10     405\n",
       "11    2042\n",
       "12    2513\n",
       "13    2468\n",
       "14    2800\n",
       "15    2682\n",
       "16    2690\n",
       "17    4162\n",
       "18    3684\n",
       "19    1083\n",
       "20      77\n",
       "21      18\n",
       "22       5\n",
       "23      20\n",
       "Name: hour, dtype: int64"
      ]
     },
     "execution_count": 32,
     "metadata": {},
     "output_type": "execute_result"
    }
   ],
   "source": [
    "animals.hour.value_counts().sort_index()"
   ]
  },
  {
   "cell_type": "code",
   "execution_count": 33,
   "metadata": {
    "collapsed": true,
    "deletable": true,
    "editable": true
   },
   "outputs": [],
   "source": [
    "animals['minutes'] = animals['datetime'].map(lambda row: row.minute)"
   ]
  },
  {
   "cell_type": "code",
   "execution_count": 34,
   "metadata": {
    "collapsed": false,
    "deletable": true,
    "editable": true,
    "scrolled": true
   },
   "outputs": [
    {
     "data": {
      "text/plain": [
       "0     1895\n",
       "17     485\n",
       "6      466\n",
       "58     462\n",
       "15     461\n",
       "9      460\n",
       "20     455\n",
       "4      453\n",
       "16     451\n",
       "38     448\n",
       "8      448\n",
       "59     447\n",
       "37     443\n",
       "52     443\n",
       "26     441\n",
       "5      440\n",
       "55     440\n",
       "42     437\n",
       "32     436\n",
       "34     436\n",
       "25     436\n",
       "2      436\n",
       "10     433\n",
       "31     431\n",
       "22     429\n",
       "39     426\n",
       "50     426\n",
       "27     426\n",
       "56     425\n",
       "7      422\n",
       "30     422\n",
       "1      418\n",
       "18     417\n",
       "53     416\n",
       "14     413\n",
       "13     413\n",
       "47     409\n",
       "54     409\n",
       "57     409\n",
       "23     409\n",
       "33     408\n",
       "46     407\n",
       "21     407\n",
       "29     407\n",
       "51     406\n",
       "43     404\n",
       "41     402\n",
       "19     402\n",
       "24     400\n",
       "40     397\n",
       "3      396\n",
       "28     396\n",
       "49     396\n",
       "44     388\n",
       "11     385\n",
       "36     381\n",
       "45     377\n",
       "12     369\n",
       "48     366\n",
       "35     363\n",
       "Name: minutes, dtype: int64"
      ]
     },
     "execution_count": 34,
     "metadata": {},
     "output_type": "execute_result"
    }
   ],
   "source": [
    "animals.minutes.value_counts()"
   ]
  },
  {
   "cell_type": "code",
   "execution_count": 35,
   "metadata": {
    "collapsed": false,
    "deletable": true,
    "editable": true,
    "scrolled": true
   },
   "outputs": [
    {
     "data": {
      "text/html": [
       "<div>\n",
       "<table border=\"1\" class=\"dataframe\">\n",
       "  <thead>\n",
       "    <tr style=\"text-align: right;\">\n",
       "      <th></th>\n",
       "      <th>id</th>\n",
       "      <th>name</th>\n",
       "      <th>date</th>\n",
       "      <th>outcome</th>\n",
       "      <th>outcome_info</th>\n",
       "      <th>animal</th>\n",
       "      <th>sex</th>\n",
       "      <th>age</th>\n",
       "      <th>breed</th>\n",
       "      <th>color</th>\n",
       "      <th>datetime</th>\n",
       "      <th>day</th>\n",
       "      <th>month</th>\n",
       "      <th>year</th>\n",
       "      <th>hour</th>\n",
       "      <th>minutes</th>\n",
       "    </tr>\n",
       "  </thead>\n",
       "  <tbody>\n",
       "    <tr>\n",
       "      <th>38</th>\n",
       "      <td>A702655</td>\n",
       "      <td>Mica</td>\n",
       "      <td>2015-08-11 00:00:00</td>\n",
       "      <td>Transfer</td>\n",
       "      <td>Partner</td>\n",
       "      <td>Cat</td>\n",
       "      <td>Neutered Male</td>\n",
       "      <td>4 months</td>\n",
       "      <td>Domestic Shorthair Mix</td>\n",
       "      <td>Black/White</td>\n",
       "      <td>2015-08-11</td>\n",
       "      <td>1</td>\n",
       "      <td>8</td>\n",
       "      <td>2015</td>\n",
       "      <td>0</td>\n",
       "      <td>0</td>\n",
       "    </tr>\n",
       "    <tr>\n",
       "      <th>117</th>\n",
       "      <td>A713392</td>\n",
       "      <td>Basil</td>\n",
       "      <td>2015-11-05 00:00:00</td>\n",
       "      <td>Transfer</td>\n",
       "      <td>Partner</td>\n",
       "      <td>Dog</td>\n",
       "      <td>Intact Male</td>\n",
       "      <td>3 months</td>\n",
       "      <td>Chihuahua Shorthair Mix</td>\n",
       "      <td>Black/White</td>\n",
       "      <td>2015-11-05</td>\n",
       "      <td>3</td>\n",
       "      <td>11</td>\n",
       "      <td>2015</td>\n",
       "      <td>0</td>\n",
       "      <td>0</td>\n",
       "    </tr>\n",
       "    <tr>\n",
       "      <th>175</th>\n",
       "      <td>A710071</td>\n",
       "      <td>Herb</td>\n",
       "      <td>2015-09-01 00:00:00</td>\n",
       "      <td>Transfer</td>\n",
       "      <td>Partner</td>\n",
       "      <td>Cat</td>\n",
       "      <td>Neutered Male</td>\n",
       "      <td>2 months</td>\n",
       "      <td>Domestic Shorthair Mix</td>\n",
       "      <td>White/Black</td>\n",
       "      <td>2015-09-01</td>\n",
       "      <td>1</td>\n",
       "      <td>9</td>\n",
       "      <td>2015</td>\n",
       "      <td>0</td>\n",
       "      <td>0</td>\n",
       "    </tr>\n",
       "    <tr>\n",
       "      <th>181</th>\n",
       "      <td>A716575</td>\n",
       "      <td>Scarlet</td>\n",
       "      <td>2015-12-22 00:00:00</td>\n",
       "      <td>Transfer</td>\n",
       "      <td>Partner</td>\n",
       "      <td>Dog</td>\n",
       "      <td>Spayed Female</td>\n",
       "      <td>2 years</td>\n",
       "      <td>Australian Cattle Dog Mix</td>\n",
       "      <td>Tan/White</td>\n",
       "      <td>2015-12-22</td>\n",
       "      <td>1</td>\n",
       "      <td>12</td>\n",
       "      <td>2015</td>\n",
       "      <td>0</td>\n",
       "      <td>0</td>\n",
       "    </tr>\n",
       "    <tr>\n",
       "      <th>195</th>\n",
       "      <td>A683666</td>\n",
       "      <td>unknown</td>\n",
       "      <td>2015-09-01 00:00:00</td>\n",
       "      <td>Transfer</td>\n",
       "      <td>Partner</td>\n",
       "      <td>Cat</td>\n",
       "      <td>Neutered Male</td>\n",
       "      <td>1 year</td>\n",
       "      <td>Domestic Shorthair Mix</td>\n",
       "      <td>White/Cream Tabby</td>\n",
       "      <td>2015-09-01</td>\n",
       "      <td>1</td>\n",
       "      <td>9</td>\n",
       "      <td>2015</td>\n",
       "      <td>0</td>\n",
       "      <td>0</td>\n",
       "    </tr>\n",
       "    <tr>\n",
       "      <th>248</th>\n",
       "      <td>A709067</td>\n",
       "      <td>Earlene</td>\n",
       "      <td>2015-08-05 00:00:00</td>\n",
       "      <td>Return_to_owner</td>\n",
       "      <td>NaN</td>\n",
       "      <td>Dog</td>\n",
       "      <td>Intact Female</td>\n",
       "      <td>5 months</td>\n",
       "      <td>Boxer Mix</td>\n",
       "      <td>Black/White</td>\n",
       "      <td>2015-08-05</td>\n",
       "      <td>2</td>\n",
       "      <td>8</td>\n",
       "      <td>2015</td>\n",
       "      <td>0</td>\n",
       "      <td>0</td>\n",
       "    </tr>\n",
       "    <tr>\n",
       "      <th>251</th>\n",
       "      <td>A720190</td>\n",
       "      <td>Little Missy</td>\n",
       "      <td>2016-02-07 00:00:00</td>\n",
       "      <td>Transfer</td>\n",
       "      <td>Partner</td>\n",
       "      <td>Dog</td>\n",
       "      <td>Spayed Female</td>\n",
       "      <td>7 years</td>\n",
       "      <td>Airedale Terrier Mix</td>\n",
       "      <td>Tricolor</td>\n",
       "      <td>2016-02-07</td>\n",
       "      <td>6</td>\n",
       "      <td>2</td>\n",
       "      <td>2016</td>\n",
       "      <td>0</td>\n",
       "      <td>0</td>\n",
       "    </tr>\n",
       "    <tr>\n",
       "      <th>289</th>\n",
       "      <td>A714820</td>\n",
       "      <td>Lizzie</td>\n",
       "      <td>2015-11-05 00:00:00</td>\n",
       "      <td>Transfer</td>\n",
       "      <td>Partner</td>\n",
       "      <td>Dog</td>\n",
       "      <td>Spayed Female</td>\n",
       "      <td>6 months</td>\n",
       "      <td>Plott Hound Mix</td>\n",
       "      <td>Brown Brindle</td>\n",
       "      <td>2015-11-05</td>\n",
       "      <td>3</td>\n",
       "      <td>11</td>\n",
       "      <td>2015</td>\n",
       "      <td>0</td>\n",
       "      <td>0</td>\n",
       "    </tr>\n",
       "    <tr>\n",
       "      <th>306</th>\n",
       "      <td>A716488</td>\n",
       "      <td>unknown</td>\n",
       "      <td>2015-11-23 00:00:00</td>\n",
       "      <td>Transfer</td>\n",
       "      <td>Partner</td>\n",
       "      <td>Dog</td>\n",
       "      <td>Neutered Male</td>\n",
       "      <td>2 years</td>\n",
       "      <td>Pit Bull Mix</td>\n",
       "      <td>Red</td>\n",
       "      <td>2015-11-23</td>\n",
       "      <td>0</td>\n",
       "      <td>11</td>\n",
       "      <td>2015</td>\n",
       "      <td>0</td>\n",
       "      <td>0</td>\n",
       "    </tr>\n",
       "    <tr>\n",
       "      <th>409</th>\n",
       "      <td>A716400</td>\n",
       "      <td>Calliope</td>\n",
       "      <td>2015-11-24 00:00:00</td>\n",
       "      <td>Transfer</td>\n",
       "      <td>Partner</td>\n",
       "      <td>Dog</td>\n",
       "      <td>Intact Female</td>\n",
       "      <td>1 year</td>\n",
       "      <td>Yorkshire Terrier Mix</td>\n",
       "      <td>Black/Tan</td>\n",
       "      <td>2015-11-24</td>\n",
       "      <td>1</td>\n",
       "      <td>11</td>\n",
       "      <td>2015</td>\n",
       "      <td>0</td>\n",
       "      <td>0</td>\n",
       "    </tr>\n",
       "    <tr>\n",
       "      <th>627</th>\n",
       "      <td>A683817</td>\n",
       "      <td>Marvin</td>\n",
       "      <td>2016-02-07 00:00:00</td>\n",
       "      <td>Transfer</td>\n",
       "      <td>Partner</td>\n",
       "      <td>Cat</td>\n",
       "      <td>Neutered Male</td>\n",
       "      <td>1 year</td>\n",
       "      <td>Domestic Shorthair Mix</td>\n",
       "      <td>Orange Tabby/White</td>\n",
       "      <td>2016-02-07</td>\n",
       "      <td>6</td>\n",
       "      <td>2</td>\n",
       "      <td>2016</td>\n",
       "      <td>0</td>\n",
       "      <td>0</td>\n",
       "    </tr>\n",
       "    <tr>\n",
       "      <th>644</th>\n",
       "      <td>A700056</td>\n",
       "      <td>Alyssa</td>\n",
       "      <td>2015-05-31 00:00:00</td>\n",
       "      <td>Transfer</td>\n",
       "      <td>Partner</td>\n",
       "      <td>Dog</td>\n",
       "      <td>Spayed Female</td>\n",
       "      <td>1 year</td>\n",
       "      <td>Pit Bull Mix</td>\n",
       "      <td>Brown Brindle</td>\n",
       "      <td>2015-05-31</td>\n",
       "      <td>6</td>\n",
       "      <td>5</td>\n",
       "      <td>2015</td>\n",
       "      <td>0</td>\n",
       "      <td>0</td>\n",
       "    </tr>\n",
       "    <tr>\n",
       "      <th>696</th>\n",
       "      <td>A668484</td>\n",
       "      <td>Mickey</td>\n",
       "      <td>2015-11-24 00:00:00</td>\n",
       "      <td>Transfer</td>\n",
       "      <td>Partner</td>\n",
       "      <td>Dog</td>\n",
       "      <td>Neutered Male</td>\n",
       "      <td>2 years</td>\n",
       "      <td>Chihuahua Shorthair Mix</td>\n",
       "      <td>Black/Tan</td>\n",
       "      <td>2015-11-24</td>\n",
       "      <td>1</td>\n",
       "      <td>11</td>\n",
       "      <td>2015</td>\n",
       "      <td>0</td>\n",
       "      <td>0</td>\n",
       "    </tr>\n",
       "    <tr>\n",
       "      <th>769</th>\n",
       "      <td>A706565</td>\n",
       "      <td>Ducky</td>\n",
       "      <td>2015-07-02 00:00:00</td>\n",
       "      <td>Transfer</td>\n",
       "      <td>Partner</td>\n",
       "      <td>Cat</td>\n",
       "      <td>Neutered Male</td>\n",
       "      <td>3 months</td>\n",
       "      <td>Domestic Shorthair Mix</td>\n",
       "      <td>Black</td>\n",
       "      <td>2015-07-02</td>\n",
       "      <td>3</td>\n",
       "      <td>7</td>\n",
       "      <td>2015</td>\n",
       "      <td>0</td>\n",
       "      <td>0</td>\n",
       "    </tr>\n",
       "    <tr>\n",
       "      <th>798</th>\n",
       "      <td>A709165</td>\n",
       "      <td>unknown</td>\n",
       "      <td>2015-08-11 00:00:00</td>\n",
       "      <td>Transfer</td>\n",
       "      <td>Partner</td>\n",
       "      <td>Cat</td>\n",
       "      <td>Intact Male</td>\n",
       "      <td>3 weeks</td>\n",
       "      <td>Domestic Shorthair Mix</td>\n",
       "      <td>Blue Tabby</td>\n",
       "      <td>2015-08-11</td>\n",
       "      <td>1</td>\n",
       "      <td>8</td>\n",
       "      <td>2015</td>\n",
       "      <td>0</td>\n",
       "      <td>0</td>\n",
       "    </tr>\n",
       "    <tr>\n",
       "      <th>816</th>\n",
       "      <td>A622844</td>\n",
       "      <td>Squeaky</td>\n",
       "      <td>2016-01-31 00:00:00</td>\n",
       "      <td>Transfer</td>\n",
       "      <td>Partner</td>\n",
       "      <td>Dog</td>\n",
       "      <td>Spayed Female</td>\n",
       "      <td>4 years</td>\n",
       "      <td>Jack Russell Terrier/Australian Cattle Dog</td>\n",
       "      <td>White/Black</td>\n",
       "      <td>2016-01-31</td>\n",
       "      <td>6</td>\n",
       "      <td>1</td>\n",
       "      <td>2016</td>\n",
       "      <td>0</td>\n",
       "      <td>0</td>\n",
       "    </tr>\n",
       "    <tr>\n",
       "      <th>832</th>\n",
       "      <td>A720081</td>\n",
       "      <td>unknown</td>\n",
       "      <td>2016-02-15 00:00:00</td>\n",
       "      <td>Transfer</td>\n",
       "      <td>Partner</td>\n",
       "      <td>Dog</td>\n",
       "      <td>Intact Male</td>\n",
       "      <td>2 weeks</td>\n",
       "      <td>Labrador Retriever Mix</td>\n",
       "      <td>Tricolor</td>\n",
       "      <td>2016-02-15</td>\n",
       "      <td>0</td>\n",
       "      <td>2</td>\n",
       "      <td>2016</td>\n",
       "      <td>0</td>\n",
       "      <td>0</td>\n",
       "    </tr>\n",
       "    <tr>\n",
       "      <th>896</th>\n",
       "      <td>A702777</td>\n",
       "      <td>unknown</td>\n",
       "      <td>2015-05-17 00:00:00</td>\n",
       "      <td>Transfer</td>\n",
       "      <td>Partner</td>\n",
       "      <td>Dog</td>\n",
       "      <td>Unknown</td>\n",
       "      <td>5 months</td>\n",
       "      <td>Cairn Terrier Mix</td>\n",
       "      <td>Tan</td>\n",
       "      <td>2015-05-17</td>\n",
       "      <td>6</td>\n",
       "      <td>5</td>\n",
       "      <td>2015</td>\n",
       "      <td>0</td>\n",
       "      <td>0</td>\n",
       "    </tr>\n",
       "    <tr>\n",
       "      <th>1039</th>\n",
       "      <td>A711514</td>\n",
       "      <td>Dakota</td>\n",
       "      <td>2015-10-17 00:00:00</td>\n",
       "      <td>Adoption</td>\n",
       "      <td>Foster</td>\n",
       "      <td>Dog</td>\n",
       "      <td>Spayed Female</td>\n",
       "      <td>2 months</td>\n",
       "      <td>Australian Cattle Dog Mix</td>\n",
       "      <td>Blue Merle/White</td>\n",
       "      <td>2015-10-17</td>\n",
       "      <td>5</td>\n",
       "      <td>10</td>\n",
       "      <td>2015</td>\n",
       "      <td>0</td>\n",
       "      <td>0</td>\n",
       "    </tr>\n",
       "    <tr>\n",
       "      <th>1084</th>\n",
       "      <td>A715218</td>\n",
       "      <td>Tyra</td>\n",
       "      <td>2015-11-17 00:00:00</td>\n",
       "      <td>Transfer</td>\n",
       "      <td>Partner</td>\n",
       "      <td>Cat</td>\n",
       "      <td>Spayed Female</td>\n",
       "      <td>3 months</td>\n",
       "      <td>Domestic Shorthair Mix</td>\n",
       "      <td>Tortie</td>\n",
       "      <td>2015-11-17</td>\n",
       "      <td>1</td>\n",
       "      <td>11</td>\n",
       "      <td>2015</td>\n",
       "      <td>0</td>\n",
       "      <td>0</td>\n",
       "    </tr>\n",
       "    <tr>\n",
       "      <th>1087</th>\n",
       "      <td>A715618</td>\n",
       "      <td>unknown</td>\n",
       "      <td>2015-11-10 00:00:00</td>\n",
       "      <td>Transfer</td>\n",
       "      <td>Partner</td>\n",
       "      <td>Dog</td>\n",
       "      <td>Intact Male</td>\n",
       "      <td>2 years</td>\n",
       "      <td>Cardigan Welsh Corgi/Chihuahua Shorthair</td>\n",
       "      <td>Tan</td>\n",
       "      <td>2015-11-10</td>\n",
       "      <td>1</td>\n",
       "      <td>11</td>\n",
       "      <td>2015</td>\n",
       "      <td>0</td>\n",
       "      <td>0</td>\n",
       "    </tr>\n",
       "    <tr>\n",
       "      <th>1172</th>\n",
       "      <td>A713610</td>\n",
       "      <td>Poppi</td>\n",
       "      <td>2015-10-16 00:00:00</td>\n",
       "      <td>Transfer</td>\n",
       "      <td>Partner</td>\n",
       "      <td>Dog</td>\n",
       "      <td>Spayed Female</td>\n",
       "      <td>1 year</td>\n",
       "      <td>Labrador Retriever/Border Collie</td>\n",
       "      <td>Black/White</td>\n",
       "      <td>2015-10-16</td>\n",
       "      <td>4</td>\n",
       "      <td>10</td>\n",
       "      <td>2015</td>\n",
       "      <td>0</td>\n",
       "      <td>0</td>\n",
       "    </tr>\n",
       "    <tr>\n",
       "      <th>1213</th>\n",
       "      <td>A700751</td>\n",
       "      <td>Gypsy</td>\n",
       "      <td>2015-07-02 00:00:00</td>\n",
       "      <td>Transfer</td>\n",
       "      <td>Partner</td>\n",
       "      <td>Cat</td>\n",
       "      <td>Spayed Female</td>\n",
       "      <td>2 months</td>\n",
       "      <td>Domestic Shorthair Mix</td>\n",
       "      <td>Brown Tabby</td>\n",
       "      <td>2015-07-02</td>\n",
       "      <td>3</td>\n",
       "      <td>7</td>\n",
       "      <td>2015</td>\n",
       "      <td>0</td>\n",
       "      <td>0</td>\n",
       "    </tr>\n",
       "    <tr>\n",
       "      <th>1295</th>\n",
       "      <td>A700035</td>\n",
       "      <td>unknown</td>\n",
       "      <td>2015-04-10 00:00:00</td>\n",
       "      <td>Transfer</td>\n",
       "      <td>Partner</td>\n",
       "      <td>Dog</td>\n",
       "      <td>Spayed Female</td>\n",
       "      <td>1 year</td>\n",
       "      <td>Miniature Schnauzer Mix</td>\n",
       "      <td>Black/Tan</td>\n",
       "      <td>2015-04-10</td>\n",
       "      <td>4</td>\n",
       "      <td>4</td>\n",
       "      <td>2015</td>\n",
       "      <td>0</td>\n",
       "      <td>0</td>\n",
       "    </tr>\n",
       "    <tr>\n",
       "      <th>1313</th>\n",
       "      <td>A719494</td>\n",
       "      <td>unknown</td>\n",
       "      <td>2016-01-22 00:00:00</td>\n",
       "      <td>Return_to_owner</td>\n",
       "      <td>NaN</td>\n",
       "      <td>Dog</td>\n",
       "      <td>Intact Female</td>\n",
       "      <td>1 year</td>\n",
       "      <td>Siberian Husky Mix</td>\n",
       "      <td>Silver/Black</td>\n",
       "      <td>2016-01-22</td>\n",
       "      <td>4</td>\n",
       "      <td>1</td>\n",
       "      <td>2016</td>\n",
       "      <td>0</td>\n",
       "      <td>0</td>\n",
       "    </tr>\n",
       "    <tr>\n",
       "      <th>1406</th>\n",
       "      <td>A484945</td>\n",
       "      <td>Johnnie</td>\n",
       "      <td>2015-05-31 00:00:00</td>\n",
       "      <td>Transfer</td>\n",
       "      <td>Partner</td>\n",
       "      <td>Cat</td>\n",
       "      <td>Neutered Male</td>\n",
       "      <td>7 years</td>\n",
       "      <td>Domestic Shorthair Mix</td>\n",
       "      <td>Black</td>\n",
       "      <td>2015-05-31</td>\n",
       "      <td>6</td>\n",
       "      <td>5</td>\n",
       "      <td>2015</td>\n",
       "      <td>0</td>\n",
       "      <td>0</td>\n",
       "    </tr>\n",
       "    <tr>\n",
       "      <th>1411</th>\n",
       "      <td>A715280</td>\n",
       "      <td>Pauly</td>\n",
       "      <td>2015-11-08 00:00:00</td>\n",
       "      <td>Adoption</td>\n",
       "      <td>NaN</td>\n",
       "      <td>Dog</td>\n",
       "      <td>Neutered Male</td>\n",
       "      <td>2 months</td>\n",
       "      <td>Labrador Retriever Mix</td>\n",
       "      <td>Tricolor</td>\n",
       "      <td>2015-11-08</td>\n",
       "      <td>6</td>\n",
       "      <td>11</td>\n",
       "      <td>2015</td>\n",
       "      <td>0</td>\n",
       "      <td>0</td>\n",
       "    </tr>\n",
       "    <tr>\n",
       "      <th>1551</th>\n",
       "      <td>A717994</td>\n",
       "      <td>Wilma</td>\n",
       "      <td>2016-01-05 00:00:00</td>\n",
       "      <td>Transfer</td>\n",
       "      <td>Partner</td>\n",
       "      <td>Dog</td>\n",
       "      <td>Spayed Female</td>\n",
       "      <td>1 year</td>\n",
       "      <td>Pit Bull Mix</td>\n",
       "      <td>White/Brown Brindle</td>\n",
       "      <td>2016-01-05</td>\n",
       "      <td>1</td>\n",
       "      <td>1</td>\n",
       "      <td>2016</td>\n",
       "      <td>0</td>\n",
       "      <td>0</td>\n",
       "    </tr>\n",
       "    <tr>\n",
       "      <th>1640</th>\n",
       "      <td>A708175</td>\n",
       "      <td>Kiki</td>\n",
       "      <td>2015-08-23 00:00:00</td>\n",
       "      <td>Adoption</td>\n",
       "      <td>NaN</td>\n",
       "      <td>Cat</td>\n",
       "      <td>Spayed Female</td>\n",
       "      <td>1 month</td>\n",
       "      <td>Domestic Shorthair Mix</td>\n",
       "      <td>White/Black</td>\n",
       "      <td>2015-08-23</td>\n",
       "      <td>6</td>\n",
       "      <td>8</td>\n",
       "      <td>2015</td>\n",
       "      <td>0</td>\n",
       "      <td>0</td>\n",
       "    </tr>\n",
       "    <tr>\n",
       "      <th>1757</th>\n",
       "      <td>A713852</td>\n",
       "      <td>Peach</td>\n",
       "      <td>2015-10-18 00:00:00</td>\n",
       "      <td>Adoption</td>\n",
       "      <td>NaN</td>\n",
       "      <td>Cat</td>\n",
       "      <td>Intact Female</td>\n",
       "      <td>2 months</td>\n",
       "      <td>Domestic Shorthair Mix</td>\n",
       "      <td>Orange Tabby/White</td>\n",
       "      <td>2015-10-18</td>\n",
       "      <td>6</td>\n",
       "      <td>10</td>\n",
       "      <td>2015</td>\n",
       "      <td>0</td>\n",
       "      <td>0</td>\n",
       "    </tr>\n",
       "    <tr>\n",
       "      <th>...</th>\n",
       "      <td>...</td>\n",
       "      <td>...</td>\n",
       "      <td>...</td>\n",
       "      <td>...</td>\n",
       "      <td>...</td>\n",
       "      <td>...</td>\n",
       "      <td>...</td>\n",
       "      <td>...</td>\n",
       "      <td>...</td>\n",
       "      <td>...</td>\n",
       "      <td>...</td>\n",
       "      <td>...</td>\n",
       "      <td>...</td>\n",
       "      <td>...</td>\n",
       "      <td>...</td>\n",
       "      <td>...</td>\n",
       "    </tr>\n",
       "    <tr>\n",
       "      <th>24494</th>\n",
       "      <td>A695070</td>\n",
       "      <td>David</td>\n",
       "      <td>2015-01-12 00:00:00</td>\n",
       "      <td>Return_to_owner</td>\n",
       "      <td>NaN</td>\n",
       "      <td>Cat</td>\n",
       "      <td>Neutered Male</td>\n",
       "      <td>1 year</td>\n",
       "      <td>Russian Blue Mix</td>\n",
       "      <td>Blue</td>\n",
       "      <td>2015-01-12</td>\n",
       "      <td>0</td>\n",
       "      <td>1</td>\n",
       "      <td>2015</td>\n",
       "      <td>0</td>\n",
       "      <td>0</td>\n",
       "    </tr>\n",
       "    <tr>\n",
       "      <th>24660</th>\n",
       "      <td>A706871</td>\n",
       "      <td>unknown</td>\n",
       "      <td>2015-07-04 00:00:00</td>\n",
       "      <td>Transfer</td>\n",
       "      <td>Partner</td>\n",
       "      <td>Cat</td>\n",
       "      <td>Intact Female</td>\n",
       "      <td>4 weeks</td>\n",
       "      <td>Domestic Shorthair Mix</td>\n",
       "      <td>Calico</td>\n",
       "      <td>2015-07-04</td>\n",
       "      <td>5</td>\n",
       "      <td>7</td>\n",
       "      <td>2015</td>\n",
       "      <td>0</td>\n",
       "      <td>0</td>\n",
       "    </tr>\n",
       "    <tr>\n",
       "      <th>24734</th>\n",
       "      <td>A719068</td>\n",
       "      <td>Marty</td>\n",
       "      <td>2016-01-31 00:00:00</td>\n",
       "      <td>Transfer</td>\n",
       "      <td>Partner</td>\n",
       "      <td>Dog</td>\n",
       "      <td>Neutered Male</td>\n",
       "      <td>1 year</td>\n",
       "      <td>Chihuahua Shorthair Mix</td>\n",
       "      <td>Brown</td>\n",
       "      <td>2016-01-31</td>\n",
       "      <td>6</td>\n",
       "      <td>1</td>\n",
       "      <td>2016</td>\n",
       "      <td>0</td>\n",
       "      <td>0</td>\n",
       "    </tr>\n",
       "    <tr>\n",
       "      <th>24764</th>\n",
       "      <td>A714259</td>\n",
       "      <td>unknown</td>\n",
       "      <td>2015-10-20 00:00:00</td>\n",
       "      <td>Transfer</td>\n",
       "      <td>Partner</td>\n",
       "      <td>Cat</td>\n",
       "      <td>Unknown</td>\n",
       "      <td>1 week</td>\n",
       "      <td>Domestic Shorthair Mix</td>\n",
       "      <td>Brown Tabby</td>\n",
       "      <td>2015-10-20</td>\n",
       "      <td>1</td>\n",
       "      <td>10</td>\n",
       "      <td>2015</td>\n",
       "      <td>0</td>\n",
       "      <td>0</td>\n",
       "    </tr>\n",
       "    <tr>\n",
       "      <th>24824</th>\n",
       "      <td>A714775</td>\n",
       "      <td>Mimi</td>\n",
       "      <td>2015-11-01 00:00:00</td>\n",
       "      <td>Transfer</td>\n",
       "      <td>Partner</td>\n",
       "      <td>Dog</td>\n",
       "      <td>Spayed Female</td>\n",
       "      <td>2 years</td>\n",
       "      <td>Chihuahua Shorthair Mix</td>\n",
       "      <td>Black/Tan</td>\n",
       "      <td>2015-11-01</td>\n",
       "      <td>6</td>\n",
       "      <td>11</td>\n",
       "      <td>2015</td>\n",
       "      <td>0</td>\n",
       "      <td>0</td>\n",
       "    </tr>\n",
       "    <tr>\n",
       "      <th>24886</th>\n",
       "      <td>A711584</td>\n",
       "      <td>Kitty</td>\n",
       "      <td>2015-10-18 00:00:00</td>\n",
       "      <td>Adoption</td>\n",
       "      <td>NaN</td>\n",
       "      <td>Cat</td>\n",
       "      <td>Intact Male</td>\n",
       "      <td>2 months</td>\n",
       "      <td>Domestic Shorthair Mix</td>\n",
       "      <td>Black/White</td>\n",
       "      <td>2015-10-18</td>\n",
       "      <td>6</td>\n",
       "      <td>10</td>\n",
       "      <td>2015</td>\n",
       "      <td>0</td>\n",
       "      <td>0</td>\n",
       "    </tr>\n",
       "    <tr>\n",
       "      <th>24915</th>\n",
       "      <td>A701701</td>\n",
       "      <td>Cooper</td>\n",
       "      <td>2015-05-21 00:00:00</td>\n",
       "      <td>Transfer</td>\n",
       "      <td>Partner</td>\n",
       "      <td>Dog</td>\n",
       "      <td>Intact Male</td>\n",
       "      <td>5 months</td>\n",
       "      <td>Miniature Poodle/Cocker Spaniel</td>\n",
       "      <td>Gold</td>\n",
       "      <td>2015-05-21</td>\n",
       "      <td>3</td>\n",
       "      <td>5</td>\n",
       "      <td>2015</td>\n",
       "      <td>0</td>\n",
       "      <td>0</td>\n",
       "    </tr>\n",
       "    <tr>\n",
       "      <th>25012</th>\n",
       "      <td>A720014</td>\n",
       "      <td>Rembrandt</td>\n",
       "      <td>2016-02-07 00:00:00</td>\n",
       "      <td>Transfer</td>\n",
       "      <td>Partner</td>\n",
       "      <td>Dog</td>\n",
       "      <td>Intact Male</td>\n",
       "      <td>10 months</td>\n",
       "      <td>Anatol Shepherd Mix</td>\n",
       "      <td>Tan/White</td>\n",
       "      <td>2016-02-07</td>\n",
       "      <td>6</td>\n",
       "      <td>2</td>\n",
       "      <td>2016</td>\n",
       "      <td>0</td>\n",
       "      <td>0</td>\n",
       "    </tr>\n",
       "    <tr>\n",
       "      <th>25037</th>\n",
       "      <td>A715106</td>\n",
       "      <td>Ms Kitty</td>\n",
       "      <td>2015-11-11 00:00:00</td>\n",
       "      <td>Transfer</td>\n",
       "      <td>Partner</td>\n",
       "      <td>Cat</td>\n",
       "      <td>Spayed Female</td>\n",
       "      <td>4 years</td>\n",
       "      <td>Domestic Shorthair Mix</td>\n",
       "      <td>Blue/White</td>\n",
       "      <td>2015-11-11</td>\n",
       "      <td>2</td>\n",
       "      <td>11</td>\n",
       "      <td>2015</td>\n",
       "      <td>0</td>\n",
       "      <td>0</td>\n",
       "    </tr>\n",
       "    <tr>\n",
       "      <th>25073</th>\n",
       "      <td>A712534</td>\n",
       "      <td>Chiwa</td>\n",
       "      <td>2015-09-27 00:00:00</td>\n",
       "      <td>Return_to_owner</td>\n",
       "      <td>NaN</td>\n",
       "      <td>Dog</td>\n",
       "      <td>Spayed Female</td>\n",
       "      <td>1 year</td>\n",
       "      <td>Chihuahua Shorthair Mix</td>\n",
       "      <td>White/Tan</td>\n",
       "      <td>2015-09-27</td>\n",
       "      <td>6</td>\n",
       "      <td>9</td>\n",
       "      <td>2015</td>\n",
       "      <td>0</td>\n",
       "      <td>0</td>\n",
       "    </tr>\n",
       "    <tr>\n",
       "      <th>25175</th>\n",
       "      <td>A714510</td>\n",
       "      <td>Simon</td>\n",
       "      <td>2015-10-28 00:00:00</td>\n",
       "      <td>Transfer</td>\n",
       "      <td>Partner</td>\n",
       "      <td>Dog</td>\n",
       "      <td>Neutered Male</td>\n",
       "      <td>1 year</td>\n",
       "      <td>Rat Terrier Mix</td>\n",
       "      <td>White/Black</td>\n",
       "      <td>2015-10-28</td>\n",
       "      <td>2</td>\n",
       "      <td>10</td>\n",
       "      <td>2015</td>\n",
       "      <td>0</td>\n",
       "      <td>0</td>\n",
       "    </tr>\n",
       "    <tr>\n",
       "      <th>25214</th>\n",
       "      <td>A699791</td>\n",
       "      <td>Jessica</td>\n",
       "      <td>2015-04-02 00:00:00</td>\n",
       "      <td>Transfer</td>\n",
       "      <td>Partner</td>\n",
       "      <td>Dog</td>\n",
       "      <td>Intact Female</td>\n",
       "      <td>4 weeks</td>\n",
       "      <td>Shih Tzu</td>\n",
       "      <td>Black</td>\n",
       "      <td>2015-04-02</td>\n",
       "      <td>3</td>\n",
       "      <td>4</td>\n",
       "      <td>2015</td>\n",
       "      <td>0</td>\n",
       "      <td>0</td>\n",
       "    </tr>\n",
       "    <tr>\n",
       "      <th>25507</th>\n",
       "      <td>A702755</td>\n",
       "      <td>Oscar</td>\n",
       "      <td>2015-07-26 00:00:00</td>\n",
       "      <td>Adoption</td>\n",
       "      <td>NaN</td>\n",
       "      <td>Cat</td>\n",
       "      <td>Neutered Male</td>\n",
       "      <td>2 months</td>\n",
       "      <td>Domestic Shorthair Mix</td>\n",
       "      <td>Orange Tabby/White</td>\n",
       "      <td>2015-07-26</td>\n",
       "      <td>6</td>\n",
       "      <td>7</td>\n",
       "      <td>2015</td>\n",
       "      <td>0</td>\n",
       "      <td>0</td>\n",
       "    </tr>\n",
       "    <tr>\n",
       "      <th>25521</th>\n",
       "      <td>A708038</td>\n",
       "      <td>Archie</td>\n",
       "      <td>2015-08-01 00:00:00</td>\n",
       "      <td>Return_to_owner</td>\n",
       "      <td>NaN</td>\n",
       "      <td>Dog</td>\n",
       "      <td>Neutered Male</td>\n",
       "      <td>1 year</td>\n",
       "      <td>Black Mouth Cur Mix</td>\n",
       "      <td>Tan/Tan</td>\n",
       "      <td>2015-08-01</td>\n",
       "      <td>5</td>\n",
       "      <td>8</td>\n",
       "      <td>2015</td>\n",
       "      <td>0</td>\n",
       "      <td>0</td>\n",
       "    </tr>\n",
       "    <tr>\n",
       "      <th>25547</th>\n",
       "      <td>A703892</td>\n",
       "      <td>Opal Jane</td>\n",
       "      <td>2015-12-13 00:00:00</td>\n",
       "      <td>Transfer</td>\n",
       "      <td>Partner</td>\n",
       "      <td>Dog</td>\n",
       "      <td>Intact Female</td>\n",
       "      <td>12 years</td>\n",
       "      <td>Chihuahua Shorthair Mix</td>\n",
       "      <td>White/Brown</td>\n",
       "      <td>2015-12-13</td>\n",
       "      <td>6</td>\n",
       "      <td>12</td>\n",
       "      <td>2015</td>\n",
       "      <td>0</td>\n",
       "      <td>0</td>\n",
       "    </tr>\n",
       "    <tr>\n",
       "      <th>25584</th>\n",
       "      <td>A658800</td>\n",
       "      <td>Houdini</td>\n",
       "      <td>2015-05-31 00:00:00</td>\n",
       "      <td>Transfer</td>\n",
       "      <td>Partner</td>\n",
       "      <td>Cat</td>\n",
       "      <td>Neutered Male</td>\n",
       "      <td>1 year</td>\n",
       "      <td>Domestic Medium Hair Mix</td>\n",
       "      <td>Blue/White</td>\n",
       "      <td>2015-05-31</td>\n",
       "      <td>6</td>\n",
       "      <td>5</td>\n",
       "      <td>2015</td>\n",
       "      <td>0</td>\n",
       "      <td>0</td>\n",
       "    </tr>\n",
       "    <tr>\n",
       "      <th>25601</th>\n",
       "      <td>A668816</td>\n",
       "      <td>Bella</td>\n",
       "      <td>2015-12-22 00:00:00</td>\n",
       "      <td>Transfer</td>\n",
       "      <td>Partner</td>\n",
       "      <td>Dog</td>\n",
       "      <td>Spayed Female</td>\n",
       "      <td>4 years</td>\n",
       "      <td>Miniature Pinscher Mix</td>\n",
       "      <td>Black/Brown</td>\n",
       "      <td>2015-12-22</td>\n",
       "      <td>1</td>\n",
       "      <td>12</td>\n",
       "      <td>2015</td>\n",
       "      <td>0</td>\n",
       "      <td>0</td>\n",
       "    </tr>\n",
       "    <tr>\n",
       "      <th>25870</th>\n",
       "      <td>A715635</td>\n",
       "      <td>Knight</td>\n",
       "      <td>2015-11-30 00:00:00</td>\n",
       "      <td>Transfer</td>\n",
       "      <td>Partner</td>\n",
       "      <td>Dog</td>\n",
       "      <td>Neutered Male</td>\n",
       "      <td>2 years</td>\n",
       "      <td>Australian Cattle Dog Mix</td>\n",
       "      <td>Black</td>\n",
       "      <td>2015-11-30</td>\n",
       "      <td>0</td>\n",
       "      <td>11</td>\n",
       "      <td>2015</td>\n",
       "      <td>0</td>\n",
       "      <td>0</td>\n",
       "    </tr>\n",
       "    <tr>\n",
       "      <th>25875</th>\n",
       "      <td>A709316</td>\n",
       "      <td>unknown</td>\n",
       "      <td>2015-08-11 00:00:00</td>\n",
       "      <td>Transfer</td>\n",
       "      <td>Partner</td>\n",
       "      <td>Cat</td>\n",
       "      <td>Intact Female</td>\n",
       "      <td>3 weeks</td>\n",
       "      <td>Domestic Shorthair Mix</td>\n",
       "      <td>Torbie</td>\n",
       "      <td>2015-08-11</td>\n",
       "      <td>1</td>\n",
       "      <td>8</td>\n",
       "      <td>2015</td>\n",
       "      <td>0</td>\n",
       "      <td>0</td>\n",
       "    </tr>\n",
       "    <tr>\n",
       "      <th>26020</th>\n",
       "      <td>A705930</td>\n",
       "      <td>Bleu</td>\n",
       "      <td>2015-09-11 00:00:00</td>\n",
       "      <td>Return_to_owner</td>\n",
       "      <td>NaN</td>\n",
       "      <td>Dog</td>\n",
       "      <td>Spayed Female</td>\n",
       "      <td>1 year</td>\n",
       "      <td>Boxer/Pit Bull</td>\n",
       "      <td>Chocolate/White</td>\n",
       "      <td>2015-09-11</td>\n",
       "      <td>4</td>\n",
       "      <td>9</td>\n",
       "      <td>2015</td>\n",
       "      <td>0</td>\n",
       "      <td>0</td>\n",
       "    </tr>\n",
       "    <tr>\n",
       "      <th>26214</th>\n",
       "      <td>A714626</td>\n",
       "      <td>Marco</td>\n",
       "      <td>2015-11-17 00:00:00</td>\n",
       "      <td>Transfer</td>\n",
       "      <td>Partner</td>\n",
       "      <td>Cat</td>\n",
       "      <td>Neutered Male</td>\n",
       "      <td>2 months</td>\n",
       "      <td>Domestic Shorthair Mix</td>\n",
       "      <td>Black/White</td>\n",
       "      <td>2015-11-17</td>\n",
       "      <td>1</td>\n",
       "      <td>11</td>\n",
       "      <td>2015</td>\n",
       "      <td>0</td>\n",
       "      <td>0</td>\n",
       "    </tr>\n",
       "    <tr>\n",
       "      <th>26263</th>\n",
       "      <td>A710134</td>\n",
       "      <td>Eddie</td>\n",
       "      <td>2015-08-30 00:00:00</td>\n",
       "      <td>Transfer</td>\n",
       "      <td>Partner</td>\n",
       "      <td>Dog</td>\n",
       "      <td>Neutered Male</td>\n",
       "      <td>1 year</td>\n",
       "      <td>Chihuahua Shorthair Mix</td>\n",
       "      <td>White/Black</td>\n",
       "      <td>2015-08-30</td>\n",
       "      <td>6</td>\n",
       "      <td>8</td>\n",
       "      <td>2015</td>\n",
       "      <td>0</td>\n",
       "      <td>0</td>\n",
       "    </tr>\n",
       "    <tr>\n",
       "      <th>26387</th>\n",
       "      <td>A708667</td>\n",
       "      <td>Phantom</td>\n",
       "      <td>2015-08-03 00:00:00</td>\n",
       "      <td>Adoption</td>\n",
       "      <td>NaN</td>\n",
       "      <td>Dog</td>\n",
       "      <td>Neutered Male</td>\n",
       "      <td>6 years</td>\n",
       "      <td>Chihuahua Shorthair Mix</td>\n",
       "      <td>Black</td>\n",
       "      <td>2015-08-03</td>\n",
       "      <td>0</td>\n",
       "      <td>8</td>\n",
       "      <td>2015</td>\n",
       "      <td>0</td>\n",
       "      <td>0</td>\n",
       "    </tr>\n",
       "    <tr>\n",
       "      <th>26472</th>\n",
       "      <td>A715556</td>\n",
       "      <td>unknown</td>\n",
       "      <td>2015-11-09 00:00:00</td>\n",
       "      <td>Transfer</td>\n",
       "      <td>Partner</td>\n",
       "      <td>Cat</td>\n",
       "      <td>Intact Female</td>\n",
       "      <td>3 months</td>\n",
       "      <td>Domestic Shorthair Mix</td>\n",
       "      <td>Black</td>\n",
       "      <td>2015-11-09</td>\n",
       "      <td>0</td>\n",
       "      <td>11</td>\n",
       "      <td>2015</td>\n",
       "      <td>0</td>\n",
       "      <td>0</td>\n",
       "    </tr>\n",
       "    <tr>\n",
       "      <th>26478</th>\n",
       "      <td>A710720</td>\n",
       "      <td>Honey</td>\n",
       "      <td>2015-12-08 00:00:00</td>\n",
       "      <td>Euthanasia</td>\n",
       "      <td>Aggressive</td>\n",
       "      <td>Dog</td>\n",
       "      <td>Intact Female</td>\n",
       "      <td>2 years</td>\n",
       "      <td>Pit Bull Mix</td>\n",
       "      <td>Tan</td>\n",
       "      <td>2015-12-08</td>\n",
       "      <td>1</td>\n",
       "      <td>12</td>\n",
       "      <td>2015</td>\n",
       "      <td>0</td>\n",
       "      <td>0</td>\n",
       "    </tr>\n",
       "    <tr>\n",
       "      <th>26526</th>\n",
       "      <td>A701313</td>\n",
       "      <td>Pancho</td>\n",
       "      <td>2015-05-05 00:00:00</td>\n",
       "      <td>Return_to_owner</td>\n",
       "      <td>NaN</td>\n",
       "      <td>Dog</td>\n",
       "      <td>Neutered Male</td>\n",
       "      <td>8 years</td>\n",
       "      <td>Rottweiler Mix</td>\n",
       "      <td>Brown/Black</td>\n",
       "      <td>2015-05-05</td>\n",
       "      <td>1</td>\n",
       "      <td>5</td>\n",
       "      <td>2015</td>\n",
       "      <td>0</td>\n",
       "      <td>0</td>\n",
       "    </tr>\n",
       "    <tr>\n",
       "      <th>26566</th>\n",
       "      <td>A706304</td>\n",
       "      <td>Mike</td>\n",
       "      <td>2015-07-06 00:00:00</td>\n",
       "      <td>Transfer</td>\n",
       "      <td>Partner</td>\n",
       "      <td>Cat</td>\n",
       "      <td>Intact Male</td>\n",
       "      <td>2 months</td>\n",
       "      <td>Domestic Shorthair Mix</td>\n",
       "      <td>Orange Tabby</td>\n",
       "      <td>2015-07-06</td>\n",
       "      <td>0</td>\n",
       "      <td>7</td>\n",
       "      <td>2015</td>\n",
       "      <td>0</td>\n",
       "      <td>0</td>\n",
       "    </tr>\n",
       "    <tr>\n",
       "      <th>26575</th>\n",
       "      <td>A707571</td>\n",
       "      <td>Mason</td>\n",
       "      <td>2015-08-03 00:00:00</td>\n",
       "      <td>Transfer</td>\n",
       "      <td>Partner</td>\n",
       "      <td>Cat</td>\n",
       "      <td>Neutered Male</td>\n",
       "      <td>2 years</td>\n",
       "      <td>Domestic Longhair Mix</td>\n",
       "      <td>Brown Tabby/White</td>\n",
       "      <td>2015-08-03</td>\n",
       "      <td>0</td>\n",
       "      <td>8</td>\n",
       "      <td>2015</td>\n",
       "      <td>0</td>\n",
       "      <td>0</td>\n",
       "    </tr>\n",
       "    <tr>\n",
       "      <th>26616</th>\n",
       "      <td>A696346</td>\n",
       "      <td>Valentine</td>\n",
       "      <td>2015-02-09 00:00:00</td>\n",
       "      <td>Transfer</td>\n",
       "      <td>Partner</td>\n",
       "      <td>Dog</td>\n",
       "      <td>Intact Female</td>\n",
       "      <td>3 years</td>\n",
       "      <td>Havanese Mix</td>\n",
       "      <td>White/Gray</td>\n",
       "      <td>2015-02-09</td>\n",
       "      <td>0</td>\n",
       "      <td>2</td>\n",
       "      <td>2015</td>\n",
       "      <td>0</td>\n",
       "      <td>0</td>\n",
       "    </tr>\n",
       "    <tr>\n",
       "      <th>26709</th>\n",
       "      <td>A714386</td>\n",
       "      <td>unknown</td>\n",
       "      <td>2015-10-24 00:00:00</td>\n",
       "      <td>Adoption</td>\n",
       "      <td>NaN</td>\n",
       "      <td>Dog</td>\n",
       "      <td>Spayed Female</td>\n",
       "      <td>1 month</td>\n",
       "      <td>Chihuahua Shorthair Mix</td>\n",
       "      <td>Sable/Buff</td>\n",
       "      <td>2015-10-24</td>\n",
       "      <td>5</td>\n",
       "      <td>10</td>\n",
       "      <td>2015</td>\n",
       "      <td>0</td>\n",
       "      <td>0</td>\n",
       "    </tr>\n",
       "  </tbody>\n",
       "</table>\n",
       "<p>375 rows × 16 columns</p>\n",
       "</div>"
      ],
      "text/plain": [
       "            id          name                 date          outcome  \\\n",
       "38     A702655          Mica  2015-08-11 00:00:00         Transfer   \n",
       "117    A713392         Basil  2015-11-05 00:00:00         Transfer   \n",
       "175    A710071          Herb  2015-09-01 00:00:00         Transfer   \n",
       "181    A716575       Scarlet  2015-12-22 00:00:00         Transfer   \n",
       "195    A683666       unknown  2015-09-01 00:00:00         Transfer   \n",
       "248    A709067       Earlene  2015-08-05 00:00:00  Return_to_owner   \n",
       "251    A720190  Little Missy  2016-02-07 00:00:00         Transfer   \n",
       "289    A714820        Lizzie  2015-11-05 00:00:00         Transfer   \n",
       "306    A716488       unknown  2015-11-23 00:00:00         Transfer   \n",
       "409    A716400      Calliope  2015-11-24 00:00:00         Transfer   \n",
       "627    A683817        Marvin  2016-02-07 00:00:00         Transfer   \n",
       "644    A700056        Alyssa  2015-05-31 00:00:00         Transfer   \n",
       "696    A668484        Mickey  2015-11-24 00:00:00         Transfer   \n",
       "769    A706565         Ducky  2015-07-02 00:00:00         Transfer   \n",
       "798    A709165       unknown  2015-08-11 00:00:00         Transfer   \n",
       "816    A622844       Squeaky  2016-01-31 00:00:00         Transfer   \n",
       "832    A720081       unknown  2016-02-15 00:00:00         Transfer   \n",
       "896    A702777       unknown  2015-05-17 00:00:00         Transfer   \n",
       "1039   A711514        Dakota  2015-10-17 00:00:00         Adoption   \n",
       "1084   A715218          Tyra  2015-11-17 00:00:00         Transfer   \n",
       "1087   A715618       unknown  2015-11-10 00:00:00         Transfer   \n",
       "1172   A713610         Poppi  2015-10-16 00:00:00         Transfer   \n",
       "1213   A700751         Gypsy  2015-07-02 00:00:00         Transfer   \n",
       "1295   A700035       unknown  2015-04-10 00:00:00         Transfer   \n",
       "1313   A719494       unknown  2016-01-22 00:00:00  Return_to_owner   \n",
       "1406   A484945       Johnnie  2015-05-31 00:00:00         Transfer   \n",
       "1411   A715280         Pauly  2015-11-08 00:00:00         Adoption   \n",
       "1551   A717994         Wilma  2016-01-05 00:00:00         Transfer   \n",
       "1640   A708175          Kiki  2015-08-23 00:00:00         Adoption   \n",
       "1757   A713852         Peach  2015-10-18 00:00:00         Adoption   \n",
       "...        ...           ...                  ...              ...   \n",
       "24494  A695070         David  2015-01-12 00:00:00  Return_to_owner   \n",
       "24660  A706871       unknown  2015-07-04 00:00:00         Transfer   \n",
       "24734  A719068         Marty  2016-01-31 00:00:00         Transfer   \n",
       "24764  A714259       unknown  2015-10-20 00:00:00         Transfer   \n",
       "24824  A714775          Mimi  2015-11-01 00:00:00         Transfer   \n",
       "24886  A711584         Kitty  2015-10-18 00:00:00         Adoption   \n",
       "24915  A701701        Cooper  2015-05-21 00:00:00         Transfer   \n",
       "25012  A720014     Rembrandt  2016-02-07 00:00:00         Transfer   \n",
       "25037  A715106      Ms Kitty  2015-11-11 00:00:00         Transfer   \n",
       "25073  A712534         Chiwa  2015-09-27 00:00:00  Return_to_owner   \n",
       "25175  A714510         Simon  2015-10-28 00:00:00         Transfer   \n",
       "25214  A699791       Jessica  2015-04-02 00:00:00         Transfer   \n",
       "25507  A702755         Oscar  2015-07-26 00:00:00         Adoption   \n",
       "25521  A708038        Archie  2015-08-01 00:00:00  Return_to_owner   \n",
       "25547  A703892     Opal Jane  2015-12-13 00:00:00         Transfer   \n",
       "25584  A658800       Houdini  2015-05-31 00:00:00         Transfer   \n",
       "25601  A668816         Bella  2015-12-22 00:00:00         Transfer   \n",
       "25870  A715635        Knight  2015-11-30 00:00:00         Transfer   \n",
       "25875  A709316       unknown  2015-08-11 00:00:00         Transfer   \n",
       "26020  A705930          Bleu  2015-09-11 00:00:00  Return_to_owner   \n",
       "26214  A714626         Marco  2015-11-17 00:00:00         Transfer   \n",
       "26263  A710134         Eddie  2015-08-30 00:00:00         Transfer   \n",
       "26387  A708667       Phantom  2015-08-03 00:00:00         Adoption   \n",
       "26472  A715556       unknown  2015-11-09 00:00:00         Transfer   \n",
       "26478  A710720         Honey  2015-12-08 00:00:00       Euthanasia   \n",
       "26526  A701313        Pancho  2015-05-05 00:00:00  Return_to_owner   \n",
       "26566  A706304          Mike  2015-07-06 00:00:00         Transfer   \n",
       "26575  A707571         Mason  2015-08-03 00:00:00         Transfer   \n",
       "26616  A696346     Valentine  2015-02-09 00:00:00         Transfer   \n",
       "26709  A714386       unknown  2015-10-24 00:00:00         Adoption   \n",
       "\n",
       "      outcome_info animal            sex        age  \\\n",
       "38         Partner    Cat  Neutered Male   4 months   \n",
       "117        Partner    Dog    Intact Male   3 months   \n",
       "175        Partner    Cat  Neutered Male   2 months   \n",
       "181        Partner    Dog  Spayed Female    2 years   \n",
       "195        Partner    Cat  Neutered Male     1 year   \n",
       "248            NaN    Dog  Intact Female   5 months   \n",
       "251        Partner    Dog  Spayed Female    7 years   \n",
       "289        Partner    Dog  Spayed Female   6 months   \n",
       "306        Partner    Dog  Neutered Male    2 years   \n",
       "409        Partner    Dog  Intact Female     1 year   \n",
       "627        Partner    Cat  Neutered Male     1 year   \n",
       "644        Partner    Dog  Spayed Female     1 year   \n",
       "696        Partner    Dog  Neutered Male    2 years   \n",
       "769        Partner    Cat  Neutered Male   3 months   \n",
       "798        Partner    Cat    Intact Male    3 weeks   \n",
       "816        Partner    Dog  Spayed Female    4 years   \n",
       "832        Partner    Dog    Intact Male    2 weeks   \n",
       "896        Partner    Dog        Unknown   5 months   \n",
       "1039        Foster    Dog  Spayed Female   2 months   \n",
       "1084       Partner    Cat  Spayed Female   3 months   \n",
       "1087       Partner    Dog    Intact Male    2 years   \n",
       "1172       Partner    Dog  Spayed Female     1 year   \n",
       "1213       Partner    Cat  Spayed Female   2 months   \n",
       "1295       Partner    Dog  Spayed Female     1 year   \n",
       "1313           NaN    Dog  Intact Female     1 year   \n",
       "1406       Partner    Cat  Neutered Male    7 years   \n",
       "1411           NaN    Dog  Neutered Male   2 months   \n",
       "1551       Partner    Dog  Spayed Female     1 year   \n",
       "1640           NaN    Cat  Spayed Female    1 month   \n",
       "1757           NaN    Cat  Intact Female   2 months   \n",
       "...            ...    ...            ...        ...   \n",
       "24494          NaN    Cat  Neutered Male     1 year   \n",
       "24660      Partner    Cat  Intact Female    4 weeks   \n",
       "24734      Partner    Dog  Neutered Male     1 year   \n",
       "24764      Partner    Cat        Unknown     1 week   \n",
       "24824      Partner    Dog  Spayed Female    2 years   \n",
       "24886          NaN    Cat    Intact Male   2 months   \n",
       "24915      Partner    Dog    Intact Male   5 months   \n",
       "25012      Partner    Dog    Intact Male  10 months   \n",
       "25037      Partner    Cat  Spayed Female    4 years   \n",
       "25073          NaN    Dog  Spayed Female     1 year   \n",
       "25175      Partner    Dog  Neutered Male     1 year   \n",
       "25214      Partner    Dog  Intact Female    4 weeks   \n",
       "25507          NaN    Cat  Neutered Male   2 months   \n",
       "25521          NaN    Dog  Neutered Male     1 year   \n",
       "25547      Partner    Dog  Intact Female   12 years   \n",
       "25584      Partner    Cat  Neutered Male     1 year   \n",
       "25601      Partner    Dog  Spayed Female    4 years   \n",
       "25870      Partner    Dog  Neutered Male    2 years   \n",
       "25875      Partner    Cat  Intact Female    3 weeks   \n",
       "26020          NaN    Dog  Spayed Female     1 year   \n",
       "26214      Partner    Cat  Neutered Male   2 months   \n",
       "26263      Partner    Dog  Neutered Male     1 year   \n",
       "26387          NaN    Dog  Neutered Male    6 years   \n",
       "26472      Partner    Cat  Intact Female   3 months   \n",
       "26478   Aggressive    Dog  Intact Female    2 years   \n",
       "26526          NaN    Dog  Neutered Male    8 years   \n",
       "26566      Partner    Cat    Intact Male   2 months   \n",
       "26575      Partner    Cat  Neutered Male    2 years   \n",
       "26616      Partner    Dog  Intact Female    3 years   \n",
       "26709          NaN    Dog  Spayed Female    1 month   \n",
       "\n",
       "                                            breed                color  \\\n",
       "38                         Domestic Shorthair Mix          Black/White   \n",
       "117                       Chihuahua Shorthair Mix          Black/White   \n",
       "175                        Domestic Shorthair Mix          White/Black   \n",
       "181                     Australian Cattle Dog Mix            Tan/White   \n",
       "195                        Domestic Shorthair Mix    White/Cream Tabby   \n",
       "248                                     Boxer Mix          Black/White   \n",
       "251                          Airedale Terrier Mix             Tricolor   \n",
       "289                               Plott Hound Mix        Brown Brindle   \n",
       "306                                  Pit Bull Mix                  Red   \n",
       "409                         Yorkshire Terrier Mix            Black/Tan   \n",
       "627                        Domestic Shorthair Mix   Orange Tabby/White   \n",
       "644                                  Pit Bull Mix        Brown Brindle   \n",
       "696                       Chihuahua Shorthair Mix            Black/Tan   \n",
       "769                        Domestic Shorthair Mix                Black   \n",
       "798                        Domestic Shorthair Mix           Blue Tabby   \n",
       "816    Jack Russell Terrier/Australian Cattle Dog          White/Black   \n",
       "832                        Labrador Retriever Mix             Tricolor   \n",
       "896                             Cairn Terrier Mix                  Tan   \n",
       "1039                    Australian Cattle Dog Mix     Blue Merle/White   \n",
       "1084                       Domestic Shorthair Mix               Tortie   \n",
       "1087     Cardigan Welsh Corgi/Chihuahua Shorthair                  Tan   \n",
       "1172             Labrador Retriever/Border Collie          Black/White   \n",
       "1213                       Domestic Shorthair Mix          Brown Tabby   \n",
       "1295                      Miniature Schnauzer Mix            Black/Tan   \n",
       "1313                           Siberian Husky Mix         Silver/Black   \n",
       "1406                       Domestic Shorthair Mix                Black   \n",
       "1411                       Labrador Retriever Mix             Tricolor   \n",
       "1551                                 Pit Bull Mix  White/Brown Brindle   \n",
       "1640                       Domestic Shorthair Mix          White/Black   \n",
       "1757                       Domestic Shorthair Mix   Orange Tabby/White   \n",
       "...                                           ...                  ...   \n",
       "24494                            Russian Blue Mix                 Blue   \n",
       "24660                      Domestic Shorthair Mix               Calico   \n",
       "24734                     Chihuahua Shorthair Mix                Brown   \n",
       "24764                      Domestic Shorthair Mix          Brown Tabby   \n",
       "24824                     Chihuahua Shorthair Mix            Black/Tan   \n",
       "24886                      Domestic Shorthair Mix          Black/White   \n",
       "24915             Miniature Poodle/Cocker Spaniel                 Gold   \n",
       "25012                         Anatol Shepherd Mix            Tan/White   \n",
       "25037                      Domestic Shorthair Mix           Blue/White   \n",
       "25073                     Chihuahua Shorthair Mix            White/Tan   \n",
       "25175                             Rat Terrier Mix          White/Black   \n",
       "25214                                    Shih Tzu                Black   \n",
       "25507                      Domestic Shorthair Mix   Orange Tabby/White   \n",
       "25521                         Black Mouth Cur Mix              Tan/Tan   \n",
       "25547                     Chihuahua Shorthair Mix          White/Brown   \n",
       "25584                    Domestic Medium Hair Mix           Blue/White   \n",
       "25601                      Miniature Pinscher Mix          Black/Brown   \n",
       "25870                   Australian Cattle Dog Mix                Black   \n",
       "25875                      Domestic Shorthair Mix               Torbie   \n",
       "26020                              Boxer/Pit Bull      Chocolate/White   \n",
       "26214                      Domestic Shorthair Mix          Black/White   \n",
       "26263                     Chihuahua Shorthair Mix          White/Black   \n",
       "26387                     Chihuahua Shorthair Mix                Black   \n",
       "26472                      Domestic Shorthair Mix                Black   \n",
       "26478                                Pit Bull Mix                  Tan   \n",
       "26526                              Rottweiler Mix          Brown/Black   \n",
       "26566                      Domestic Shorthair Mix         Orange Tabby   \n",
       "26575                       Domestic Longhair Mix    Brown Tabby/White   \n",
       "26616                                Havanese Mix           White/Gray   \n",
       "26709                     Chihuahua Shorthair Mix           Sable/Buff   \n",
       "\n",
       "        datetime  day  month  year  hour  minutes  \n",
       "38    2015-08-11    1      8  2015     0        0  \n",
       "117   2015-11-05    3     11  2015     0        0  \n",
       "175   2015-09-01    1      9  2015     0        0  \n",
       "181   2015-12-22    1     12  2015     0        0  \n",
       "195   2015-09-01    1      9  2015     0        0  \n",
       "248   2015-08-05    2      8  2015     0        0  \n",
       "251   2016-02-07    6      2  2016     0        0  \n",
       "289   2015-11-05    3     11  2015     0        0  \n",
       "306   2015-11-23    0     11  2015     0        0  \n",
       "409   2015-11-24    1     11  2015     0        0  \n",
       "627   2016-02-07    6      2  2016     0        0  \n",
       "644   2015-05-31    6      5  2015     0        0  \n",
       "696   2015-11-24    1     11  2015     0        0  \n",
       "769   2015-07-02    3      7  2015     0        0  \n",
       "798   2015-08-11    1      8  2015     0        0  \n",
       "816   2016-01-31    6      1  2016     0        0  \n",
       "832   2016-02-15    0      2  2016     0        0  \n",
       "896   2015-05-17    6      5  2015     0        0  \n",
       "1039  2015-10-17    5     10  2015     0        0  \n",
       "1084  2015-11-17    1     11  2015     0        0  \n",
       "1087  2015-11-10    1     11  2015     0        0  \n",
       "1172  2015-10-16    4     10  2015     0        0  \n",
       "1213  2015-07-02    3      7  2015     0        0  \n",
       "1295  2015-04-10    4      4  2015     0        0  \n",
       "1313  2016-01-22    4      1  2016     0        0  \n",
       "1406  2015-05-31    6      5  2015     0        0  \n",
       "1411  2015-11-08    6     11  2015     0        0  \n",
       "1551  2016-01-05    1      1  2016     0        0  \n",
       "1640  2015-08-23    6      8  2015     0        0  \n",
       "1757  2015-10-18    6     10  2015     0        0  \n",
       "...          ...  ...    ...   ...   ...      ...  \n",
       "24494 2015-01-12    0      1  2015     0        0  \n",
       "24660 2015-07-04    5      7  2015     0        0  \n",
       "24734 2016-01-31    6      1  2016     0        0  \n",
       "24764 2015-10-20    1     10  2015     0        0  \n",
       "24824 2015-11-01    6     11  2015     0        0  \n",
       "24886 2015-10-18    6     10  2015     0        0  \n",
       "24915 2015-05-21    3      5  2015     0        0  \n",
       "25012 2016-02-07    6      2  2016     0        0  \n",
       "25037 2015-11-11    2     11  2015     0        0  \n",
       "25073 2015-09-27    6      9  2015     0        0  \n",
       "25175 2015-10-28    2     10  2015     0        0  \n",
       "25214 2015-04-02    3      4  2015     0        0  \n",
       "25507 2015-07-26    6      7  2015     0        0  \n",
       "25521 2015-08-01    5      8  2015     0        0  \n",
       "25547 2015-12-13    6     12  2015     0        0  \n",
       "25584 2015-05-31    6      5  2015     0        0  \n",
       "25601 2015-12-22    1     12  2015     0        0  \n",
       "25870 2015-11-30    0     11  2015     0        0  \n",
       "25875 2015-08-11    1      8  2015     0        0  \n",
       "26020 2015-09-11    4      9  2015     0        0  \n",
       "26214 2015-11-17    1     11  2015     0        0  \n",
       "26263 2015-08-30    6      8  2015     0        0  \n",
       "26387 2015-08-03    0      8  2015     0        0  \n",
       "26472 2015-11-09    0     11  2015     0        0  \n",
       "26478 2015-12-08    1     12  2015     0        0  \n",
       "26526 2015-05-05    1      5  2015     0        0  \n",
       "26566 2015-07-06    0      7  2015     0        0  \n",
       "26575 2015-08-03    0      8  2015     0        0  \n",
       "26616 2015-02-09    0      2  2015     0        0  \n",
       "26709 2015-10-24    5     10  2015     0        0  \n",
       "\n",
       "[375 rows x 16 columns]"
      ]
     },
     "execution_count": 35,
     "metadata": {},
     "output_type": "execute_result"
    }
   ],
   "source": [
    "animals[(animals['hour']==0) & (animals['minutes']==0)]"
   ]
  },
  {
   "cell_type": "code",
   "execution_count": 36,
   "metadata": {
    "collapsed": false,
    "deletable": true,
    "editable": true
   },
   "outputs": [
    {
     "data": {
      "text/plain": [
       "(375, 16)"
      ]
     },
     "execution_count": 36,
     "metadata": {},
     "output_type": "execute_result"
    }
   ],
   "source": [
    "animals[(animals['hour']==0) & (animals['minutes']==0)].shape"
   ]
  },
  {
   "cell_type": "code",
   "execution_count": 37,
   "metadata": {
    "collapsed": false,
    "deletable": true,
    "editable": true
   },
   "outputs": [
    {
     "data": {
      "text/plain": [
       "Dog    15595\n",
       "Cat    11134\n",
       "Name: animal, dtype: int64"
      ]
     },
     "execution_count": 37,
     "metadata": {},
     "output_type": "execute_result"
    }
   ],
   "source": [
    "animals.animal.value_counts(dropna=False)"
   ]
  },
  {
   "cell_type": "code",
   "execution_count": 38,
   "metadata": {
    "collapsed": false,
    "deletable": true,
    "editable": true
   },
   "outputs": [
    {
     "data": {
      "text/plain": [
       "Adoption           10769\n",
       "Transfer            9422\n",
       "Return_to_owner     4786\n",
       "Euthanasia          1555\n",
       "Died                 197\n",
       "Name: outcome, dtype: int64"
      ]
     },
     "execution_count": 38,
     "metadata": {},
     "output_type": "execute_result"
    }
   ],
   "source": [
    "animals.outcome.value_counts(dropna=False)"
   ]
  },
  {
   "cell_type": "code",
   "execution_count": 39,
   "metadata": {
    "collapsed": false,
    "deletable": true,
    "editable": true,
    "scrolled": false
   },
   "outputs": [
    {
     "data": {
      "text/plain": [
       "NaN                    13612\n",
       "Partner                 7816\n",
       "Foster                  1800\n",
       "SCRP                    1599\n",
       "Suffering               1002\n",
       "Aggressive               320\n",
       "Offsite                  165\n",
       "In Kennel                114\n",
       "Behavior                  86\n",
       "Rabies Risk               74\n",
       "Medical                   66\n",
       "In Foster                 52\n",
       "Enroute                    8\n",
       "Court/Investigation        6\n",
       "At Vet                     4\n",
       "In Surgery                 3\n",
       "Barn                       2\n",
       "Name: outcome_info, dtype: int64"
      ]
     },
     "execution_count": 39,
     "metadata": {},
     "output_type": "execute_result"
    }
   ],
   "source": [
    "animals.outcome_info.value_counts(dropna=False)"
   ]
  },
  {
   "cell_type": "code",
   "execution_count": 51,
   "metadata": {
    "collapsed": false
   },
   "outputs": [
    {
     "data": {
      "text/plain": [
       "outcome     outcome_info       \n",
       "Adoption    Barn                      1\n",
       "            Foster                 1800\n",
       "            Offsite                 165\n",
       "Died        Enroute                   8\n",
       "            Foster                   52\n",
       "            In Kennel               114\n",
       "            Medical                   7\n",
       "Euthanasia  Behavior                406\n",
       "            Court/Investigation       6\n",
       "            Medical                  66\n",
       "            Rabies Risk              74\n",
       "            Suffering              1002\n",
       "Transfer    Barn                      1\n",
       "            Partner                7816\n",
       "            SCRP                   1599\n",
       "Name: id, dtype: int64"
      ]
     },
     "execution_count": 51,
     "metadata": {},
     "output_type": "execute_result"
    }
   ],
   "source": [
    "animals['id'].groupby([animals['outcome'], animals['outcome_info']]).count()"
   ]
  },
  {
   "cell_type": "code",
   "execution_count": 40,
   "metadata": {
    "collapsed": false
   },
   "outputs": [],
   "source": [
    "def outcome_info_cleanup(orginal='original', new='new'):\n",
    "    animals.outcome_info = animals.outcome_info.str.replace(orginal, new)\n",
    "    return len(animals[animals['outcome_info'] == new])"
   ]
  },
  {
   "cell_type": "code",
   "execution_count": 42,
   "metadata": {
    "collapsed": false
   },
   "outputs": [
    {
     "data": {
      "text/plain": [
       "406"
      ]
     },
     "execution_count": 42,
     "metadata": {},
     "output_type": "execute_result"
    }
   ],
   "source": [
    "outcome_info_cleanup(orginal='Aggressive', new='Behavior')"
   ]
  },
  {
   "cell_type": "code",
   "execution_count": 43,
   "metadata": {
    "collapsed": false
   },
   "outputs": [
    {
     "data": {
      "text/plain": [
       "1852"
      ]
     },
     "execution_count": 43,
     "metadata": {},
     "output_type": "execute_result"
    }
   ],
   "source": [
    "outcome_info_cleanup(orginal='In Foster', new='Foster')"
   ]
  },
  {
   "cell_type": "code",
   "execution_count": 44,
   "metadata": {
    "collapsed": false,
    "deletable": true,
    "editable": true
   },
   "outputs": [
    {
     "data": {
      "text/plain": [
       "70"
      ]
     },
     "execution_count": 44,
     "metadata": {},
     "output_type": "execute_result"
    }
   ],
   "source": [
    "outcome_info_cleanup(orginal='At Vet', new='Medical')"
   ]
  },
  {
   "cell_type": "code",
   "execution_count": 45,
   "metadata": {
    "collapsed": false
   },
   "outputs": [
    {
     "data": {
      "text/plain": [
       "73"
      ]
     },
     "execution_count": 45,
     "metadata": {},
     "output_type": "execute_result"
    }
   ],
   "source": [
    "outcome_info_cleanup(orginal='In Surgery', new='Medical')"
   ]
  },
  {
   "cell_type": "code",
   "execution_count": 47,
   "metadata": {
    "collapsed": false,
    "deletable": true,
    "editable": true
   },
   "outputs": [
    {
     "data": {
      "text/plain": [
       "NaN                    13612\n",
       "Partner                 7816\n",
       "Foster                  1852\n",
       "SCRP                    1599\n",
       "Suffering               1002\n",
       "Behavior                 406\n",
       "Offsite                  165\n",
       "In Kennel                114\n",
       "Rabies Risk               74\n",
       "Medical                   73\n",
       "Enroute                    8\n",
       "Court/Investigation        6\n",
       "Barn                       2\n",
       "Name: outcome_info, dtype: int64"
      ]
     },
     "execution_count": 47,
     "metadata": {},
     "output_type": "execute_result"
    }
   ],
   "source": [
    "animals.outcome_info.value_counts(dropna=False)"
   ]
  },
  {
   "cell_type": "code",
   "execution_count": 45,
   "metadata": {
    "collapsed": false,
    "deletable": true,
    "editable": true,
    "scrolled": false
   },
   "outputs": [
    {
     "data": {
      "text/plain": [
       "Index(['id', 'name', 'date', 'outcome', 'outcome_info', 'animal', 'sex', 'age',\n",
       "       'breed', 'color', 'datetime', 'day', 'month', 'year', 'hour',\n",
       "       'minutes'],\n",
       "      dtype='object')"
      ]
     },
     "execution_count": 45,
     "metadata": {},
     "output_type": "execute_result"
    }
   ],
   "source": [
    "animals.columns"
   ]
  },
  {
   "cell_type": "code",
   "execution_count": 46,
   "metadata": {
    "collapsed": false,
    "deletable": true,
    "editable": true
   },
   "outputs": [
    {
     "data": {
      "text/plain": [
       "Neutered Male    9779\n",
       "Spayed Female    8820\n",
       "Intact Male      3525\n",
       "Intact Female    3511\n",
       "Unknown          1093\n",
       "Name: sex, dtype: int64"
      ]
     },
     "execution_count": 46,
     "metadata": {},
     "output_type": "execute_result"
    }
   ],
   "source": [
    "animals.sex.value_counts(dropna=True)"
   ]
  },
  {
   "cell_type": "code",
   "execution_count": 47,
   "metadata": {
    "collapsed": false,
    "deletable": true,
    "editable": true
   },
   "outputs": [
    {
     "data": {
      "text/plain": [
       "1380"
      ]
     },
     "execution_count": 47,
     "metadata": {},
     "output_type": "execute_result"
    }
   ],
   "source": [
    "len(animals.breed.value_counts(dropna=True))"
   ]
  },
  {
   "cell_type": "code",
   "execution_count": 48,
   "metadata": {
    "collapsed": false,
    "deletable": true,
    "editable": true,
    "scrolled": true
   },
   "outputs": [
    {
     "data": {
      "text/plain": [
       "366"
      ]
     },
     "execution_count": 48,
     "metadata": {},
     "output_type": "execute_result"
    }
   ],
   "source": [
    "len(animals.color.value_counts(dropna=True))"
   ]
  },
  {
   "cell_type": "code",
   "execution_count": 49,
   "metadata": {
    "collapsed": false,
    "deletable": true,
    "editable": true
   },
   "outputs": [
    {
     "data": {
      "text/plain": [
       "unknown     7691\n",
       "Max          136\n",
       "Bella        135\n",
       "Charlie      107\n",
       "Daisy        106\n",
       "Lucy          94\n",
       "Buddy         87\n",
       "Princess      86\n",
       "Rocky         85\n",
       "Luna          68\n",
       "Name: name, dtype: int64"
      ]
     },
     "execution_count": 49,
     "metadata": {},
     "output_type": "execute_result"
    }
   ],
   "source": [
    "animals.name.value_counts().head(10)"
   ]
  },
  {
   "cell_type": "code",
   "execution_count": 50,
   "metadata": {
    "collapsed": false,
    "deletable": true,
    "editable": true
   },
   "outputs": [
    {
     "data": {
      "text/plain": [
       "(26729, 16)"
      ]
     },
     "execution_count": 50,
     "metadata": {},
     "output_type": "execute_result"
    }
   ],
   "source": [
    "animals.shape"
   ]
  },
  {
   "cell_type": "code",
   "execution_count": 51,
   "metadata": {
    "collapsed": false,
    "deletable": true,
    "editable": true
   },
   "outputs": [],
   "source": [
    "import plotly.plotly as py\n",
    "import plotly.graph_objs as go"
   ]
  },
  {
   "cell_type": "code",
   "execution_count": 52,
   "metadata": {
    "collapsed": false,
    "deletable": true,
    "editable": true
   },
   "outputs": [
    {
     "name": "stdout",
     "output_type": "stream",
     "text": [
      "0.8.2\n"
     ]
    }
   ],
   "source": [
    "import cufflinks as cf\n",
    "print (cf.__version__)"
   ]
  },
  {
   "cell_type": "code",
   "execution_count": 53,
   "metadata": {
    "collapsed": false,
    "deletable": true,
    "editable": true
   },
   "outputs": [
    {
     "data": {
      "text/plain": [
       "Index(['id', 'name', 'date', 'outcome', 'outcome_info', 'animal', 'sex', 'age',\n",
       "       'breed', 'color', 'datetime', 'day', 'month', 'year', 'hour',\n",
       "       'minutes'],\n",
       "      dtype='object')"
      ]
     },
     "execution_count": 53,
     "metadata": {},
     "output_type": "execute_result"
    }
   ],
   "source": [
    "animals.columns"
   ]
  },
  {
   "cell_type": "code",
   "execution_count": 54,
   "metadata": {
    "collapsed": false,
    "deletable": true,
    "editable": true
   },
   "outputs": [
    {
     "data": {
      "text/plain": [
       "Neutered Male    9779\n",
       "Spayed Female    8820\n",
       "Intact Male      3525\n",
       "Intact Female    3511\n",
       "Unknown          1093\n",
       "Name: sex, dtype: int64"
      ]
     },
     "execution_count": 54,
     "metadata": {},
     "output_type": "execute_result"
    }
   ],
   "source": [
    "animals.sex.value_counts()"
   ]
  },
  {
   "cell_type": "markdown",
   "metadata": {
    "deletable": true,
    "editable": true
   },
   "source": [
    "## TO DO: explore other plot types & colors...\n",
    "- ie boxplots?\n",
    "- regplot, lmplot (logistic regression plot from seaborn?)"
   ]
  },
  {
   "cell_type": "code",
   "execution_count": 56,
   "metadata": {
    "collapsed": false,
    "deletable": true,
    "editable": true,
    "scrolled": false
   },
   "outputs": [
    {
     "data": {
      "text/html": [
       "<iframe id=\"igraph\" scrolling=\"no\" style=\"border:none;\" seamless=\"seamless\" src=\"https://plot.ly/~vnessified/8.embed\" height=\"525px\" width=\"100%\"></iframe>"
      ],
      "text/plain": [
       "<plotly.tools.PlotlyDisplay object>"
      ]
     },
     "execution_count": 56,
     "metadata": {},
     "output_type": "execute_result"
    }
   ],
   "source": [
    "animals['sex'].value_counts().iplot(kind='bar', yTitle='Sex', title='Animal sex',)"
   ]
  },
  {
   "cell_type": "code",
   "execution_count": 55,
   "metadata": {
    "collapsed": false,
    "deletable": true,
    "editable": true,
    "scrolled": true
   },
   "outputs": [
    {
     "data": {
      "text/html": [
       "<iframe id=\"igraph\" scrolling=\"no\" style=\"border:none;\" seamless=\"seamless\" src=\"https://plot.ly/~vnessified/6.embed\" height=\"525px\" width=\"100%\"></iframe>"
      ],
      "text/plain": [
       "<plotly.tools.PlotlyDisplay object>"
      ]
     },
     "execution_count": 55,
     "metadata": {},
     "output_type": "execute_result"
    }
   ],
   "source": [
    "animals['name'].value_counts()[:20].iplot(kind='bar', yTitle='Name Frequency', title='Animal names',)"
   ]
  },
  {
   "cell_type": "code",
   "execution_count": 57,
   "metadata": {
    "collapsed": false,
    "deletable": true,
    "editable": true
   },
   "outputs": [
    {
     "data": {
      "text/html": [
       "<iframe id=\"igraph\" scrolling=\"no\" style=\"border:none;\" seamless=\"seamless\" src=\"https://plot.ly/~vnessified/10.embed\" height=\"525px\" width=\"100%\"></iframe>"
      ],
      "text/plain": [
       "<plotly.tools.PlotlyDisplay object>"
      ]
     },
     "execution_count": 57,
     "metadata": {},
     "output_type": "execute_result"
    }
   ],
   "source": [
    "animals['outcome'].value_counts().iplot(kind='bar', yTitle='Outcomes', title='Animal outcomes',)"
   ]
  },
  {
   "cell_type": "code",
   "execution_count": 59,
   "metadata": {
    "collapsed": false,
    "deletable": true,
    "editable": true
   },
   "outputs": [
    {
     "data": {
      "text/html": [
       "<iframe id=\"igraph\" scrolling=\"no\" style=\"border:none;\" seamless=\"seamless\" src=\"https://plot.ly/~vnessified/12.embed\" height=\"525px\" width=\"100%\"></iframe>"
      ],
      "text/plain": [
       "<plotly.tools.PlotlyDisplay object>"
      ]
     },
     "execution_count": 59,
     "metadata": {},
     "output_type": "execute_result"
    }
   ],
   "source": [
    "# subset/group by dog vs cat\n",
    "animals['breed'].value_counts().iplot(kind='bar', yTitle='Breeds', title='Animal Breeds')"
   ]
  },
  {
   "cell_type": "code",
   "execution_count": 60,
   "metadata": {
    "collapsed": false,
    "deletable": true,
    "editable": true
   },
   "outputs": [
    {
     "data": {
      "text/html": [
       "<iframe id=\"igraph\" scrolling=\"no\" style=\"border:none;\" seamless=\"seamless\" src=\"https://plot.ly/~vnessified/14.embed\" height=\"525px\" width=\"100%\"></iframe>"
      ],
      "text/plain": [
       "<plotly.tools.PlotlyDisplay object>"
      ]
     },
     "execution_count": 60,
     "metadata": {},
     "output_type": "execute_result"
    }
   ],
   "source": [
    "# subset/group by dog vs cat\n",
    "animals['color'].value_counts().iplot(kind='bar', yTitle='Color of coat', title='Animal coat colors')"
   ]
  },
  {
   "cell_type": "code",
   "execution_count": null,
   "metadata": {
    "collapsed": true,
    "deletable": true,
    "editable": true
   },
   "outputs": [],
   "source": []
  }
 ],
 "metadata": {
  "kernelspec": {
   "display_name": "Python 3",
   "language": "python",
   "name": "python3"
  },
  "language_info": {
   "codemirror_mode": {
    "name": "ipython",
    "version": 3
   },
   "file_extension": ".py",
   "mimetype": "text/x-python",
   "name": "python",
   "nbconvert_exporter": "python",
   "pygments_lexer": "ipython3",
   "version": "3.6.0"
  }
 },
 "nbformat": 4,
 "nbformat_minor": 2
}
